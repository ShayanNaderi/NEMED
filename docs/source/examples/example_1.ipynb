{
 "cells": [
  {
   "cell_type": "markdown",
   "metadata": {
    "mystnb": {
     "nb_execution_mode": "off"
    }
   },
   "source": [
    "# Total & Average Emissions\n",
    "**Comparing the results of NEMED to AEMO CDEII Reporting**<br>\n",
    "Using the package <code>nemed</code> to calculate daily total NEM emissions, and average emissions (or emissions intensity) over a historical period."
   ]
  },
  {
   "cell_type": "markdown",
   "metadata": {},
   "source": [
    "### Data Preparation\n",
    "#### Import Packages"
   ]
  },
  {
   "cell_type": "code",
   "execution_count": 2,
   "metadata": {},
   "outputs": [],
   "source": [
    "import nemed\n",
    "from nemed.downloader import download_current_aemo_cdeii_summary\n",
    "\n",
    "# To generate plots shown\n",
    "import pandas as pd\n",
    "import numpy as np\n",
    "import plotly.graph_objects as go\n",
    "import plotly.express as px\n",
    "from plotly.subplots import make_subplots"
   ]
  },
  {
   "cell_type": "code",
   "execution_count": 3,
   "metadata": {},
   "outputs": [],
   "source": [
    "# Open plot in browser (optional)\n",
    "import plotly.io as pio\n",
    "pio.renderers.default = \"browser\""
   ]
  },
  {
   "cell_type": "markdown",
   "metadata": {},
   "source": [
    "#### Define Parameters"
   ]
  },
  {
   "cell_type": "code",
   "execution_count": 4,
   "metadata": {},
   "outputs": [],
   "source": [
    "cache = \"E:/TEMPCACHE/\" # Set this to an existing empty folder or leave as \"\"\n",
    "                        # to create a new cache folder\n",
    "start_time = \"2019/07/01 00:00:00\" # Define the start of the historical period.\n",
    "end_time = \"2020/07/01 00:00:00\" # Define the end of the historical period.\n",
    "filter_units = None # List DUIDs if you only require data for specific units.\n",
    "filter_regions = None # List regions if you only require data for such."
   ]
  },
  {
   "cell_type": "markdown",
   "metadata": {},
   "source": [
    "#### Get data using NEMED"
   ]
  },
  {
   "cell_type": "code",
   "execution_count": 5,
   "metadata": {},
   "outputs": [
    {
     "name": "stdout",
     "output_type": "stream",
     "text": [
      "Compiling data for table DISPATCH_UNIT_SCADA.\n",
      "Returning DISPATCH_UNIT_SCADA.\n",
      "Retrieving static table Generators and Scheduled Loads.\n",
      "Empty DataFrame\n",
      "Columns: [Time, DUID, Dispatch]\n",
      "Index: []\n"
     ]
    }
   ],
   "source": [
    "result = nemed.get_total_emissions(start_time, end_time, cache, filter_regions,\n",
    "                                   by=\"day\", generation_sent_out=True, assume_ramp=True)"
   ]
  },
  {
   "cell_type": "markdown",
   "metadata": {},
   "source": [
    "##### Sent Out Energy Generation"
   ]
  },
  {
   "cell_type": "code",
   "execution_count": 6,
   "metadata": {},
   "outputs": [
    {
     "data": {
      "text/html": [
       "<div>\n",
       "<style scoped>\n",
       "    .dataframe tbody tr th:only-of-type {\n",
       "        vertical-align: middle;\n",
       "    }\n",
       "\n",
       "    .dataframe tbody tr th {\n",
       "        vertical-align: top;\n",
       "    }\n",
       "\n",
       "    .dataframe thead th {\n",
       "        text-align: right;\n",
       "    }\n",
       "</style>\n",
       "<table border=\"1\" class=\"dataframe\">\n",
       "  <thead>\n",
       "    <tr style=\"text-align: right;\">\n",
       "      <th>REGIONID</th>\n",
       "      <th>NSW1</th>\n",
       "      <th>QLD1</th>\n",
       "      <th>SA1</th>\n",
       "      <th>TAS1</th>\n",
       "      <th>VIC1</th>\n",
       "    </tr>\n",
       "    <tr>\n",
       "      <th>Time</th>\n",
       "      <th></th>\n",
       "      <th></th>\n",
       "      <th></th>\n",
       "      <th></th>\n",
       "      <th></th>\n",
       "    </tr>\n",
       "  </thead>\n",
       "  <tbody>\n",
       "    <tr>\n",
       "      <th>2019-07-01</th>\n",
       "      <td>188475.94</td>\n",
       "      <td>140237.70</td>\n",
       "      <td>42781.74</td>\n",
       "      <td>34422.89</td>\n",
       "      <td>128347.96</td>\n",
       "    </tr>\n",
       "    <tr>\n",
       "      <th>2019-07-02</th>\n",
       "      <td>191894.52</td>\n",
       "      <td>148292.08</td>\n",
       "      <td>30292.71</td>\n",
       "      <td>37466.29</td>\n",
       "      <td>128037.03</td>\n",
       "    </tr>\n",
       "    <tr>\n",
       "      <th>2019-07-03</th>\n",
       "      <td>195915.71</td>\n",
       "      <td>147842.50</td>\n",
       "      <td>32382.99</td>\n",
       "      <td>36772.20</td>\n",
       "      <td>120738.97</td>\n",
       "    </tr>\n",
       "    <tr>\n",
       "      <th>2019-07-04</th>\n",
       "      <td>190172.49</td>\n",
       "      <td>146418.21</td>\n",
       "      <td>40759.82</td>\n",
       "      <td>34460.97</td>\n",
       "      <td>119740.63</td>\n",
       "    </tr>\n",
       "    <tr>\n",
       "      <th>2019-07-05</th>\n",
       "      <td>184955.61</td>\n",
       "      <td>148981.39</td>\n",
       "      <td>42738.62</td>\n",
       "      <td>33594.55</td>\n",
       "      <td>117475.22</td>\n",
       "    </tr>\n",
       "    <tr>\n",
       "      <th>...</th>\n",
       "      <td>...</td>\n",
       "      <td>...</td>\n",
       "      <td>...</td>\n",
       "      <td>...</td>\n",
       "      <td>...</td>\n",
       "    </tr>\n",
       "    <tr>\n",
       "      <th>2020-06-26</th>\n",
       "      <td>187235.77</td>\n",
       "      <td>151978.74</td>\n",
       "      <td>26540.36</td>\n",
       "      <td>42658.39</td>\n",
       "      <td>124699.02</td>\n",
       "    </tr>\n",
       "    <tr>\n",
       "      <th>2020-06-27</th>\n",
       "      <td>177392.39</td>\n",
       "      <td>140081.19</td>\n",
       "      <td>27082.23</td>\n",
       "      <td>38169.58</td>\n",
       "      <td>115306.83</td>\n",
       "    </tr>\n",
       "    <tr>\n",
       "      <th>2020-06-28</th>\n",
       "      <td>172693.11</td>\n",
       "      <td>144011.89</td>\n",
       "      <td>28869.30</td>\n",
       "      <td>38397.33</td>\n",
       "      <td>115175.96</td>\n",
       "    </tr>\n",
       "    <tr>\n",
       "      <th>2020-06-29</th>\n",
       "      <td>183692.30</td>\n",
       "      <td>146399.79</td>\n",
       "      <td>43967.86</td>\n",
       "      <td>39155.38</td>\n",
       "      <td>126557.69</td>\n",
       "    </tr>\n",
       "    <tr>\n",
       "      <th>2020-06-30</th>\n",
       "      <td>179537.21</td>\n",
       "      <td>144917.28</td>\n",
       "      <td>39185.33</td>\n",
       "      <td>33023.66</td>\n",
       "      <td>142387.39</td>\n",
       "    </tr>\n",
       "  </tbody>\n",
       "</table>\n",
       "<p>366 rows × 5 columns</p>\n",
       "</div>"
      ],
      "text/plain": [
       "REGIONID         NSW1       QLD1       SA1      TAS1       VIC1\n",
       "Time                                                           \n",
       "2019-07-01  188475.94  140237.70  42781.74  34422.89  128347.96\n",
       "2019-07-02  191894.52  148292.08  30292.71  37466.29  128037.03\n",
       "2019-07-03  195915.71  147842.50  32382.99  36772.20  120738.97\n",
       "2019-07-04  190172.49  146418.21  40759.82  34460.97  119740.63\n",
       "2019-07-05  184955.61  148981.39  42738.62  33594.55  117475.22\n",
       "...               ...        ...       ...       ...        ...\n",
       "2020-06-26  187235.77  151978.74  26540.36  42658.39  124699.02\n",
       "2020-06-27  177392.39  140081.19  27082.23  38169.58  115306.83\n",
       "2020-06-28  172693.11  144011.89  28869.30  38397.33  115175.96\n",
       "2020-06-29  183692.30  146399.79  43967.86  39155.38  126557.69\n",
       "2020-06-30  179537.21  144917.28  39185.33  33023.66  142387.39\n",
       "\n",
       "[366 rows x 5 columns]"
      ]
     },
     "execution_count": 6,
     "metadata": {},
     "output_type": "execute_result"
    }
   ],
   "source": [
    "energy = result['Energy']\n",
    "energy"
   ]
  },
  {
   "cell_type": "markdown",
   "metadata": {},
   "source": [
    "##### Total Emissions"
   ]
  },
  {
   "cell_type": "code",
   "execution_count": 7,
   "metadata": {},
   "outputs": [
    {
     "data": {
      "text/html": [
       "<div>\n",
       "<style scoped>\n",
       "    .dataframe tbody tr th:only-of-type {\n",
       "        vertical-align: middle;\n",
       "    }\n",
       "\n",
       "    .dataframe tbody tr th {\n",
       "        vertical-align: top;\n",
       "    }\n",
       "\n",
       "    .dataframe thead th {\n",
       "        text-align: right;\n",
       "    }\n",
       "</style>\n",
       "<table border=\"1\" class=\"dataframe\">\n",
       "  <thead>\n",
       "    <tr style=\"text-align: right;\">\n",
       "      <th>REGIONID</th>\n",
       "      <th>NSW1</th>\n",
       "      <th>QLD1</th>\n",
       "      <th>SA1</th>\n",
       "      <th>TAS1</th>\n",
       "      <th>VIC1</th>\n",
       "    </tr>\n",
       "    <tr>\n",
       "      <th>Time</th>\n",
       "      <th></th>\n",
       "      <th></th>\n",
       "      <th></th>\n",
       "      <th></th>\n",
       "      <th></th>\n",
       "    </tr>\n",
       "  </thead>\n",
       "  <tbody>\n",
       "    <tr>\n",
       "      <th>2019-07-01</th>\n",
       "      <td>156717.63</td>\n",
       "      <td>111057.75</td>\n",
       "      <td>7565.50</td>\n",
       "      <td>210.41</td>\n",
       "      <td>111884.39</td>\n",
       "    </tr>\n",
       "    <tr>\n",
       "      <th>2019-07-02</th>\n",
       "      <td>157130.76</td>\n",
       "      <td>118896.81</td>\n",
       "      <td>11346.85</td>\n",
       "      <td>566.65</td>\n",
       "      <td>120742.80</td>\n",
       "    </tr>\n",
       "    <tr>\n",
       "      <th>2019-07-03</th>\n",
       "      <td>158038.41</td>\n",
       "      <td>118374.61</td>\n",
       "      <td>12280.44</td>\n",
       "      <td>728.65</td>\n",
       "      <td>123418.79</td>\n",
       "    </tr>\n",
       "    <tr>\n",
       "      <th>2019-07-04</th>\n",
       "      <td>150211.49</td>\n",
       "      <td>118749.86</td>\n",
       "      <td>9343.21</td>\n",
       "      <td>216.28</td>\n",
       "      <td>117846.72</td>\n",
       "    </tr>\n",
       "    <tr>\n",
       "      <th>2019-07-05</th>\n",
       "      <td>142058.27</td>\n",
       "      <td>120173.60</td>\n",
       "      <td>8905.54</td>\n",
       "      <td>367.48</td>\n",
       "      <td>116196.27</td>\n",
       "    </tr>\n",
       "    <tr>\n",
       "      <th>...</th>\n",
       "      <td>...</td>\n",
       "      <td>...</td>\n",
       "      <td>...</td>\n",
       "      <td>...</td>\n",
       "      <td>...</td>\n",
       "    </tr>\n",
       "    <tr>\n",
       "      <th>2020-06-26</th>\n",
       "      <td>152962.99</td>\n",
       "      <td>112865.52</td>\n",
       "      <td>13843.18</td>\n",
       "      <td>238.55</td>\n",
       "      <td>125922.73</td>\n",
       "    </tr>\n",
       "    <tr>\n",
       "      <th>2020-06-27</th>\n",
       "      <td>145749.84</td>\n",
       "      <td>105427.07</td>\n",
       "      <td>11843.74</td>\n",
       "      <td>250.43</td>\n",
       "      <td>124437.84</td>\n",
       "    </tr>\n",
       "    <tr>\n",
       "      <th>2020-06-28</th>\n",
       "      <td>140498.46</td>\n",
       "      <td>109021.19</td>\n",
       "      <td>11481.43</td>\n",
       "      <td>128.74</td>\n",
       "      <td>124434.12</td>\n",
       "    </tr>\n",
       "    <tr>\n",
       "      <th>2020-06-29</th>\n",
       "      <td>148594.89</td>\n",
       "      <td>109196.21</td>\n",
       "      <td>11479.71</td>\n",
       "      <td>270.45</td>\n",
       "      <td>124959.11</td>\n",
       "    </tr>\n",
       "    <tr>\n",
       "      <th>2020-06-30</th>\n",
       "      <td>142071.46</td>\n",
       "      <td>109439.88</td>\n",
       "      <td>7753.43</td>\n",
       "      <td>0.00</td>\n",
       "      <td>122721.99</td>\n",
       "    </tr>\n",
       "  </tbody>\n",
       "</table>\n",
       "<p>366 rows × 5 columns</p>\n",
       "</div>"
      ],
      "text/plain": [
       "REGIONID         NSW1       QLD1       SA1    TAS1       VIC1\n",
       "Time                                                         \n",
       "2019-07-01  156717.63  111057.75   7565.50  210.41  111884.39\n",
       "2019-07-02  157130.76  118896.81  11346.85  566.65  120742.80\n",
       "2019-07-03  158038.41  118374.61  12280.44  728.65  123418.79\n",
       "2019-07-04  150211.49  118749.86   9343.21  216.28  117846.72\n",
       "2019-07-05  142058.27  120173.60   8905.54  367.48  116196.27\n",
       "...               ...        ...       ...     ...        ...\n",
       "2020-06-26  152962.99  112865.52  13843.18  238.55  125922.73\n",
       "2020-06-27  145749.84  105427.07  11843.74  250.43  124437.84\n",
       "2020-06-28  140498.46  109021.19  11481.43  128.74  124434.12\n",
       "2020-06-29  148594.89  109196.21  11479.71  270.45  124959.11\n",
       "2020-06-30  142071.46  109439.88   7753.43    0.00  122721.99\n",
       "\n",
       "[366 rows x 5 columns]"
      ]
     },
     "execution_count": 7,
     "metadata": {},
     "output_type": "execute_result"
    }
   ],
   "source": [
    "emissions_tot = result['Total_Emissions']\n",
    "emissions_tot"
   ]
  },
  {
   "cell_type": "markdown",
   "metadata": {},
   "source": [
    "##### Emissions Intensity (Average Emissions)"
   ]
  },
  {
   "cell_type": "code",
   "execution_count": 8,
   "metadata": {},
   "outputs": [
    {
     "data": {
      "text/html": [
       "<div>\n",
       "<style scoped>\n",
       "    .dataframe tbody tr th:only-of-type {\n",
       "        vertical-align: middle;\n",
       "    }\n",
       "\n",
       "    .dataframe tbody tr th {\n",
       "        vertical-align: top;\n",
       "    }\n",
       "\n",
       "    .dataframe thead th {\n",
       "        text-align: right;\n",
       "    }\n",
       "</style>\n",
       "<table border=\"1\" class=\"dataframe\">\n",
       "  <thead>\n",
       "    <tr style=\"text-align: right;\">\n",
       "      <th>REGIONID</th>\n",
       "      <th>NSW1</th>\n",
       "      <th>QLD1</th>\n",
       "      <th>SA1</th>\n",
       "      <th>TAS1</th>\n",
       "      <th>VIC1</th>\n",
       "    </tr>\n",
       "    <tr>\n",
       "      <th>Time</th>\n",
       "      <th></th>\n",
       "      <th></th>\n",
       "      <th></th>\n",
       "      <th></th>\n",
       "      <th></th>\n",
       "    </tr>\n",
       "  </thead>\n",
       "  <tbody>\n",
       "    <tr>\n",
       "      <th>2019-07-01</th>\n",
       "      <td>0.84</td>\n",
       "      <td>0.79</td>\n",
       "      <td>0.17</td>\n",
       "      <td>0.01</td>\n",
       "      <td>0.87</td>\n",
       "    </tr>\n",
       "    <tr>\n",
       "      <th>2019-07-02</th>\n",
       "      <td>0.82</td>\n",
       "      <td>0.80</td>\n",
       "      <td>0.38</td>\n",
       "      <td>0.01</td>\n",
       "      <td>0.95</td>\n",
       "    </tr>\n",
       "    <tr>\n",
       "      <th>2019-07-03</th>\n",
       "      <td>0.81</td>\n",
       "      <td>0.80</td>\n",
       "      <td>0.38</td>\n",
       "      <td>0.02</td>\n",
       "      <td>1.03</td>\n",
       "    </tr>\n",
       "    <tr>\n",
       "      <th>2019-07-04</th>\n",
       "      <td>0.79</td>\n",
       "      <td>0.81</td>\n",
       "      <td>0.23</td>\n",
       "      <td>0.01</td>\n",
       "      <td>0.99</td>\n",
       "    </tr>\n",
       "    <tr>\n",
       "      <th>2019-07-05</th>\n",
       "      <td>0.77</td>\n",
       "      <td>0.81</td>\n",
       "      <td>0.21</td>\n",
       "      <td>0.01</td>\n",
       "      <td>0.99</td>\n",
       "    </tr>\n",
       "    <tr>\n",
       "      <th>...</th>\n",
       "      <td>...</td>\n",
       "      <td>...</td>\n",
       "      <td>...</td>\n",
       "      <td>...</td>\n",
       "      <td>...</td>\n",
       "    </tr>\n",
       "    <tr>\n",
       "      <th>2020-06-26</th>\n",
       "      <td>0.82</td>\n",
       "      <td>0.74</td>\n",
       "      <td>0.52</td>\n",
       "      <td>0.01</td>\n",
       "      <td>1.02</td>\n",
       "    </tr>\n",
       "    <tr>\n",
       "      <th>2020-06-27</th>\n",
       "      <td>0.82</td>\n",
       "      <td>0.75</td>\n",
       "      <td>0.43</td>\n",
       "      <td>0.01</td>\n",
       "      <td>1.09</td>\n",
       "    </tr>\n",
       "    <tr>\n",
       "      <th>2020-06-28</th>\n",
       "      <td>0.81</td>\n",
       "      <td>0.76</td>\n",
       "      <td>0.40</td>\n",
       "      <td>0.00</td>\n",
       "      <td>1.09</td>\n",
       "    </tr>\n",
       "    <tr>\n",
       "      <th>2020-06-29</th>\n",
       "      <td>0.81</td>\n",
       "      <td>0.75</td>\n",
       "      <td>0.26</td>\n",
       "      <td>0.01</td>\n",
       "      <td>1.00</td>\n",
       "    </tr>\n",
       "    <tr>\n",
       "      <th>2020-06-30</th>\n",
       "      <td>0.79</td>\n",
       "      <td>0.75</td>\n",
       "      <td>0.19</td>\n",
       "      <td>0.00</td>\n",
       "      <td>0.86</td>\n",
       "    </tr>\n",
       "  </tbody>\n",
       "</table>\n",
       "<p>366 rows × 5 columns</p>\n",
       "</div>"
      ],
      "text/plain": [
       "REGIONID    NSW1  QLD1   SA1  TAS1  VIC1\n",
       "Time                                    \n",
       "2019-07-01  0.84  0.79  0.17  0.01  0.87\n",
       "2019-07-02  0.82  0.80  0.38  0.01  0.95\n",
       "2019-07-03  0.81  0.80  0.38  0.02  1.03\n",
       "2019-07-04  0.79  0.81  0.23  0.01  0.99\n",
       "2019-07-05  0.77  0.81  0.21  0.01  0.99\n",
       "...          ...   ...   ...   ...   ...\n",
       "2020-06-26  0.82  0.74  0.52  0.01  1.02\n",
       "2020-06-27  0.82  0.75  0.43  0.01  1.09\n",
       "2020-06-28  0.81  0.76  0.40  0.00  1.09\n",
       "2020-06-29  0.81  0.75  0.26  0.01  1.00\n",
       "2020-06-30  0.79  0.75  0.19  0.00  0.86\n",
       "\n",
       "[366 rows x 5 columns]"
      ]
     },
     "execution_count": 8,
     "metadata": {},
     "output_type": "execute_result"
    }
   ],
   "source": [
    "emissions_avg = result['Intensity_Index']\n",
    "emissions_avg"
   ]
  },
  {
   "cell_type": "markdown",
   "metadata": {},
   "source": [
    "##### Total Metrics of NEM"
   ]
  },
  {
   "cell_type": "code",
   "execution_count": 9,
   "metadata": {},
   "outputs": [],
   "source": [
    "energy['NEM'] = energy[['NSW1','QLD1','VIC1','SA1','TAS1']].sum(axis=1)\n",
    "emissions_tot['NEM'] = emissions_tot[['NSW1','QLD1','VIC1','SA1','TAS1']].sum(axis=1)\n",
    "emissions_avg['NEM'] = emissions_tot['NEM'] / energy['NEM']"
   ]
  },
  {
   "cell_type": "markdown",
   "metadata": {},
   "source": [
    "#### Retrieve Published AEMO CDEII data for comparison"
   ]
  },
  {
   "cell_type": "code",
   "execution_count": 10,
   "metadata": {},
   "outputs": [
    {
     "data": {
      "text/html": [
       "<div>\n",
       "<style scoped>\n",
       "    .dataframe tbody tr th:only-of-type {\n",
       "        vertical-align: middle;\n",
       "    }\n",
       "\n",
       "    .dataframe tbody tr th {\n",
       "        vertical-align: top;\n",
       "    }\n",
       "\n",
       "    .dataframe thead th {\n",
       "        text-align: right;\n",
       "    }\n",
       "</style>\n",
       "<table border=\"1\" class=\"dataframe\">\n",
       "  <thead>\n",
       "    <tr style=\"text-align: right;\">\n",
       "      <th></th>\n",
       "      <th>SETTLEMENTDATE</th>\n",
       "      <th>REGIONID</th>\n",
       "      <th>TOTAL_SENT_OUT_ENERGY</th>\n",
       "      <th>TOTAL_EMISSIONS</th>\n",
       "      <th>CO2E_INTENSITY_INDEX</th>\n",
       "    </tr>\n",
       "  </thead>\n",
       "  <tbody>\n",
       "    <tr>\n",
       "      <th>0</th>\n",
       "      <td>2019-07-01</td>\n",
       "      <td>NEM</td>\n",
       "      <td>560128.19570</td>\n",
       "      <td>402010.790600</td>\n",
       "      <td>0.7177</td>\n",
       "    </tr>\n",
       "    <tr>\n",
       "      <th>1</th>\n",
       "      <td>2019-07-01</td>\n",
       "      <td>NSW1</td>\n",
       "      <td>199074.13220</td>\n",
       "      <td>165700.401100</td>\n",
       "      <td>0.8324</td>\n",
       "    </tr>\n",
       "    <tr>\n",
       "      <th>2</th>\n",
       "      <td>2019-07-01</td>\n",
       "      <td>QLD1</td>\n",
       "      <td>149565.11040</td>\n",
       "      <td>114551.520000</td>\n",
       "      <td>0.7659</td>\n",
       "    </tr>\n",
       "    <tr>\n",
       "      <th>3</th>\n",
       "      <td>2019-07-01</td>\n",
       "      <td>SA1</td>\n",
       "      <td>44759.33150</td>\n",
       "      <td>8700.499581</td>\n",
       "      <td>0.1944</td>\n",
       "    </tr>\n",
       "    <tr>\n",
       "      <th>4</th>\n",
       "      <td>2019-07-01</td>\n",
       "      <td>TAS1</td>\n",
       "      <td>34072.79806</td>\n",
       "      <td>207.862436</td>\n",
       "      <td>0.0061</td>\n",
       "    </tr>\n",
       "    <tr>\n",
       "      <th>...</th>\n",
       "      <td>...</td>\n",
       "      <td>...</td>\n",
       "      <td>...</td>\n",
       "      <td>...</td>\n",
       "      <td>...</td>\n",
       "    </tr>\n",
       "    <tr>\n",
       "      <th>2191</th>\n",
       "      <td>2020-06-30</td>\n",
       "      <td>NSW1</td>\n",
       "      <td>189687.21690</td>\n",
       "      <td>150041.054500</td>\n",
       "      <td>0.7910</td>\n",
       "    </tr>\n",
       "    <tr>\n",
       "      <th>2192</th>\n",
       "      <td>2020-06-30</td>\n",
       "      <td>QLD1</td>\n",
       "      <td>155211.40840</td>\n",
       "      <td>112904.217400</td>\n",
       "      <td>0.7274</td>\n",
       "    </tr>\n",
       "    <tr>\n",
       "      <th>2193</th>\n",
       "      <td>2020-06-30</td>\n",
       "      <td>SA1</td>\n",
       "      <td>39219.15831</td>\n",
       "      <td>8026.857951</td>\n",
       "      <td>0.2047</td>\n",
       "    </tr>\n",
       "    <tr>\n",
       "      <th>2194</th>\n",
       "      <td>2020-06-30</td>\n",
       "      <td>TAS1</td>\n",
       "      <td>33784.09453</td>\n",
       "      <td>1.642331</td>\n",
       "      <td>0.0000</td>\n",
       "    </tr>\n",
       "    <tr>\n",
       "      <th>2195</th>\n",
       "      <td>2020-06-30</td>\n",
       "      <td>VIC1</td>\n",
       "      <td>144870.37330</td>\n",
       "      <td>122415.385000</td>\n",
       "      <td>0.8450</td>\n",
       "    </tr>\n",
       "  </tbody>\n",
       "</table>\n",
       "<p>2196 rows × 5 columns</p>\n",
       "</div>"
      ],
      "text/plain": [
       "     SETTLEMENTDATE REGIONID  TOTAL_SENT_OUT_ENERGY  TOTAL_EMISSIONS  \\\n",
       "0        2019-07-01      NEM           560128.19570    402010.790600   \n",
       "1        2019-07-01     NSW1           199074.13220    165700.401100   \n",
       "2        2019-07-01     QLD1           149565.11040    114551.520000   \n",
       "3        2019-07-01      SA1            44759.33150      8700.499581   \n",
       "4        2019-07-01     TAS1            34072.79806       207.862436   \n",
       "...             ...      ...                    ...              ...   \n",
       "2191     2020-06-30     NSW1           189687.21690    150041.054500   \n",
       "2192     2020-06-30     QLD1           155211.40840    112904.217400   \n",
       "2193     2020-06-30      SA1            39219.15831      8026.857951   \n",
       "2194     2020-06-30     TAS1            33784.09453         1.642331   \n",
       "2195     2020-06-30     VIC1           144870.37330    122415.385000   \n",
       "\n",
       "      CO2E_INTENSITY_INDEX  \n",
       "0                   0.7177  \n",
       "1                   0.8324  \n",
       "2                   0.7659  \n",
       "3                   0.1944  \n",
       "4                   0.0061  \n",
       "...                    ...  \n",
       "2191                0.7910  \n",
       "2192                0.7274  \n",
       "2193                0.2047  \n",
       "2194                0.0000  \n",
       "2195                0.8450  \n",
       "\n",
       "[2196 rows x 5 columns]"
      ]
     },
     "execution_count": 10,
     "metadata": {},
     "output_type": "execute_result"
    }
   ],
   "source": [
    "aemo = download_current_aemo_cdeii_summary(start_time, end_time, financialyear=\"1920\")\n",
    "aemo"
   ]
  },
  {
   "cell_type": "markdown",
   "metadata": {},
   "source": [
    "#### Compute Error between Datasets\n",
    "The following functions calculate the error for each dataset (energy, total emissions, emissions intensity). Note error metrics are shown as zero when there is a difference between AEMO and NEMED < 50MW, or if the AEMO value is < 100. This avoids having extreme values which may be misinterpreted due to the underlying values simply being extremely small."
   ]
  },
  {
   "cell_type": "code",
   "execution_count": 11,
   "metadata": {},
   "outputs": [],
   "source": [
    "def calculate_total_emissions_error(region):\n",
    "    sel_aemo = aemo[aemo['REGIONID']==region].reset_index(drop=True)\n",
    "    error_calc = pd.Series([emissions_tot[region].values[i] - \\\n",
    "        sel_aemo['TOTAL_EMISSIONS'][i] for i in range(min(len(emissions_tot[region]), \\\n",
    "        len(sel_aemo['TOTAL_EMISSIONS'])))])\n",
    "    numer = np.where(sel_aemo['TOTAL_EMISSIONS'] < 100, 0, error_calc)\n",
    "    error_pct = [(numer[i] / sel_aemo['TOTAL_EMISSIONS'][i]) * 100 \\\n",
    "        for i in range(len(error_calc))]\n",
    "    return error_pct\n",
    "\n",
    "def calculate_energy_error(region):\n",
    "    sel_aemo = aemo[aemo['REGIONID']==region].reset_index(drop=True)\n",
    "    error_calc_en = pd.Series([energy[region].values[i] - \\\n",
    "        sel_aemo['TOTAL_SENT_OUT_ENERGY'][i] for i in range(min(len(energy[region]), \\\n",
    "        len(sel_aemo['TOTAL_SENT_OUT_ENERGY'])))])\n",
    "    numer = np.where(sel_aemo['TOTAL_SENT_OUT_ENERGY'] < 100, 0, error_calc_en)\n",
    "    error_pct_en = [(numer[i] / sel_aemo['TOTAL_SENT_OUT_ENERGY'][i]) * 100 \\\n",
    "        for i in range(len(error_calc_en))]\n",
    "    return error_pct_en\n",
    "\n",
    "def calculate_intensity_error(region):\n",
    "    sel_aemo = aemo[aemo['REGIONID']==region].reset_index(drop=True)\n",
    "    error_calc = pd.Series([emissions_avg[region].values[i] - \\\n",
    "        sel_aemo['CO2E_INTENSITY_INDEX'][i] for i in \\\n",
    "        range(min(len(emissions_avg[region]), len(sel_aemo['CO2E_INTENSITY_INDEX'])))])\n",
    "    #numer = np.where(error_calc < 50, 0, error_calc)\n",
    "    numer = np.where(sel_aemo['CO2E_INTENSITY_INDEX'] < 0.1, 0, error_calc) #numer)\n",
    "    error_pct = [(numer[i] / sel_aemo['CO2E_INTENSITY_INDEX'][i]) * 100 \\\n",
    "        for i in range(len(error_calc))]\n",
    "    return error_pct"
   ]
  },
  {
   "cell_type": "markdown",
   "metadata": {},
   "source": [
    "#### Setup Plotting\n",
    "##### Energy Plot Format"
   ]
  },
  {
   "cell_type": "code",
   "execution_count": 15,
   "metadata": {},
   "outputs": [],
   "source": [
    "def plot_energy(region, color_idx):\n",
    "    sel_aemo = aemo[aemo['REGIONID']==region].reset_index(drop=True)\n",
    "\n",
    "    error_pct_en = calculate_energy_error(region)\n",
    "\n",
    "    fig = make_subplots(rows=4, cols=1, shared_xaxes=True, vertical_spacing=0.05,\n",
    "        specs=[[{\"rowspan\": 3}],[{}],[{}],[{\"rowspan\":1}]])\n",
    "    colors = px.colors.qualitative.Dark2\n",
    "\n",
    "    fig.update_layout(template=\"plotly_white\", title=f\"{region} Sent Out Generation<br><sub>NEM Emissions Data Tool (NEMED)</sub>\",\\\n",
    "        font={'family':'Raleway Semibold', 'size': 12}, legend={'orientation':'h', 'xanchor': 'center', 'x': 0.5, 'y':-0.2})\n",
    "    fig.update_yaxes(title_text=\"Total Energy<br>(MWh)\", row=1, col=1)\n",
    "    fig.update_yaxes(title_text=\"Error wrt.<br>AEMO (%)\", row=4, col=1)\n",
    "    fig.update_xaxes(title_text=\"Date (Day)\", row=4, col=1)\n",
    "\n",
    "    fig.add_trace(go.Scatter(x=sel_aemo['SETTLEMENTDATE'],y=sel_aemo['TOTAL_SENT_OUT_ENERGY'],\\\n",
    "        name=\"AEMO CDEII Reported\",mode=\"lines+markers\",line_color=colors[7]),row=1,col=1)\n",
    "\n",
    "    fig.add_trace(go.Scatter(x=energy.index,y=energy[region].values,\\\n",
    "        name=\"NEMED Calculated\",mode=\"lines+markers\",line_color=colors[color_idx]),row=1,col=1)\n",
    "\n",
    "    fig.add_trace(go.Scatter(x=energy.index,y=error_pct_en,\\\n",
    "        name=\"Calculation Error\", mode=\"lines\",line_color=colors[color_idx],line_dash='dot'),row=4,col=1)\n",
    "\n",
    "    fig.show()"
   ]
  },
  {
   "cell_type": "markdown",
   "metadata": {},
   "source": [
    "##### Total Emissions Plot Format"
   ]
  },
  {
   "cell_type": "code",
   "execution_count": 16,
   "metadata": {},
   "outputs": [],
   "source": [
    "def plot_emissions(region, color_idx):\n",
    "    sel_aemo = aemo[aemo['REGIONID']==region].reset_index(drop=True)\n",
    "\n",
    "    error_pct = calculate_total_emissions_error(region)\n",
    "        \n",
    "    fig = make_subplots(rows=4, cols=1, shared_xaxes=True, vertical_spacing=0.1,\n",
    "        specs=[[{\"rowspan\": 3}],[{}],[{}],[{\"rowspan\":1}]],)\n",
    "    colors = px.colors.qualitative.Dark2\n",
    "\n",
    "    fig.update_layout(template=\"plotly_white\", title=f\"{region} Total Emissions<br><sub>NEM Emissions Data Tool (NEMED)</sub>\",\\\n",
    "        font={'family':'Raleway Semibold', 'size': 12}, legend={'orientation':'h', 'xanchor': 'center', 'x': 0.5, 'y':-0.2})\n",
    "    fig.update_yaxes(title_text=\"Total Emissions<br>(tCO2-e)\", row=1, col=1)\n",
    "    fig.update_yaxes(title_text=\"Error wrt.<br>AEMO (%)\", row=4, col=1)\n",
    "    fig.update_xaxes(title_text=\"Date (Day)\", row=4, col=1)\n",
    "\n",
    "    fig.add_trace(go.Scatter(x=sel_aemo['SETTLEMENTDATE'],y=sel_aemo['TOTAL_EMISSIONS'],\\\n",
    "        name=\"AEMO CDEII Report\",mode=\"lines+markers\",line_color=colors[7]),row=1,col=1)\n",
    "\n",
    "    fig.add_trace(go.Scatter(x=emissions_tot.index,y=emissions_tot[region].values,\\\n",
    "        name=\"NEMED Calculated\",mode=\"lines+markers\",line_color=colors[color_idx]),row=1,col=1)\n",
    "\n",
    "    fig.add_trace(go.Scatter(x=emissions_tot.index[:-1],y=error_pct,\\\n",
    "        name=\"Calculation Error\", mode=\"lines\",line_color=colors[color_idx],line_dash='dot'),row=4,col=1)\n",
    "\n",
    "    fig.show()"
   ]
  },
  {
   "cell_type": "markdown",
   "metadata": {},
   "source": [
    "##### Emissions Intensity (Average Emissions) Plot Format"
   ]
  },
  {
   "cell_type": "code",
   "execution_count": 17,
   "metadata": {},
   "outputs": [],
   "source": [
    "def plot_intensity(region, color_idx):\n",
    "    sel_aemo = aemo[aemo['REGIONID']==region].reset_index(drop=True)\n",
    "\n",
    "    error_pct = calculate_intensity_error(region)\n",
    "        \n",
    "    fig = make_subplots(rows=4, cols=1, shared_xaxes=True, vertical_spacing=0.1,\n",
    "        specs=[[{\"rowspan\": 3}],[{}],[{}],[{\"rowspan\":1}]],)\n",
    "    colors = px.colors.qualitative.Dark2\n",
    "\n",
    "    fig.update_layout(template=\"plotly_white\", title=f\"{region} Average Emissions (Emissions Intensity)<br><sub>NEM Emissions Data Tool (NEMED)</sub>\",\\\n",
    "        font={'family':'Raleway Semibold', 'size': 12}, legend={'orientation':'h', 'xanchor': 'center', 'x': 0.5, 'y':-0.2})\n",
    "    fig.update_yaxes(title_text=\"Emissions Intensity<br>(tCO2-e/MWh)\", row=1, col=1)\n",
    "    fig.update_yaxes(title_text=\"Error wrt.<br>AEMO (%)\", row=4, col=1)\n",
    "    fig.update_xaxes(title_text=\"Date (Day)\", row=4, col=1)\n",
    "\n",
    "    fig.add_trace(go.Scatter(x=sel_aemo['SETTLEMENTDATE'],y=sel_aemo['CO2E_INTENSITY_INDEX'],\\\n",
    "        name=\"AEMO CDEII Report\",mode=\"lines+markers\",line_color=colors[7]),row=1,col=1)\n",
    "\n",
    "    fig.add_trace(go.Scatter(x=emissions_avg.index,y=emissions_avg[region].values,\\\n",
    "        name=\"NEMED Calculated\",mode=\"lines+markers\",line_color=colors[color_idx]),row=1,col=1)\n",
    "\n",
    "    fig.add_trace(go.Scatter(x=emissions_avg.index[:-1],y=error_pct,\\\n",
    "        name=\"Calculation Error\", mode=\"lines\", line_color=colors[color_idx],line_dash='dot'),row=4,col=1)\n",
    "\n",
    "    fig.show()"
   ]
  },
  {
   "cell_type": "markdown",
   "metadata": {},
   "source": [
    "### Results - Comparison to AEMO"
   ]
  },
  {
   "cell_type": "markdown",
   "metadata": {},
   "source": [
    "#### NEM"
   ]
  },
  {
   "cell_type": "code",
   "execution_count": 18,
   "metadata": {},
   "outputs": [],
   "source": [
    "region = 'NEM'\n",
    "plot_energy(region, color_idx=0)\n",
    "plot_emissions(region, color_idx=0)\n",
    "plot_intensity(region, color_idx=0)"
   ]
  },
  {
   "cell_type": "markdown",
   "metadata": {},
   "source": [
    "```{include} charts_ex1/FY1920_nem_energy.html\n",
    ":class: full-width\n",
    "```\n",
    "[<div style=\"text-align: right\"> <button type=\"button\">Open Plot as Fullscreen</button></div>](charts_ex1/FY1920_nem_energy.html)\n",
    "\n",
    "```{include} charts_ex1/FY1920_nem_emissions.html\n",
    ":class: full-width\n",
    "```\n",
    "[<div style=\"text-align: right\"> <button type=\"button\">Open Plot as Fullscreen</button></div>](charts_ex1/FY1920_nem_emissions.html)\n",
    "\n",
    "```{include} charts_ex1/FY1920_nem_intensity.html\n",
    ":class: full-width\n",
    "```\n",
    "[<div style=\"text-align: right\"> <button type=\"button\">Open Plot as Fullscreen</button></div>](charts_ex1/FY1920_nem_intensity.html)"
   ]
  },
  {
   "cell_type": "markdown",
   "metadata": {},
   "source": [
    "#### NSW"
   ]
  },
  {
   "cell_type": "code",
   "execution_count": 19,
   "metadata": {},
   "outputs": [],
   "source": [
    "region = 'NSW1'\n",
    "plot_energy(region, color_idx=1)\n",
    "plot_emissions(region, color_idx=1)\n",
    "plot_intensity(region, color_idx=1)"
   ]
  },
  {
   "cell_type": "markdown",
   "metadata": {},
   "source": [
    "```{include} charts_ex1/FY1920_vic_energy.html\n",
    "```\n",
    "[<div style=\"text-align: right\"> <button type=\"button\">Open Plot as Fullscreen</button></div>](charts_ex1/FY1920_nsw_energy.html)\n",
    "\n",
    "```{include} charts_ex1/FY1920_nsw_emissions.html\n",
    "```\n",
    "[<div style=\"text-align: right\"> <button type=\"button\">Open Plot as Fullscreen</button></div>](charts_ex1/FY1920_nsw_emissions.html)\n",
    "\n",
    "```{include} charts_ex1/FY1920_nsw_intensity.html\n",
    "```\n",
    "[<div style=\"text-align: right\"> <button type=\"button\">Open Plot as Fullscreen</button></div>](charts_ex1/FY1920_nsw_intensity.html)"
   ]
  },
  {
   "cell_type": "markdown",
   "metadata": {},
   "source": [
    "#### VIC"
   ]
  },
  {
   "cell_type": "code",
   "execution_count": 20,
   "metadata": {},
   "outputs": [],
   "source": [
    "region = 'VIC1'\n",
    "plot_energy(region, color_idx=3)\n",
    "plot_emissions(region, color_idx=3)\n",
    "plot_intensity(region, color_idx=3)"
   ]
  },
  {
   "cell_type": "markdown",
   "metadata": {},
   "source": [
    "```{include} charts_ex1/FY1920_vic_energy.html\n",
    "```\n",
    "[<div style=\"text-align: right\"> <button type=\"button\">Open Plot as Fullscreen</button></div>](charts_ex1/FY1920_vic_energy.html)\n",
    "\n",
    "```{include} charts_ex1/FY1920_vic_emissions.html\n",
    "```\n",
    "[<div style=\"text-align: right\"> <button type=\"button\">Open Plot as Fullscreen</button></div>](charts_ex1/FY1920_vic_emissions.html)\n",
    "\n",
    "```{include} charts_ex1/FY1920_vic_intensity.html\n",
    "```\n",
    "[<div style=\"text-align: right\"> <button type=\"button\">Open Plot as Fullscreen</button></div>](charts_ex1/FY1920_vic_intensity.html)"
   ]
  },
  {
   "cell_type": "markdown",
   "metadata": {},
   "source": [
    "#### QLD"
   ]
  },
  {
   "cell_type": "code",
   "execution_count": 21,
   "metadata": {},
   "outputs": [],
   "source": [
    "region = 'QLD1'\n",
    "plot_energy(region, color_idx=2)\n",
    "plot_emissions(region, color_idx=2)\n",
    "plot_intensity(region, color_idx=2)"
   ]
  },
  {
   "cell_type": "markdown",
   "metadata": {},
   "source": [
    "```{include} charts_ex1/FY1920_qld_energy.html\n",
    "```\n",
    "[<div style=\"text-align: right\"> <button type=\"button\">Open Plot as Fullscreen</button></div>](charts_ex1/FY1920_qld_energy.html)\n",
    "\n",
    "```{include} charts_ex1/FY1920_qld_emissions.html\n",
    "```\n",
    "[<div style=\"text-align: right\"> <button type=\"button\">Open Plot as Fullscreen</button></div>](charts_ex1/FY1920_qld_emissions.html)\n",
    "\n",
    "```{include} charts_ex1/FY1920_qld_intensity.html\n",
    "```\n",
    "[<div style=\"text-align: right\"> <button type=\"button\">Open Plot as Fullscreen</button></div>](charts_ex1/FY1920_qld_intensity.html)"
   ]
  },
  {
   "cell_type": "markdown",
   "metadata": {},
   "source": [
    "#### SA"
   ]
  },
  {
   "cell_type": "code",
   "execution_count": 22,
   "metadata": {},
   "outputs": [],
   "source": [
    "region = 'SA1'\n",
    "plot_energy(region, color_idx=4)\n",
    "plot_emissions(region, color_idx=4)\n",
    "plot_intensity(region, color_idx=4)"
   ]
  },
  {
   "cell_type": "markdown",
   "metadata": {},
   "source": [
    "```{include} charts_ex1/FY1920_sa_energy.html\n",
    "```\n",
    "[<div style=\"text-align: right\"> <button type=\"button\">Open Plot as Fullscreen</button></div>](charts_ex1/FY1920_sa_energy.html)\n",
    "\n",
    "```{include} charts_ex1/FY1920_sa_emissions.html\n",
    "```\n",
    "[<div style=\"text-align: right\"> <button type=\"button\">Open Plot as Fullscreen</button></div>](charts_ex1/FY1920_sa_emissions.html)\n",
    "\n",
    "```{include} charts_ex1/FY1920_sa_intensity.html\n",
    "```\n",
    "[<div style=\"text-align: right\"> <button type=\"button\">Open Plot as Fullscreen</button></div>](charts_ex1/FY1920_sa_intensity.html)"
   ]
  },
  {
   "cell_type": "markdown",
   "metadata": {},
   "source": [
    "#### TAS"
   ]
  },
  {
   "cell_type": "code",
   "execution_count": 23,
   "metadata": {},
   "outputs": [
    {
     "name": "stderr",
     "output_type": "stream",
     "text": [
      "C:\\Users\\derlu\\AppData\\Local\\Temp\\ipykernel_25344\\2425312539.py:28: RuntimeWarning:\n",
      "\n",
      "invalid value encountered in double_scalars\n",
      "\n"
     ]
    }
   ],
   "source": [
    "region = 'TAS1'\n",
    "plot_energy(region, color_idx=5)\n",
    "plot_emissions(region, color_idx=5)\n",
    "plot_intensity(region, color_idx=5)"
   ]
  },
  {
   "cell_type": "markdown",
   "metadata": {},
   "source": [
    "```{include} charts_ex1/FY1920_tas_energy.html\n",
    "```\n",
    "[<div style=\"text-align: right\"> <button type=\"button\">Open Plot as Fullscreen</button></div>](charts_ex1/FY1920_tas_energy.html)\n",
    "\n",
    "```{include} charts_ex1/FY1920_tas_emissions.html\n",
    "```\n",
    "[<div style=\"text-align: right\"> <button type=\"button\">Open Plot as Fullscreen</button></div>](charts_ex1/FY1920_tas_emissions.html)\n",
    "\n",
    "```{include} charts_ex1/FY1920_tas_intensity.html\n",
    "```\n",
    "[<div style=\"text-align: right\"> <button type=\"button\">Open Plot as Fullscreen</button></div>](charts_ex1/FY1920_tas_intensity.html)"
   ]
  },
  {
   "cell_type": "markdown",
   "metadata": {},
   "source": []
  }
 ],
 "metadata": {
  "kernelspec": {
   "display_name": "Python 3.9.12 ('nempy')",
   "language": "python",
   "name": "python3"
  },
  "language_info": {
   "codemirror_mode": {
    "name": "ipython",
    "version": 3
   },
   "file_extension": ".py",
   "mimetype": "text/x-python",
   "name": "python",
   "nbconvert_exporter": "python",
   "pygments_lexer": "ipython3",
   "version": "3.9.12"
  },
  "orig_nbformat": 4,
  "vscode": {
   "interpreter": {
    "hash": "4aab49ac747d4948ee2428bd46f4ac833ef94a37ecb38233c747c75e4d05fe4b"
   }
  }
 },
 "nbformat": 4,
 "nbformat_minor": 2
}
