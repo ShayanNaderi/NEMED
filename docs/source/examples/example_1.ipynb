{
 "cells": [
  {
   "cell_type": "markdown",
   "metadata": {"mystnb": {"nb_execution_mode": "off"}},
   "source": [
    "# Total / Average Emissions Benchmark\n",
    "## Comparing the results of NEMED to AEMO CDEII Reporting\n",
    "Using the package <code>nemed</code> to calculate daily total NEM emissions, and average emissions (or emissions intensity) over a historical period."
   ]
  },
  {
   "cell_type": "markdown",
   "metadata": {},
   "source": [
    "### Data Preparation\n",
    "#### Import Packages"
   ]
  },
  {
   "cell_type": "code",
   "execution_count": null,
   "metadata": {},
   "outputs": [],
   "source": [
    "import nemed\n",
    "from nemed.downloader import download_current_aemo_cdeii_summary\n",
    "\n",
    "# To generate plots shown\n",
    "import plotly.graph_objects as go\n",
    "import plotly.express as px\n",
    "from plotly.subplots import make_subplots"
   ]
  },
  {
   "cell_type": "code",
   "execution_count": null,
   "metadata": {},
   "outputs": [],
   "source": [
    "# Open plot in browser (optional)\n",
    "import plotly.io as pio\n",
    "pio.renderers.default = \"browser\""
   ]
  },
  {
   "cell_type": "markdown",
   "metadata": {},
   "source": [
    "#### Define Parameters"
   ]
  },
  {
   "cell_type": "code",
   "execution_count": null,
   "metadata": {},
   "outputs": [],
   "source": [
    "cache = \"E:/TEMPCACHE/\" # Set this to an existing empty folder or leave as \"\"\n",
    "                        # to create a new cache folder\n",
    "start_time = \"2021/07/01 00:00:00\" # Define the start of the historical period.\n",
    "end_time = \"2022/07/01 00:00:00\" # Define the end of the historical period.\n",
    "filter_units = None # List DUIDs if you only require data for specific units.\n",
    "filter_regions = None # List regions if you only require data for such."
   ]
  },
  {
   "cell_type": "markdown",
   "metadata": {},
   "source": [
    "#### Get data using NEMED"
   ]
  },
  {
   "cell_type": "code",
   "execution_count": null,
   "metadata": {},
   "outputs": [],
   "source": [
    "result = nemed.get_total_emissions(start_time, end_time, cache, filter_regions,\n",
    "                                   by=\"day\", generation_sent_out=True)"
   ]
  },
  {
   "cell_type": "markdown",
   "metadata": {},
   "source": [
    "##### Sent Out Energy Generation"
   ]
  },
  {
   "cell_type": "code",
   "execution_count": null,
   "metadata": {},
   "outputs": [],
   "source": [
    "energy = result['Energy']\n",
    "energy"
   ]
  },
  {
   "cell_type": "markdown",
   "metadata": {},
   "source": [
    "##### Total Emissions"
   ]
  },
  {
   "cell_type": "code",
   "execution_count": null,
   "metadata": {},
   "outputs": [],
   "source": [
    "emissions_tot = result['Total_Emissions']\n",
    "emissions_tot"
   ]
  },
  {
   "cell_type": "markdown",
   "metadata": {},
   "source": [
    "##### Emissions Intensity (Average Emissions)"
   ]
  },
  {
   "cell_type": "code",
   "execution_count": null,
   "metadata": {},
   "outputs": [],
   "source": [
    "emissions_avg = result['Intensity_Index']\n",
    "emissions_avg"
   ]
  },
  {
   "cell_type": "markdown",
   "metadata": {},
   "source": [
    "##### Total Metrics of NEM"
   ]
  },
  {
   "cell_type": "code",
   "execution_count": null,
   "metadata": {},
   "outputs": [],
   "source": [
    "energy['NEM'] = energy[['NSW1','QLD1','VIC1','SA1','TAS1']].sum(axis=1)\n",
    "emissions_tot['NEM'] = emissions_tot[['NSW1','QLD1','VIC1','SA1','TAS1']].sum(axis=1)\n",
    "emissions_avg['NEM'] = emissions_tot['NEM'] / energy['NEM']"
   ]
  },
  {
   "cell_type": "markdown",
   "metadata": {},
   "source": [
    "#### Retrieve Published AEMO CDEII data for comparison"
   ]
  },
  {
   "cell_type": "code",
   "execution_count": null,
   "metadata": {},
   "outputs": [],
   "source": [
    "aemo = download_current_aemo_cdeii_summary(start_time, end_time) # CONFIGURED FOR 2021-2022 DATA\n",
    "aemo"
   ]
  },
  {
   "cell_type": "markdown",
   "metadata": {},
   "source": [
    "#### Compute Error between Datasets"
   ]
  },
  {
   "cell_type": "code",
   "execution_count": null,
   "metadata": {},
   "outputs": [],
   "source": [
    "def calculate_total_emissions_error(region):\n",
    "    sel_aemo = aemo[aemo['REGIONID']==region].reset_index(drop=True)\n",
    "    error_calc = [emissions_tot[region].values[i] - sel_aemo['TOTAL_EMISSIONS'][i] for i in range(min(len(emissions_tot[region]), len(sel_aemo['TOTAL_EMISSIONS']))-1)]\n",
    "    error_pct = [(error_calc[i] / sel_aemo['TOTAL_EMISSIONS'][i]) * 100 for i in range(len(error_calc)) if sel_aemo['TOTAL_EMISSIONS'][i]>10]\n",
    "    return error_pct\n",
    "\n",
    "def calculate_energy_error(region):\n",
    "    sel_aemo = aemo[aemo['REGIONID']==region].reset_index(drop=True)\n",
    "    error_calc_en = [energy[region].values[i] - sel_aemo['TOTAL_SENT_OUT_ENERGY'][i] for i in range(min(len(energy[region]), len(sel_aemo['TOTAL_SENT_OUT_ENERGY']))-1)]\n",
    "    error_pct_en = [(error_calc_en[i] / sel_aemo['TOTAL_SENT_OUT_ENERGY'][i]) * 100 for i in range(len(error_calc_en))]\n",
    "    return error_pct_en\n",
    "\n",
    "def calculate_intensity_error(region):\n",
    "    sel_aemo = aemo[aemo['REGIONID']==region].reset_index(drop=True)\n",
    "    error_calc = [emissions_avg[region].values[i] - sel_aemo['CO2E_INTENSITY_INDEX'][i] for i in range(min(len(emissions_avg[region]), len(sel_aemo['CO2E_INTENSITY_INDEX']))-1)]\n",
    "    error_pct = [(error_calc[i] / sel_aemo['CO2E_INTENSITY_INDEX'][i]) * 100 for i in range(len(error_calc))]\n",
    "    return error_pct"
   ]
  },
  {
   "cell_type": "markdown",
   "metadata": {},
   "source": [
    "#### Setup Plotting\n",
    "##### Energy Plot Format"
   ]
  },
  {
   "cell_type": "code",
   "execution_count": null,
   "metadata": {},
   "outputs": [],
   "source": [
    "def plot_energy(region, color_idx):\n",
    "    sel_aemo = aemo[aemo['REGIONID']==region].reset_index(drop=True)\n",
    "\n",
    "    error_pct_en = calculate_energy_error(region)\n",
    "\n",
    "    fig = make_subplots(rows=4, cols=1, shared_xaxes=True, vertical_spacing=0.05,\n",
    "        specs=[[{\"rowspan\": 3}],[{}],[{}],[{\"rowspan\":1}]])\n",
    "    colors = px.colors.qualitative.Dark2\n",
    "\n",
    "    fig.update_layout(template=\"plotly_white\", title=f\"{region} Sent Out Generation<br><sub>NEM Emissions Data Tool (NEMED)</sub>\",\\\n",
    "        font={'family':'Raleway Semibold', 'size': 12}, legend={'orientation':'h', 'xanchor': 'center', 'x': 0.5, 'y':-0.2})\n",
    "    fig.update_yaxes(title_text=\"Total Energy (MWh)\", row=1, col=1)\n",
    "    fig.update_yaxes(title_text=\"Error wrt.<br>AEMO (%)\", row=4, col=1)\n",
    "    fig.update_xaxes(title_text=\"Date (Day)\", row=4, col=1)\n",
    "\n",
    "    fig.add_trace(go.Scatter(x=sel_aemo['SETTLEMENTDATE'],y=sel_aemo['TOTAL_SENT_OUT_ENERGY'],\\\n",
    "        name=\"AEMO CDEII Reported\",mode=\"lines+markers\",line_color=colors[7]),row=1,col=1)\n",
    "\n",
    "    fig.add_trace(go.Scatter(x=energy.index,y=energy[region].values,\\\n",
    "        name=\"nswED Calculated\",mode=\"lines+markers\",line_color=colors[color_idx]),row=1,col=1)\n",
    "\n",
    "    fig.add_trace(go.Scatter(x=energy.index,y=error_pct_en,\\\n",
    "        name=\"Calculation Error\", mode=\"lines\",line_color=colors[color_idx],line_dash='dot'),row=4,col=1)\n",
    "\n",
    "    fig.show()"
   ]
  },
  {
   "cell_type": "markdown",
   "metadata": {},
   "source": [
    "##### Total Emissions Plot Format"
   ]
  },
  {
   "cell_type": "code",
   "execution_count": null,
   "metadata": {},
   "outputs": [],
   "source": [
    "def plot_emissions(region, color_idx):\n",
    "    sel_aemo = aemo[aemo['REGIONID']==region].reset_index(drop=True)\n",
    "\n",
    "    error_pct = calculate_total_emissions_error(region)\n",
    "        \n",
    "    fig = make_subplots(rows=4, cols=1, shared_xaxes=True, vertical_spacing=0.1,\n",
    "        specs=[[{\"rowspan\": 3}],[{}],[{}],[{\"rowspan\":1}]],)\n",
    "    colors = px.colors.qualitative.Dark2\n",
    "\n",
    "    fig.update_layout(template=\"plotly_white\", title=f\"{region} Total Emissions<br><sub>nsw Emissions Data Tool (NEMED)</sub>\",\\\n",
    "        font={'family':'Raleway Semibold', 'size': 12}, legend={'orientation':'h', 'xanchor': 'center', 'x': 0.5, 'y':-0.2})\n",
    "    fig.update_yaxes(title_text=\"Total Emissions (tCO2-e)\", row=1, col=1)\n",
    "    fig.update_yaxes(title_text=\"Error wrt.<br>AEMO (%)\", row=4, col=1)\n",
    "    fig.update_xaxes(title_text=\"Date (Day)\", row=4, col=1)\n",
    "\n",
    "    fig.add_trace(go.Scatter(x=sel_aemo['SETTLEMENTDATE'],y=sel_aemo['TOTAL_EMISSIONS'],\\\n",
    "        name=\"AEMO CDEII Report\",mode=\"lines+markers\",line_color=colors[7]),row=1,col=1)\n",
    "\n",
    "    fig.add_trace(go.Scatter(x=emissions_tot.index,y=emissions_tot[region].values,\\\n",
    "        name=\"nswED Calculated\",mode=\"lines+markers\",line_color=colors[color_idx]),row=1,col=1)\n",
    "\n",
    "    fig.add_trace(go.Scatter(x=emissions_tot.index[:-1],y=error_pct,\\\n",
    "        name=\"Calculation Error\", mode=\"lines\",line_color=colors[color_idx],line_dash='dot'),row=4,col=1)\n",
    "\n",
    "    fig.show()"
   ]
  },
  {
   "cell_type": "markdown",
   "metadata": {},
   "source": [
    "##### Emissions Intensity (Average Emissions) Plot Format"
   ]
  },
  {
   "cell_type": "code",
   "execution_count": null,
   "metadata": {},
   "outputs": [],
   "source": [
    "def plot_intensity(region, color_idx):\n",
    "    sel_aemo = aemo[aemo['REGIONID']==region].reset_index(drop=True)\n",
    "\n",
    "    error_pct = calculate_intensity_error(region)\n",
    "        \n",
    "    fig = make_subplots(rows=4, cols=1, shared_xaxes=True, vertical_spacing=0.1,\n",
    "        specs=[[{\"rowspan\": 3}],[{}],[{}],[{\"rowspan\":1}]],)\n",
    "    colors = px.colors.qualitative.Dark2\n",
    "\n",
    "    fig.update_layout(template=\"plotly_white\", title=f\"{region} Average Emissions (Emissions Intensity)<br><sub>NEM Emissions Data Tool (NEMED)</sub>\",\\\n",
    "        font={'family':'Raleway Semibold', 'size': 12}, legend={'orientation':'h', 'xanchor': 'center', 'x': 0.5, 'y':-0.2})\n",
    "    fig.update_yaxes(title_text=\"Total Emissions (tCO2-e/MWh)\", row=1, col=1)\n",
    "    fig.update_yaxes(title_text=\"Error wrt.<br>AEMO (%)\", row=4, col=1)\n",
    "    fig.update_xaxes(title_text=\"Date (Day)\", row=4, col=1)\n",
    "\n",
    "    fig.add_trace(go.Scatter(x=sel_aemo['SETTLEMENTDATE'],y=sel_aemo['CO2E_INTENSITY_INDEX'],\\\n",
    "        name=\"AEMO CDEII Report\",mode=\"lines+markers\",line_color=colors[7]),row=1,col=1)\n",
    "\n",
    "    fig.add_trace(go.Scatter(x=emissions_avg.index,y=emissions_avg[region].values,\\\n",
    "        name=\"NEMED Calculated\",mode=\"lines+markers\",line_color=colors[color_idx]),row=1,col=1)\n",
    "\n",
    "    fig.add_trace(go.Scatter(x=emissions_avg.index[:-1],y=error_pct,\\\n",
    "        name=\"Calculation Error\", mode=\"lines\", line_color=colors[color_idx],line_dash='dot'),row=4,col=1)\n",
    "\n",
    "    fig.show()"
   ]
  },
  {
   "cell_type": "markdown",
   "metadata": {},
   "source": [
    "### Results - Comparison to AEMO"
   ]
  },
  {
   "cell_type": "markdown",
   "metadata": {},
   "source": [
    "#### NEM"
   ]
  },
  {
   "cell_type": "code",
   "execution_count": null,
   "metadata": {},
   "outputs": [],
   "source": [
    "region = 'NEM'\n",
    "plot_energy(region, color_idx=0)\n",
    "plot_emissions(region, color_idx=0)\n",
    "plot_intensity(region, color_idx=0)"
   ]
  },
  {
   "cell_type": "markdown",
   "metadata": {},
   "source": [
    "```{include} charts_ex1/energy_nem.html\n",
    "```\n",
    "[<div style=\"text-align: right\"> <button type=\"button\">Open Plot as Fullscreen</button></div>](charts_ex1/energy_nem.html)\n",
    "\n",
    "```{include} charts_ex1/emissions_nem.html\n",
    "```\n",
    "[<div style=\"text-align: right\"> <button type=\"button\">Open Plot as Fullscreen</button></div>](charts_ex1/emissions_nem.html)\n",
    "\n",
    "```{include} charts_ex1/intensity_nem.html\n",
    "```\n",
    "[<div style=\"text-align: right\"> <button type=\"button\">Open Plot as Fullscreen</button></div>](charts_ex1/intensity_nem.html)"
   ]
  },
  {
   "cell_type": "markdown",
   "metadata": {},
   "source": [
    "#### NSW"
   ]
  },
  {
   "cell_type": "code",
   "execution_count": null,
   "metadata": {},
   "outputs": [],
   "source": [
    "region = 'NSW1'\n",
    "plot_energy(region, color_idx=1)\n",
    "plot_emissions(region, color_idx=1)\n",
    "plot_intensity(region, color_idx=1)"
   ]
  },
  {
   "cell_type": "markdown",
   "metadata": {},
   "source": [
    "```{include} charts_ex1/energy_nsw.html\n",
    "```\n",
    "[<div style=\"text-align: right\"> <button type=\"button\">Open Plot as Fullscreen</button></div>](charts_ex1/energy_nsw.html)\n",
    "\n",
    "```{include} charts_ex1/emissions_nsw.html\n",
    "```\n",
    "[<div style=\"text-align: right\"> <button type=\"button\">Open Plot as Fullscreen</button></div>](charts_ex1/emissions_nsw.html)\n",
    "\n",
    "```{include} charts_ex1/intensity_nsw.html\n",
    "```\n",
    "[<div style=\"text-align: right\"> <button type=\"button\">Open Plot as Fullscreen</button></div>](charts_ex1/intensity_nsw.html)"
   ]
  },
  {
   "cell_type": "markdown",
   "metadata": {},
   "source": [
    "#### VIC"
   ]
  },
  {
   "cell_type": "code",
   "execution_count": null,
   "metadata": {},
   "outputs": [],
   "source": [
    "region = 'VIC1'\n",
    "plot_energy(region, color_idx=3)\n",
    "plot_emissions(region, color_idx=3)\n",
    "plot_intensity(region, color_idx=3)"
   ]
  },
  {
   "cell_type": "markdown",
   "metadata": {},
   "source": [
    "```{include} charts_ex1/energy_vic.html\n",
    "```\n",
    "[<div style=\"text-align: right\"> <button type=\"button\">Open Plot as Fullscreen</button></div>](charts_ex1/energy_vic.html)\n",
    "\n",
    "```{include} charts_ex1/emissions_vic.html\n",
    "```\n",
    "[<div style=\"text-align: right\"> <button type=\"button\">Open Plot as Fullscreen</button></div>](charts_ex1/emissions_vic.html)\n",
    "\n",
    "```{include} charts_ex1/intensity_vic.html\n",
    "```\n",
    "[<div style=\"text-align: right\"> <button type=\"button\">Open Plot as Fullscreen</button></div>](charts_ex1/intensity_vic.html)"
   ]
  },
  {
   "cell_type": "markdown",
   "metadata": {},
   "source": [
    "#### QLD"
   ]
  },
  {
   "cell_type": "code",
   "execution_count": null,
   "metadata": {},
   "outputs": [],
   "source": [
    "region = 'QLD1'\n",
    "plot_energy(region, color_idx=2)\n",
    "plot_emissions(region, color_idx=2)\n",
    "plot_intensity(region, color_idx=2)"
   ]
  },
  {
   "cell_type": "markdown",
   "metadata": {},
   "source": [
    "```{include} charts_ex1/energy_qld.html\n",
    "```\n",
    "[<div style=\"text-align: right\"> <button type=\"button\">Open Plot as Fullscreen</button></div>](charts_ex1/energy_qld.html)\n",
    "\n",
    "```{include} charts_ex1/emissions_qld.html\n",
    "```\n",
    "[<div style=\"text-align: right\"> <button type=\"button\">Open Plot as Fullscreen</button></div>](charts_ex1/emissions_qld.html)\n",
    "\n",
    "```{include} charts_ex1/intensity_qld.html\n",
    "```\n",
    "[<div style=\"text-align: right\"> <button type=\"button\">Open Plot as Fullscreen</button></div>](charts_ex1/intensity_qld.html)"
   ]
  },
  {
   "cell_type": "markdown",
   "metadata": {},
   "source": [
    "#### SA"
   ]
  },
  {
   "cell_type": "code",
   "execution_count": null,
   "metadata": {},
   "outputs": [],
   "source": [
    "region = 'SA1'\n",
    "plot_energy(region, color_idx=4)\n",
    "plot_emissions(region, color_idx=4)\n",
    "plot_intensity(region, color_idx=4)"
   ]
  },
  {
   "cell_type": "markdown",
   "metadata": {},
   "source": [
    "```{include} charts_ex1/energy_sa.html\n",
    "```\n",
    "[<div style=\"text-align: right\"> <button type=\"button\">Open Plot as Fullscreen</button></div>](charts_ex1/energy_sa.html)\n",
    "\n",
    "```{include} charts_ex1/emissions_sa.html\n",
    "```\n",
    "[<div style=\"text-align: right\"> <button type=\"button\">Open Plot as Fullscreen</button></div>](charts_ex1/emissions_sa.html)\n",
    "\n",
    "```{include} charts_ex1/intensity_sa.html\n",
    "```\n",
    "[<div style=\"text-align: right\"> <button type=\"button\">Open Plot as Fullscreen</button></div>](charts_ex1/intensity_sa.html)"
   ]
  },
  {
   "cell_type": "markdown",
   "metadata": {},
   "source": [
    "#### TAS"
   ]
  },
  {
   "cell_type": "code",
   "execution_count": null,
   "metadata": {},
   "outputs": [],
   "source": [
    "region = 'TAS1'\n",
    "plot_energy(region, color_idx=5)\n",
    "plot_emissions(region, color_idx=5)\n",
    "plot_intensity(region, color_idx=5)"
   ]
  },
  {
   "cell_type": "markdown",
   "metadata": {},
   "source": [
    "```{include} charts_ex1/energy_tas.html\n",
    "```\n",
    "[<div style=\"text-align: right\"> <button type=\"button\">Open Plot as Fullscreen</button></div>](charts_ex1/energy_tas.html)\n",
    "\n",
    "```{include} charts_ex1/emissions_tas.html\n",
    "```\n",
    "[<div style=\"text-align: right\"> <button type=\"button\">Open Plot as Fullscreen</button></div>](charts_ex1/emissions_tas.html)\n",
    "\n",
    "```{include} charts_ex1/intensity_tas.html\n",
    "```\n",
    "[<div style=\"text-align: right\"> <button type=\"button\">Open Plot as Fullscreen</button></div>](charts_ex1/intensity_tas.html)"
   ]
  },
  {
   "cell_type": "markdown",
   "metadata": {},
   "source": []
  }
 ],
 "metadata": {
  "kernelspec": {
   "display_name": "Python 3.9.12 ('nempy')",
   "language": "python",
   "name": "python3"
  },
  "language_info": {
   "codemirror_mode": {
    "name": "ipython",
    "version": 3
   },
   "file_extension": ".py",
   "mimetype": "text/x-python",
   "name": "python",
   "nbconvert_exporter": "python",
   "pygments_lexer": "ipython3",
   "version": "3.9.12"
  },
  "orig_nbformat": 4,
  "vscode": {
   "interpreter": {
    "hash": "4aab49ac747d4948ee2428bd46f4ac833ef94a37ecb38233c747c75e4d05fe4b"
   }
  }
 },
 "nbformat": 4,
 "nbformat_minor": 2
}
