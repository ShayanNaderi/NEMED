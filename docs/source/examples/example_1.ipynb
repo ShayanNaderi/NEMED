{
 "cells": [
  {
   "cell_type": "markdown",
   "metadata": {},
   "source": [
    "# Example One\n",
    "## Total Daily NEM Emissions\n",
    "Using the package <code>nemed</code> to calculate total daily NEM emissions over a historical period."
   ]
  },
  {
   "cell_type": "markdown",
   "metadata": {},
   "source": [
    "### Data Preparation\n",
    "#### Import Packages"
   ]
  },
  {
   "cell_type": "code",
   "execution_count": 1,
   "metadata": {},
   "outputs": [],
   "source": [
    "import os\n",
    "\n",
    "import nemed\n",
    "from nemed.downloader import *\n",
    "\n",
    "# To generate plots shown\n",
    "import plotly.graph_objects as go\n",
    "import plotly.express as px\n",
    "from plotly.subplots import make_subplots"
   ]
  },
  {
   "cell_type": "code",
   "execution_count": 2,
   "metadata": {},
   "outputs": [],
   "source": [
    "# Open plot in browser (optional)\n",
    "import plotly.io as pio\n",
    "pio.renderers.default = \"browser\""
   ]
  },
  {
   "cell_type": "markdown",
   "metadata": {},
   "source": [
    "#### Define Parameters"
   ]
  },
  {
   "cell_type": "code",
   "execution_count": 3,
   "metadata": {},
   "outputs": [],
   "source": [
    "cache = \"E:/TEMPCACHE/\" # Set this to an existing empty folder or leave as \"\"\n",
    "                        # to create a new cache folder\n",
    "start_time = \"2022/01/01 00:00:00\" # Define the start of the historical period.\n",
    "end_time = \"2022/08/31 00:00:00\" # Define the end of the historical period.\n",
    "filter_units = None # List DUIDs if you only require data for specific units.\n",
    "filter_regions = None # List regions if you only require data for such."
   ]
  },
  {
   "cell_type": "markdown",
   "metadata": {},
   "source": [
    "#### Get data using NEMED"
   ]
  },
  {
   "cell_type": "code",
   "execution_count": 4,
   "metadata": {},
   "outputs": [
    {
     "name": "stdout",
     "output_type": "stream",
     "text": [
      "Compiling data for table DISPATCHLOAD.\n",
      "Downloading data for table DISPATCHLOAD, year 2022, month 08\n",
      "Warning: PUBLIC_DVD_DISPATCHLOAD_202208010000 not downloaded\n",
      "Warning: Loading data from E:/TEMPCACHE/PUBLIC_DVD_DISPATCHLOAD_202208010000.feather failed.\n",
      "Returning DISPATCHLOAD.\n",
      "Compiling data for table DISPATCH_UNIT_SCADA.\n",
      "Downloading data for table DISPATCH_UNIT_SCADA, year 2022, month 08\n",
      "Warning: PUBLIC_DVD_DISPATCH_UNIT_SCADA_202208010000 not downloaded\n",
      "Warning: Loading data from E:/TEMPCACHE/PUBLIC_DVD_DISPATCH_UNIT_SCADA_202208010000.feather failed.\n",
      "Returning DISPATCH_UNIT_SCADA.\n"
     ]
    }
   ],
   "source": [
    "result = nemed.get_total_emissions(start_time, end_time, cache, filter_regions, by=\"day\", \n",
    "                        generation_sent_out=True, save_debug_file=False)"
   ]
  },
  {
   "cell_type": "markdown",
   "metadata": {},
   "source": [
    "##### Sent Out Energy Generation"
   ]
  },
  {
   "cell_type": "code",
   "execution_count": 5,
   "metadata": {},
   "outputs": [
    {
     "data": {
      "text/html": [
       "<div>\n",
       "<style scoped>\n",
       "    .dataframe tbody tr th:only-of-type {\n",
       "        vertical-align: middle;\n",
       "    }\n",
       "\n",
       "    .dataframe tbody tr th {\n",
       "        vertical-align: top;\n",
       "    }\n",
       "\n",
       "    .dataframe thead th {\n",
       "        text-align: right;\n",
       "    }\n",
       "</style>\n",
       "<table border=\"1\" class=\"dataframe\">\n",
       "  <thead>\n",
       "    <tr style=\"text-align: right;\">\n",
       "      <th>REGIONID</th>\n",
       "      <th>NSW1</th>\n",
       "      <th>QLD1</th>\n",
       "      <th>SA1</th>\n",
       "      <th>TAS1</th>\n",
       "      <th>VIC1</th>\n",
       "    </tr>\n",
       "    <tr>\n",
       "      <th>Time</th>\n",
       "      <th></th>\n",
       "      <th></th>\n",
       "      <th></th>\n",
       "      <th></th>\n",
       "      <th></th>\n",
       "    </tr>\n",
       "  </thead>\n",
       "  <tbody>\n",
       "    <tr>\n",
       "      <th>2022-01-01</th>\n",
       "      <td>138168.80</td>\n",
       "      <td>154654.70</td>\n",
       "      <td>40180.86</td>\n",
       "      <td>33272.00</td>\n",
       "      <td>144141.47</td>\n",
       "    </tr>\n",
       "    <tr>\n",
       "      <th>2022-01-02</th>\n",
       "      <td>148290.76</td>\n",
       "      <td>152901.72</td>\n",
       "      <td>33007.96</td>\n",
       "      <td>26601.79</td>\n",
       "      <td>128909.87</td>\n",
       "    </tr>\n",
       "    <tr>\n",
       "      <th>2022-01-03</th>\n",
       "      <td>152065.93</td>\n",
       "      <td>153805.17</td>\n",
       "      <td>25017.46</td>\n",
       "      <td>19009.22</td>\n",
       "      <td>122516.95</td>\n",
       "    </tr>\n",
       "    <tr>\n",
       "      <th>2022-01-04</th>\n",
       "      <td>167311.91</td>\n",
       "      <td>167166.80</td>\n",
       "      <td>30891.32</td>\n",
       "      <td>18514.35</td>\n",
       "      <td>132438.70</td>\n",
       "    </tr>\n",
       "    <tr>\n",
       "      <th>2022-01-05</th>\n",
       "      <td>175152.97</td>\n",
       "      <td>184612.43</td>\n",
       "      <td>30541.47</td>\n",
       "      <td>19892.15</td>\n",
       "      <td>137066.72</td>\n",
       "    </tr>\n",
       "    <tr>\n",
       "      <th>...</th>\n",
       "      <td>...</td>\n",
       "      <td>...</td>\n",
       "      <td>...</td>\n",
       "      <td>...</td>\n",
       "      <td>...</td>\n",
       "    </tr>\n",
       "    <tr>\n",
       "      <th>2022-07-27</th>\n",
       "      <td>202546.30</td>\n",
       "      <td>188713.32</td>\n",
       "      <td>56522.89</td>\n",
       "      <td>27231.64</td>\n",
       "      <td>148223.78</td>\n",
       "    </tr>\n",
       "    <tr>\n",
       "      <th>2022-07-28</th>\n",
       "      <td>199441.92</td>\n",
       "      <td>183777.79</td>\n",
       "      <td>62493.45</td>\n",
       "      <td>32604.69</td>\n",
       "      <td>135319.89</td>\n",
       "    </tr>\n",
       "    <tr>\n",
       "      <th>2022-07-29</th>\n",
       "      <td>197170.35</td>\n",
       "      <td>180910.32</td>\n",
       "      <td>66780.18</td>\n",
       "      <td>31044.49</td>\n",
       "      <td>133523.54</td>\n",
       "    </tr>\n",
       "    <tr>\n",
       "      <th>2022-07-30</th>\n",
       "      <td>179289.68</td>\n",
       "      <td>175306.65</td>\n",
       "      <td>53723.29</td>\n",
       "      <td>27805.30</td>\n",
       "      <td>140814.32</td>\n",
       "    </tr>\n",
       "    <tr>\n",
       "      <th>2022-07-31</th>\n",
       "      <td>183782.93</td>\n",
       "      <td>171217.53</td>\n",
       "      <td>43619.07</td>\n",
       "      <td>29951.02</td>\n",
       "      <td>145642.22</td>\n",
       "    </tr>\n",
       "  </tbody>\n",
       "</table>\n",
       "<p>212 rows × 5 columns</p>\n",
       "</div>"
      ],
      "text/plain": [
       "REGIONID         NSW1       QLD1       SA1      TAS1       VIC1\n",
       "Time                                                           \n",
       "2022-01-01  138168.80  154654.70  40180.86  33272.00  144141.47\n",
       "2022-01-02  148290.76  152901.72  33007.96  26601.79  128909.87\n",
       "2022-01-03  152065.93  153805.17  25017.46  19009.22  122516.95\n",
       "2022-01-04  167311.91  167166.80  30891.32  18514.35  132438.70\n",
       "2022-01-05  175152.97  184612.43  30541.47  19892.15  137066.72\n",
       "...               ...        ...       ...       ...        ...\n",
       "2022-07-27  202546.30  188713.32  56522.89  27231.64  148223.78\n",
       "2022-07-28  199441.92  183777.79  62493.45  32604.69  135319.89\n",
       "2022-07-29  197170.35  180910.32  66780.18  31044.49  133523.54\n",
       "2022-07-30  179289.68  175306.65  53723.29  27805.30  140814.32\n",
       "2022-07-31  183782.93  171217.53  43619.07  29951.02  145642.22\n",
       "\n",
       "[212 rows x 5 columns]"
      ]
     },
     "execution_count": 5,
     "metadata": {},
     "output_type": "execute_result"
    }
   ],
   "source": [
    "energy = result['Energy']\n",
    "energy"
   ]
  },
  {
   "cell_type": "markdown",
   "metadata": {},
   "source": [
    "##### Total Emissions"
   ]
  },
  {
   "cell_type": "code",
   "execution_count": 6,
   "metadata": {},
   "outputs": [
    {
     "data": {
      "text/html": [
       "<div>\n",
       "<style scoped>\n",
       "    .dataframe tbody tr th:only-of-type {\n",
       "        vertical-align: middle;\n",
       "    }\n",
       "\n",
       "    .dataframe tbody tr th {\n",
       "        vertical-align: top;\n",
       "    }\n",
       "\n",
       "    .dataframe thead th {\n",
       "        text-align: right;\n",
       "    }\n",
       "</style>\n",
       "<table border=\"1\" class=\"dataframe\">\n",
       "  <thead>\n",
       "    <tr style=\"text-align: right;\">\n",
       "      <th>REGIONID</th>\n",
       "      <th>NSW1</th>\n",
       "      <th>QLD1</th>\n",
       "      <th>SA1</th>\n",
       "      <th>TAS1</th>\n",
       "      <th>VIC1</th>\n",
       "    </tr>\n",
       "    <tr>\n",
       "      <th>Time</th>\n",
       "      <th></th>\n",
       "      <th></th>\n",
       "      <th></th>\n",
       "      <th></th>\n",
       "      <th></th>\n",
       "    </tr>\n",
       "  </thead>\n",
       "  <tbody>\n",
       "    <tr>\n",
       "      <th>2022-01-01</th>\n",
       "      <td>91326.89</td>\n",
       "      <td>109842.77</td>\n",
       "      <td>16308.63</td>\n",
       "      <td>-49.24</td>\n",
       "      <td>108426.39</td>\n",
       "    </tr>\n",
       "    <tr>\n",
       "      <th>2022-01-02</th>\n",
       "      <td>94934.54</td>\n",
       "      <td>109869.46</td>\n",
       "      <td>8686.94</td>\n",
       "      <td>-46.86</td>\n",
       "      <td>109312.16</td>\n",
       "    </tr>\n",
       "    <tr>\n",
       "      <th>2022-01-03</th>\n",
       "      <td>92861.61</td>\n",
       "      <td>108767.08</td>\n",
       "      <td>3259.06</td>\n",
       "      <td>-49.18</td>\n",
       "      <td>93075.85</td>\n",
       "    </tr>\n",
       "    <tr>\n",
       "      <th>2022-01-04</th>\n",
       "      <td>102339.56</td>\n",
       "      <td>119633.08</td>\n",
       "      <td>2922.62</td>\n",
       "      <td>-47.55</td>\n",
       "      <td>97163.44</td>\n",
       "    </tr>\n",
       "    <tr>\n",
       "      <th>2022-01-05</th>\n",
       "      <td>103506.36</td>\n",
       "      <td>125901.11</td>\n",
       "      <td>1318.26</td>\n",
       "      <td>-51.88</td>\n",
       "      <td>98498.89</td>\n",
       "    </tr>\n",
       "    <tr>\n",
       "      <th>...</th>\n",
       "      <td>...</td>\n",
       "      <td>...</td>\n",
       "      <td>...</td>\n",
       "      <td>...</td>\n",
       "      <td>...</td>\n",
       "    </tr>\n",
       "    <tr>\n",
       "      <th>2022-07-27</th>\n",
       "      <td>136100.44</td>\n",
       "      <td>116313.80</td>\n",
       "      <td>23716.85</td>\n",
       "      <td>102.01</td>\n",
       "      <td>117922.66</td>\n",
       "    </tr>\n",
       "    <tr>\n",
       "      <th>2022-07-28</th>\n",
       "      <td>146920.34</td>\n",
       "      <td>122454.28</td>\n",
       "      <td>31169.87</td>\n",
       "      <td>63.69</td>\n",
       "      <td>120776.95</td>\n",
       "    </tr>\n",
       "    <tr>\n",
       "      <th>2022-07-29</th>\n",
       "      <td>147530.43</td>\n",
       "      <td>123134.84</td>\n",
       "      <td>24687.70</td>\n",
       "      <td>217.44</td>\n",
       "      <td>121128.53</td>\n",
       "    </tr>\n",
       "    <tr>\n",
       "      <th>2022-07-30</th>\n",
       "      <td>132563.35</td>\n",
       "      <td>112429.38</td>\n",
       "      <td>6792.05</td>\n",
       "      <td>0.00</td>\n",
       "      <td>100412.09</td>\n",
       "    </tr>\n",
       "    <tr>\n",
       "      <th>2022-07-31</th>\n",
       "      <td>127698.11</td>\n",
       "      <td>112890.26</td>\n",
       "      <td>3864.89</td>\n",
       "      <td>120.89</td>\n",
       "      <td>89005.25</td>\n",
       "    </tr>\n",
       "  </tbody>\n",
       "</table>\n",
       "<p>212 rows × 5 columns</p>\n",
       "</div>"
      ],
      "text/plain": [
       "REGIONID         NSW1       QLD1       SA1    TAS1       VIC1\n",
       "Time                                                         \n",
       "2022-01-01   91326.89  109842.77  16308.63  -49.24  108426.39\n",
       "2022-01-02   94934.54  109869.46   8686.94  -46.86  109312.16\n",
       "2022-01-03   92861.61  108767.08   3259.06  -49.18   93075.85\n",
       "2022-01-04  102339.56  119633.08   2922.62  -47.55   97163.44\n",
       "2022-01-05  103506.36  125901.11   1318.26  -51.88   98498.89\n",
       "...               ...        ...       ...     ...        ...\n",
       "2022-07-27  136100.44  116313.80  23716.85  102.01  117922.66\n",
       "2022-07-28  146920.34  122454.28  31169.87   63.69  120776.95\n",
       "2022-07-29  147530.43  123134.84  24687.70  217.44  121128.53\n",
       "2022-07-30  132563.35  112429.38   6792.05    0.00  100412.09\n",
       "2022-07-31  127698.11  112890.26   3864.89  120.89   89005.25\n",
       "\n",
       "[212 rows x 5 columns]"
      ]
     },
     "execution_count": 6,
     "metadata": {},
     "output_type": "execute_result"
    }
   ],
   "source": [
    "emissions_tot = result['Total_Emissions']\n",
    "emissions_tot"
   ]
  },
  {
   "cell_type": "markdown",
   "metadata": {},
   "source": [
    "##### Emissions Intensity (Average Emissions)"
   ]
  },
  {
   "cell_type": "code",
   "execution_count": 7,
   "metadata": {},
   "outputs": [
    {
     "data": {
      "text/html": [
       "<div>\n",
       "<style scoped>\n",
       "    .dataframe tbody tr th:only-of-type {\n",
       "        vertical-align: middle;\n",
       "    }\n",
       "\n",
       "    .dataframe tbody tr th {\n",
       "        vertical-align: top;\n",
       "    }\n",
       "\n",
       "    .dataframe thead th {\n",
       "        text-align: right;\n",
       "    }\n",
       "</style>\n",
       "<table border=\"1\" class=\"dataframe\">\n",
       "  <thead>\n",
       "    <tr style=\"text-align: right;\">\n",
       "      <th>REGIONID</th>\n",
       "      <th>NSW1</th>\n",
       "      <th>QLD1</th>\n",
       "      <th>SA1</th>\n",
       "      <th>TAS1</th>\n",
       "      <th>VIC1</th>\n",
       "    </tr>\n",
       "    <tr>\n",
       "      <th>Time</th>\n",
       "      <th></th>\n",
       "      <th></th>\n",
       "      <th></th>\n",
       "      <th></th>\n",
       "      <th></th>\n",
       "    </tr>\n",
       "  </thead>\n",
       "  <tbody>\n",
       "    <tr>\n",
       "      <th>2022-01-01</th>\n",
       "      <td>0.66</td>\n",
       "      <td>0.71</td>\n",
       "      <td>0.40</td>\n",
       "      <td>-0.00</td>\n",
       "      <td>0.76</td>\n",
       "    </tr>\n",
       "    <tr>\n",
       "      <th>2022-01-02</th>\n",
       "      <td>0.64</td>\n",
       "      <td>0.72</td>\n",
       "      <td>0.24</td>\n",
       "      <td>-0.00</td>\n",
       "      <td>0.87</td>\n",
       "    </tr>\n",
       "    <tr>\n",
       "      <th>2022-01-03</th>\n",
       "      <td>0.61</td>\n",
       "      <td>0.72</td>\n",
       "      <td>0.13</td>\n",
       "      <td>-0.00</td>\n",
       "      <td>0.76</td>\n",
       "    </tr>\n",
       "    <tr>\n",
       "      <th>2022-01-04</th>\n",
       "      <td>0.62</td>\n",
       "      <td>0.73</td>\n",
       "      <td>0.09</td>\n",
       "      <td>-0.00</td>\n",
       "      <td>0.73</td>\n",
       "    </tr>\n",
       "    <tr>\n",
       "      <th>2022-01-05</th>\n",
       "      <td>0.59</td>\n",
       "      <td>0.69</td>\n",
       "      <td>0.04</td>\n",
       "      <td>-0.00</td>\n",
       "      <td>0.72</td>\n",
       "    </tr>\n",
       "    <tr>\n",
       "      <th>...</th>\n",
       "      <td>...</td>\n",
       "      <td>...</td>\n",
       "      <td>...</td>\n",
       "      <td>...</td>\n",
       "      <td>...</td>\n",
       "    </tr>\n",
       "    <tr>\n",
       "      <th>2022-07-27</th>\n",
       "      <td>0.67</td>\n",
       "      <td>0.61</td>\n",
       "      <td>0.40</td>\n",
       "      <td>0.01</td>\n",
       "      <td>0.80</td>\n",
       "    </tr>\n",
       "    <tr>\n",
       "      <th>2022-07-28</th>\n",
       "      <td>0.74</td>\n",
       "      <td>0.66</td>\n",
       "      <td>0.49</td>\n",
       "      <td>0.00</td>\n",
       "      <td>0.90</td>\n",
       "    </tr>\n",
       "    <tr>\n",
       "      <th>2022-07-29</th>\n",
       "      <td>0.75</td>\n",
       "      <td>0.68</td>\n",
       "      <td>0.37</td>\n",
       "      <td>0.01</td>\n",
       "      <td>0.91</td>\n",
       "    </tr>\n",
       "    <tr>\n",
       "      <th>2022-07-30</th>\n",
       "      <td>0.74</td>\n",
       "      <td>0.64</td>\n",
       "      <td>0.11</td>\n",
       "      <td>0.00</td>\n",
       "      <td>0.72</td>\n",
       "    </tr>\n",
       "    <tr>\n",
       "      <th>2022-07-31</th>\n",
       "      <td>0.69</td>\n",
       "      <td>0.66</td>\n",
       "      <td>0.08</td>\n",
       "      <td>0.00</td>\n",
       "      <td>0.61</td>\n",
       "    </tr>\n",
       "  </tbody>\n",
       "</table>\n",
       "<p>212 rows × 5 columns</p>\n",
       "</div>"
      ],
      "text/plain": [
       "REGIONID    NSW1  QLD1   SA1  TAS1  VIC1\n",
       "Time                                    \n",
       "2022-01-01  0.66  0.71  0.40 -0.00  0.76\n",
       "2022-01-02  0.64  0.72  0.24 -0.00  0.87\n",
       "2022-01-03  0.61  0.72  0.13 -0.00  0.76\n",
       "2022-01-04  0.62  0.73  0.09 -0.00  0.73\n",
       "2022-01-05  0.59  0.69  0.04 -0.00  0.72\n",
       "...          ...   ...   ...   ...   ...\n",
       "2022-07-27  0.67  0.61  0.40  0.01  0.80\n",
       "2022-07-28  0.74  0.66  0.49  0.00  0.90\n",
       "2022-07-29  0.75  0.68  0.37  0.01  0.91\n",
       "2022-07-30  0.74  0.64  0.11  0.00  0.72\n",
       "2022-07-31  0.69  0.66  0.08  0.00  0.61\n",
       "\n",
       "[212 rows x 5 columns]"
      ]
     },
     "execution_count": 7,
     "metadata": {},
     "output_type": "execute_result"
    }
   ],
   "source": [
    "emissions_avg = result['Intensity_Index']\n",
    "emissions_avg"
   ]
  },
  {
   "cell_type": "markdown",
   "metadata": {},
   "source": [
    "#### Retrieve Published AEMO CDEII data for comparison"
   ]
  },
  {
   "cell_type": "code",
   "execution_count": 8,
   "metadata": {},
   "outputs": [
    {
     "data": {
      "text/html": [
       "<div>\n",
       "<style scoped>\n",
       "    .dataframe tbody tr th:only-of-type {\n",
       "        vertical-align: middle;\n",
       "    }\n",
       "\n",
       "    .dataframe tbody tr th {\n",
       "        vertical-align: top;\n",
       "    }\n",
       "\n",
       "    .dataframe thead th {\n",
       "        text-align: right;\n",
       "    }\n",
       "</style>\n",
       "<table border=\"1\" class=\"dataframe\">\n",
       "  <thead>\n",
       "    <tr style=\"text-align: right;\">\n",
       "      <th></th>\n",
       "      <th>SETTLEMENTDATE</th>\n",
       "      <th>REGIONID</th>\n",
       "      <th>TOTAL_SENT_OUT_ENERGY</th>\n",
       "      <th>TOTAL_EMISSIONS</th>\n",
       "      <th>CO2E_INTENSITY_INDEX</th>\n",
       "    </tr>\n",
       "  </thead>\n",
       "  <tbody>\n",
       "    <tr>\n",
       "      <th>36</th>\n",
       "      <td>2022-01-01</td>\n",
       "      <td>NEM</td>\n",
       "      <td>481698.25790</td>\n",
       "      <td>320948.722700</td>\n",
       "      <td>0.6663</td>\n",
       "    </tr>\n",
       "    <tr>\n",
       "      <th>37</th>\n",
       "      <td>2022-01-01</td>\n",
       "      <td>NSW1</td>\n",
       "      <td>144452.25250</td>\n",
       "      <td>98675.012290</td>\n",
       "      <td>0.6831</td>\n",
       "    </tr>\n",
       "    <tr>\n",
       "      <th>38</th>\n",
       "      <td>2022-01-01</td>\n",
       "      <td>QLD1</td>\n",
       "      <td>145442.98140</td>\n",
       "      <td>106138.523800</td>\n",
       "      <td>0.7298</td>\n",
       "    </tr>\n",
       "    <tr>\n",
       "      <th>39</th>\n",
       "      <td>2022-01-01</td>\n",
       "      <td>SA1</td>\n",
       "      <td>22991.56012</td>\n",
       "      <td>8046.003842</td>\n",
       "      <td>0.3500</td>\n",
       "    </tr>\n",
       "    <tr>\n",
       "      <th>40</th>\n",
       "      <td>2022-01-01</td>\n",
       "      <td>TAS1</td>\n",
       "      <td>33571.06637</td>\n",
       "      <td>0.000000</td>\n",
       "      <td>0.0000</td>\n",
       "    </tr>\n",
       "    <tr>\n",
       "      <th>...</th>\n",
       "      <td>...</td>\n",
       "      <td>...</td>\n",
       "      <td>...</td>\n",
       "      <td>...</td>\n",
       "      <td>...</td>\n",
       "    </tr>\n",
       "    <tr>\n",
       "      <th>1423</th>\n",
       "      <td>2022-08-20</td>\n",
       "      <td>NSW1</td>\n",
       "      <td>172060.30300</td>\n",
       "      <td>122684.609900</td>\n",
       "      <td>0.7130</td>\n",
       "    </tr>\n",
       "    <tr>\n",
       "      <th>1424</th>\n",
       "      <td>2022-08-20</td>\n",
       "      <td>QLD1</td>\n",
       "      <td>145083.58950</td>\n",
       "      <td>101098.356300</td>\n",
       "      <td>0.6968</td>\n",
       "    </tr>\n",
       "    <tr>\n",
       "      <th>1425</th>\n",
       "      <td>2022-08-20</td>\n",
       "      <td>SA1</td>\n",
       "      <td>27416.39475</td>\n",
       "      <td>7502.975958</td>\n",
       "      <td>0.2737</td>\n",
       "    </tr>\n",
       "    <tr>\n",
       "      <th>1426</th>\n",
       "      <td>2022-08-20</td>\n",
       "      <td>TAS1</td>\n",
       "      <td>30286.40691</td>\n",
       "      <td>616.556876</td>\n",
       "      <td>0.0204</td>\n",
       "    </tr>\n",
       "    <tr>\n",
       "      <th>1427</th>\n",
       "      <td>2022-08-20</td>\n",
       "      <td>VIC1</td>\n",
       "      <td>124467.30720</td>\n",
       "      <td>84493.884900</td>\n",
       "      <td>0.6788</td>\n",
       "    </tr>\n",
       "  </tbody>\n",
       "</table>\n",
       "<p>1392 rows × 5 columns</p>\n",
       "</div>"
      ],
      "text/plain": [
       "     SETTLEMENTDATE REGIONID  TOTAL_SENT_OUT_ENERGY  TOTAL_EMISSIONS  \\\n",
       "36       2022-01-01      NEM           481698.25790    320948.722700   \n",
       "37       2022-01-01     NSW1           144452.25250     98675.012290   \n",
       "38       2022-01-01     QLD1           145442.98140    106138.523800   \n",
       "39       2022-01-01      SA1            22991.56012      8046.003842   \n",
       "40       2022-01-01     TAS1            33571.06637         0.000000   \n",
       "...             ...      ...                    ...              ...   \n",
       "1423     2022-08-20     NSW1           172060.30300    122684.609900   \n",
       "1424     2022-08-20     QLD1           145083.58950    101098.356300   \n",
       "1425     2022-08-20      SA1            27416.39475      7502.975958   \n",
       "1426     2022-08-20     TAS1            30286.40691       616.556876   \n",
       "1427     2022-08-20     VIC1           124467.30720     84493.884900   \n",
       "\n",
       "      CO2E_INTENSITY_INDEX  \n",
       "36                  0.6663  \n",
       "37                  0.6831  \n",
       "38                  0.7298  \n",
       "39                  0.3500  \n",
       "40                  0.0000  \n",
       "...                    ...  \n",
       "1423                0.7130  \n",
       "1424                0.6968  \n",
       "1425                0.2737  \n",
       "1426                0.0204  \n",
       "1427                0.6788  \n",
       "\n",
       "[1392 rows x 5 columns]"
      ]
     },
     "execution_count": 8,
     "metadata": {},
     "output_type": "execute_result"
    }
   ],
   "source": [
    "# aemo = download_aemo_cdeii_summary(2019, start_time, end_time, cache) # NOT CONFIGURED FOR RECENT 2022 DATA\n",
    "aemo = download_current_aemo_cdeii_summary(start_time, end_time) # CONFIGURED FOR 2022 DATA\n",
    "aemo"
   ]
  },
  {
   "cell_type": "markdown",
   "metadata": {},
   "source": [
    "#### Compute Error between Datasets"
   ]
  },
  {
   "cell_type": "code",
   "execution_count": 9,
   "metadata": {},
   "outputs": [],
   "source": [
    "def calculate_total_emissions_error(region):\n",
    "    sel_aemo = aemo[aemo['REGIONID']==region].reset_index(drop=True)\n",
    "    error_calc = [emissions_tot[region].values[i] - sel_aemo['TOTAL_EMISSIONS'][i] for i in range(min(len(emissions_tot[region]), len(sel_aemo['TOTAL_EMISSIONS']))-1)]\n",
    "    error_pct = [(error_calc[i] / sel_aemo['TOTAL_EMISSIONS'][i]) * 100 for i in range(len(error_calc)) if sel_aemo['TOTAL_EMISSIONS'][i]>10]\n",
    "    return error_pct\n",
    "\n",
    "def calculate_energy_error(region):\n",
    "    sel_aemo = aemo[aemo['REGIONID']==region].reset_index(drop=True)\n",
    "    error_calc_en = [energy[region].values[i] - sel_aemo['TOTAL_SENT_OUT_ENERGY'][i] for i in range(min(len(energy[region]), len(sel_aemo['TOTAL_SENT_OUT_ENERGY']))-1)]\n",
    "    error_pct_en = [(error_calc_en[i] / sel_aemo['TOTAL_SENT_OUT_ENERGY'][i]) * 100 for i in range(len(error_calc_en))]\n",
    "    return error_pct_en"
   ]
  },
  {
   "cell_type": "markdown",
   "metadata": {},
   "source": [
    "#### Setup Plotting\n",
    "##### Energy Plot Format"
   ]
  },
  {
   "cell_type": "code",
   "execution_count": 10,
   "metadata": {},
   "outputs": [],
   "source": [
    "def plot_energy(region, color_idx):\n",
    "    sel_aemo = aemo[aemo['REGIONID']==region].reset_index(drop=True)\n",
    "\n",
    "    error_pct_en = calculate_energy_error(region)\n",
    "\n",
    "    fig = make_subplots(rows=4, cols=1, shared_xaxes=True, vertical_spacing=0.05,\n",
    "        specs=[[{\"rowspan\": 3}],[{}],[{}],[{\"rowspan\":1}]])\n",
    "    colors = px.colors.qualitative.Dark2\n",
    "    colors_er = px.colors.qualitative.Set2\n",
    "\n",
    "    fig.update_layout(template=\"plotly_white\",\\\n",
    "        title=f\"NEM Emissions Data (NEMED) Tool: Comparison of Generation Data against AEMO reporting<br><sub>{region} Region Sent Out Generation</sub>\")\n",
    "    fig.update_yaxes(title_text=\"Total Energy (MWh)\", row=1, col=1)\n",
    "    fig.update_yaxes(title_text=\"Error wrt.<br>AEMO (%)\", row=4, col=1)\n",
    "    fig.update_xaxes(title_text=\"Date (Day)\", row=4, col=1)\n",
    "\n",
    "    fig.add_trace(go.Scatter(x=sel_aemo['SETTLEMENTDATE'][:-1],y=sel_aemo['TOTAL_SENT_OUT_ENERGY'],\\\n",
    "        name=\"AEMO CDEII Report\",mode=\"lines+markers\",line_color=colors[7]),row=1,col=1)\n",
    "\n",
    "    fig.add_trace(go.Scatter(x=energy.index[:-1],y=energy[region].values,\\\n",
    "        name=\"Downloaded via NEMOSIS SENT-OUT\",mode=\"lines+markers\",line_color=colors[color_idx]),row=1,col=1)\n",
    "\n",
    "    fig.add_trace(go.Scatter(x=energy.index[:-1],y=error_pct_en,\\\n",
    "        name=\"Calculation Error (Sent Out)\", mode=\"lines\",line_color=colors[color_idx],line_dash='dot'),row=4,col=1)\n",
    "\n",
    "    fig.show()\n",
    "\n",
    "def plot_energy_nem(color_idx):\n",
    "    sel_aemo = aemo[aemo['REGIONID']=='NEM'].reset_index(drop=True)\n",
    "\n",
    "    energy['NEM'] = energy.sum(axis=1)\n",
    "    region = 'NEM'\n",
    "\n",
    "    error_calc_en = [energy[region].values[i] - sel_aemo['TOTAL_SENT_OUT_ENERGY'][i] for i in range(min(len(energy[region].values), len(sel_aemo['TOTAL_SENT_OUT_ENERGY']))-1)]\n",
    "    error_pct_en = [(error_calc_en[i] / sel_aemo['TOTAL_SENT_OUT_ENERGY'][i]) * 100 for i in range(len(error_calc_en))]\n",
    "\n",
    "    fig = make_subplots(rows=4, cols=1, shared_xaxes=True, vertical_spacing=0.05,\n",
    "        specs=[[{\"rowspan\": 3}],[{}],[{}],[{\"rowspan\":1}]])\n",
    "    colors = px.colors.qualitative.Dark2\n",
    "    colors_er = px.colors.qualitative.Set2\n",
    "\n",
    "    fig.update_layout(template=\"plotly_white\",\\\n",
    "        title=f\"NEM Emissions Data (NEMED) Tool: Comparison of Generation Data against AEMO reporting<br><sub>{region} Region Sent Out Generation</sub>\")\n",
    "    fig.update_yaxes(title_text=\"Total Energy (MWh)\", row=1, col=1)\n",
    "    fig.update_yaxes(title_text=\"Error wrt.<br>AEMO (%)\", row=4, col=1)\n",
    "    fig.update_xaxes(title_text=\"Date (Day)\", row=4, col=1)\n",
    "\n",
    "    fig.add_trace(go.Scatter(x=sel_aemo['SETTLEMENTDATE'][:-1],y=sel_aemo['TOTAL_SENT_OUT_ENERGY'],\\\n",
    "        name=\"AEMO CDEII Report\",mode=\"lines+markers\",line_color=colors[7]),row=1,col=1)\n",
    "\n",
    "    fig.add_trace(go.Scatter(x=energy.index[:-1],y=energy[region].values,\\\n",
    "        name=\"Downloaded via NEMOSIS SENT-OUT\",mode=\"lines+markers\",line_color=colors[color_idx]),row=1,col=1)\n",
    "\n",
    "    fig.add_trace(go.Scatter(x=energy.index[:-1],y=error_pct_en,\\\n",
    "        name=\"Calculation Error (Sent Out)\", mode=\"lines\",line_color=colors[color_idx],line_dash='dot'),row=4,col=1)\n",
    "\n",
    "    fig.show()"
   ]
  },
  {
   "cell_type": "markdown",
   "metadata": {},
   "source": [
    "##### Total Emissions Plot Format"
   ]
  },
  {
   "cell_type": "code",
   "execution_count": 11,
   "metadata": {},
   "outputs": [],
   "source": [
    "def plot_emissions(region, color_idx):\n",
    "    sel_aemo = aemo[aemo['REGIONID']==region].reset_index(drop=True)\n",
    "\n",
    "    error_pct = calculate_total_emissions_error(region)\n",
    "        \n",
    "    fig = make_subplots(rows=4, cols=1, shared_xaxes=True, vertical_spacing=0.1,\n",
    "        specs=[[{\"rowspan\": 3}],[{}],[{}],[{\"rowspan\":1}]],)\n",
    "    colors = px.colors.qualitative.Dark2\n",
    "    colors_er = px.colors.qualitative.Set2\n",
    "\n",
    "    fig.update_layout(template=\"plotly_white\",\\\n",
    "        title=f\"NEM Emissions Data (NEMED) Tool: Comparison of Emissions Data against AEMO reporting<br><sub>{region} Region</sub>\")\n",
    "    fig.update_yaxes(title_text=\"Total Emissions (tCO2-e)\", row=1, col=1)\n",
    "    fig.update_yaxes(title_text=\"Error wrt.<br>AEMO (%)\", row=4, col=1)\n",
    "    fig.update_xaxes(title_text=\"Date (Day)\", row=4, col=1)\n",
    "\n",
    "    fig.add_trace(go.Scatter(x=sel_aemo['SETTLEMENTDATE'],y=sel_aemo['TOTAL_EMISSIONS'],\\\n",
    "        name=\"AEMO CDEII Report\",mode=\"lines+markers\",line_color=colors[7]),row=1,col=1)\n",
    "\n",
    "    fig.add_trace(go.Scatter(x=emissions_tot.index,y=emissions_tot[region].values,\\\n",
    "        name=\"Downloaded via NEMOSIS SENT-OUT\",mode=\"lines+markers\",line_color=colors[color_idx]),row=1,col=1)\n",
    "\n",
    "    fig.add_trace(go.Scatter(x=emissions_tot.index[:-1],y=error_pct,\\\n",
    "        name=\"Calculation Error (Sent Out)\", mode=\"lines\",line_color=colors[color_idx],line_dash='dot'),row=4,col=1)\n",
    "\n",
    "    fig.show()\n",
    "\n",
    "def plot_emissions_nem(color_idx):\n",
    "    sel_aemo = aemo[aemo['REGIONID']=='NEM'].reset_index(drop=True)\n",
    "\n",
    "    emissions_tot['NEM'] = emissions_tot.sum(axis=1)\n",
    "    region = 'NEM'\n",
    "\n",
    "    error_calc = [emissions_tot[region].values[i] - sel_aemo['TOTAL_EMISSIONS'][i] for i in range(min(len(emissions_tot[region].values), len(sel_aemo['TOTAL_EMISSIONS']))-1)]\n",
    "    error_pct = [(error_calc[i] / sel_aemo['TOTAL_EMISSIONS'][i]) * 100 for i in range(len(error_calc))]\n",
    "\n",
    "    fig = make_subplots(rows=4, cols=1, shared_xaxes=True, vertical_spacing=0.1,\n",
    "        specs=[[{\"rowspan\": 3}],[{}],[{}],[{\"rowspan\":1}]],)\n",
    "    colors = px.colors.qualitative.Dark2\n",
    "    colors_er = px.colors.qualitative.Set2\n",
    "\n",
    "    fig.update_layout(template=\"plotly_white\",\\\n",
    "        title=f\"NEM Emissions Data (NEMED) Tool: Comparison of Emissions Data against AEMO reporting<br><sub>{region} Region</sub>\")\n",
    "    fig.update_yaxes(title_text=\"Total Emissions (tCO2-e)\", row=1, col=1)\n",
    "    fig.update_yaxes(title_text=\"Error wrt.<br>AEMO (%)\", row=4, col=1)\n",
    "    fig.update_xaxes(title_text=\"Date (Day)\", row=4, col=1)\n",
    "\n",
    "    fig.add_trace(go.Scatter(x=sel_aemo['SETTLEMENTDATE'],y=sel_aemo['TOTAL_EMISSIONS'],\\\n",
    "        name=\"AEMO CDEII Report\",mode=\"lines+markers\",line_color=colors[7]),row=1,col=1)\n",
    "\n",
    "    fig.add_trace(go.Scatter(x=emissions_tot.index,y=emissions_tot[region].values,\\\n",
    "        name=\"Downloaded via NEMOSIS SENT-OUT\",mode=\"lines+markers\",line_color=colors[color_idx]),row=1,col=1)\n",
    "\n",
    "    fig.add_trace(go.Scatter(x=emissions_tot.index[:-1],y=error_pct,\\\n",
    "        name=\"Calculation Error (Sent Out)\", mode=\"lines\",line_color=colors[color_idx],line_dash='dot'),row=4,col=1)\n",
    "\n",
    "    fig.show()"
   ]
  },
  {
   "cell_type": "markdown",
   "metadata": {},
   "source": [
    "### Compare Results"
   ]
  },
  {
   "cell_type": "markdown",
   "metadata": {},
   "source": [
    "#### Sent Out Energy Generation \n",
    "##### NEM (All Regions)"
   ]
  },
  {
   "cell_type": "code",
   "execution_count": 12,
   "metadata": {},
   "outputs": [],
   "source": [
    "plot_energy_nem(color_idx=0)"
   ]
  },
  {
   "cell_type": "markdown",
   "metadata": {},
   "source": [
    "```{include} charts_ex1/energy_nem.html\n",
    "```\n",
    "[<div style=\"text-align: right\"> <button type=\"button\">Open Plot in New Window </button></div>](charts_ex1/energy_nem.html)"
   ]
  },
  {
   "cell_type": "markdown",
   "metadata": {},
   "source": [
    "##### NSW Region"
   ]
  },
  {
   "cell_type": "code",
   "execution_count": 13,
   "metadata": {},
   "outputs": [],
   "source": [
    "region = 'NSW1'\n",
    "plot_energy(region, color_idx=1)"
   ]
  },
  {
   "cell_type": "markdown",
   "metadata": {},
   "source": [
    "```{include} charts_ex1/energy_nsw.html\n",
    "```\n",
    "[<div style=\"text-align: right\"> <button type=\"button\">Open Plot in New Window </button></div>](charts_ex1/energy_nsw.html)"
   ]
  },
  {
   "cell_type": "markdown",
   "metadata": {},
   "source": [
    "##### VIC Region"
   ]
  },
  {
   "cell_type": "code",
   "execution_count": 14,
   "metadata": {},
   "outputs": [],
   "source": [
    "region = 'VIC1'\n",
    "plot_energy(region, color_idx=3)"
   ]
  },
  {
   "cell_type": "markdown",
   "metadata": {},
   "source": [
    "```{include} charts_ex1/energy_vic.html\n",
    "```\n",
    "[<div style=\"text-align: right\"> <button type=\"button\">Open Plot in New Window </button></div>](charts_ex1/energy_vic.html)"
   ]
  },
  {
   "cell_type": "markdown",
   "metadata": {},
   "source": [
    "##### QLD Region"
   ]
  },
  {
   "cell_type": "code",
   "execution_count": 15,
   "metadata": {},
   "outputs": [],
   "source": [
    "region = 'QLD1'\n",
    "plot_energy(region, color_idx=2)"
   ]
  },
  {
   "cell_type": "markdown",
   "metadata": {},
   "source": [
    "```{include} charts_ex1/energy_qld.html\n",
    "```\n",
    "[<div style=\"text-align: right\"> <button type=\"button\">Open Plot in New Window </button></div>](charts_ex1/energy_qld.html)"
   ]
  },
  {
   "cell_type": "markdown",
   "metadata": {},
   "source": [
    "##### SA Region"
   ]
  },
  {
   "cell_type": "code",
   "execution_count": 16,
   "metadata": {},
   "outputs": [],
   "source": [
    "region = 'SA1'\n",
    "plot_energy(region, color_idx=4)"
   ]
  },
  {
   "cell_type": "markdown",
   "metadata": {},
   "source": [
    "```{include} charts_ex1/energy_sa.html\n",
    "```\n",
    "[<div style=\"text-align: right\"> <button type=\"button\">Open Plot in New Window </button></div>](charts_ex1/energy_sa.html)"
   ]
  },
  {
   "cell_type": "markdown",
   "metadata": {},
   "source": [
    "##### TAS Region"
   ]
  },
  {
   "cell_type": "code",
   "execution_count": 17,
   "metadata": {},
   "outputs": [],
   "source": [
    "region = 'TAS1'\n",
    "plot_energy(region, color_idx=5)"
   ]
  },
  {
   "cell_type": "markdown",
   "metadata": {},
   "source": [
    "```{include} charts_ex1/energy_tas.html\n",
    "```\n",
    "[<div style=\"text-align: right\"> <button type=\"button\">Open Plot in New Window </button></div>](charts_ex1/energy_tas.html)"
   ]
  },
  {
   "cell_type": "markdown",
   "metadata": {},
   "source": [
    "#### Total Emissions\n",
    "##### NEM (All Regions)"
   ]
  },
  {
   "cell_type": "code",
   "execution_count": 18,
   "metadata": {},
   "outputs": [],
   "source": [
    "region = 'NEM'\n",
    "plot_emissions_nem(color_idx=0)"
   ]
  },
  {
   "cell_type": "markdown",
   "metadata": {},
   "source": [
    "```{include} charts_ex1/emissions_nem.html\n",
    "```\n",
    "[<div style=\"text-align: right\"> <button type=\"button\">Open Plot in New Window </button></div>](charts_ex1/emissions_nem.html)"
   ]
  },
  {
   "cell_type": "markdown",
   "metadata": {},
   "source": [
    "##### NSW Region"
   ]
  },
  {
   "cell_type": "code",
   "execution_count": 19,
   "metadata": {},
   "outputs": [],
   "source": [
    "region = 'NSW1'\n",
    "plot_emissions(region, color_idx=1)"
   ]
  },
  {
   "cell_type": "markdown",
   "metadata": {},
   "source": [
    "```{include} charts_ex1/emissions_nsw.html\n",
    "```\n",
    "[<div style=\"text-align: right\"> <button type=\"button\">Open Plot in New Window </button></div>](charts_ex1/emissions_nsw.html)"
   ]
  },
  {
   "cell_type": "markdown",
   "metadata": {},
   "source": [
    "##### VIC Region"
   ]
  },
  {
   "cell_type": "code",
   "execution_count": 20,
   "metadata": {},
   "outputs": [],
   "source": [
    "region = 'VIC1'\n",
    "plot_emissions(region, color_idx=3)"
   ]
  },
  {
   "cell_type": "markdown",
   "metadata": {},
   "source": [
    "```{include} charts_ex1/emissions_vic.html\n",
    "```\n",
    "[<div style=\"text-align: right\"> <button type=\"button\">Open Plot in New Window </button></div>](charts_ex1/emissions_vic.html)"
   ]
  },
  {
   "cell_type": "markdown",
   "metadata": {},
   "source": [
    "##### QLD Region"
   ]
  },
  {
   "cell_type": "code",
   "execution_count": 21,
   "metadata": {},
   "outputs": [],
   "source": [
    "region = 'QLD1'\n",
    "plot_emissions(region, color_idx=2)"
   ]
  },
  {
   "cell_type": "markdown",
   "metadata": {},
   "source": [
    "```{include} charts_ex1/emissions_qld.html\n",
    "```\n",
    "[<div style=\"text-align: right\"> <button type=\"button\">Open Plot in New Window </button></div>](charts_ex1/emissions_qld.html)"
   ]
  },
  {
   "cell_type": "markdown",
   "metadata": {},
   "source": [
    "##### SA Region"
   ]
  },
  {
   "cell_type": "code",
   "execution_count": 22,
   "metadata": {},
   "outputs": [],
   "source": [
    "region = 'SA1'\n",
    "plot_emissions(region, color_idx=4)"
   ]
  },
  {
   "cell_type": "markdown",
   "metadata": {},
   "source": [
    "```{include} charts_ex1/emissions_sa.html\n",
    "```\n",
    "[<div style=\"text-align: right\"> <button type=\"button\">Open Plot in New Window </button></div>](charts_ex1/emissions_sa.html)"
   ]
  },
  {
   "cell_type": "markdown",
   "metadata": {},
   "source": [
    "##### TAS Region"
   ]
  },
  {
   "cell_type": "code",
   "execution_count": 23,
   "metadata": {},
   "outputs": [],
   "source": [
    "region = 'TAS1'\n",
    "plot_emissions(region, color_idx=5)"
   ]
  },
  {
   "cell_type": "markdown",
   "metadata": {},
   "source": [
    "```{include} charts_ex1/emissions_tas.html\n",
    "```\n",
    "[<div style=\"text-align: right\"> <button type=\"button\">Open Plot in New Window </button></div>](charts_ex1/emissions_tas.html)"
   ]
  },
  {
   "cell_type": "markdown",
   "metadata": {},
   "source": []
  }
 ],
 "metadata": {
  "kernelspec": {
   "display_name": "Python 3.9.12 ('nempy')",
   "language": "python",
   "name": "python3"
  },
  "language_info": {
   "codemirror_mode": {
    "name": "ipython",
    "version": 3
   },
   "file_extension": ".py",
   "mimetype": "text/x-python",
   "name": "python",
   "nbconvert_exporter": "python",
   "pygments_lexer": "ipython3",
   "version": "3.9.12"
  },
  "orig_nbformat": 4,
  "vscode": {
   "interpreter": {
    "hash": "4aab49ac747d4948ee2428bd46f4ac833ef94a37ecb38233c747c75e4d05fe4b"
   }
  }
 },
 "nbformat": 4,
 "nbformat_minor": 2
}
