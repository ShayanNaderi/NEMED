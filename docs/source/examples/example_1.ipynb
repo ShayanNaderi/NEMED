{
 "cells": [
  {
   "cell_type": "markdown",
   "metadata": {
    "mystnb": {
     "nb_execution_mode": "off"
    }
   },
   "source": [
    "# Total / Average Emissions Benchmark\n",
    "## Comparing the results of NEMED to AEMO CDEII Reporting\n",
    "Using the package <code>nemed</code> to calculate daily total NEM emissions, and average emissions (or emissions intensity) over a historical period."
   ]
  },
  {
   "cell_type": "markdown",
   "metadata": {},
   "source": [
    "### Data Preparation\n",
    "#### Import Packages"
   ]
  },
  {
   "cell_type": "code",
   "execution_count": 1,
   "metadata": {},
   "outputs": [],
   "source": [
    "import nemed\n",
    "from nemed.downloader import download_current_aemo_cdeii_summary\n",
    "\n",
    "# To generate plots shown\n",
    "import plotly.graph_objects as go\n",
    "import plotly.express as px\n",
    "from plotly.subplots import make_subplots"
   ]
  },
  {
   "cell_type": "code",
   "execution_count": 2,
   "metadata": {},
   "outputs": [],
   "source": [
    "# Open plot in browser (optional)\n",
    "import plotly.io as pio\n",
    "pio.renderers.default = \"browser\""
   ]
  },
  {
   "cell_type": "markdown",
   "metadata": {},
   "source": [
    "#### Define Parameters"
   ]
  },
  {
   "cell_type": "code",
   "execution_count": 3,
   "metadata": {},
   "outputs": [],
   "source": [
    "cache = \"E:/TEMPCACHE/\" # Set this to an existing empty folder or leave as \"\"\n",
    "                        # to create a new cache folder\n",
    "start_time = \"2021/07/01 00:00:00\" # Define the start of the historical period.\n",
    "end_time = \"2022/07/01 00:00:00\" # Define the end of the historical period.\n",
    "filter_units = None # List DUIDs if you only require data for specific units.\n",
    "filter_regions = None # List regions if you only require data for such."
   ]
  },
  {
   "cell_type": "markdown",
   "metadata": {},
   "source": [
    "#### Get data using NEMED"
   ]
  },
  {
   "cell_type": "code",
   "execution_count": 4,
   "metadata": {},
   "outputs": [
    {
     "name": "stdout",
     "output_type": "stream",
     "text": [
      "Compiling data for table DISPATCHLOAD.\n",
      "Returning DISPATCHLOAD.\n",
      "Compiling data for table DISPATCH_UNIT_SCADA.\n",
      "Returning DISPATCH_UNIT_SCADA.\n",
      "ERROR DISCREPENCY between SCADAVALUE and INITIALMW\n",
      "Retrieving static table Generators and Scheduled Loads.\n"
     ]
    }
   ],
   "source": [
    "result = nemed.get_total_emissions(start_time, end_time, cache, filter_regions,\n",
    "                                   by=\"day\", generation_sent_out=True)"
   ]
  },
  {
   "cell_type": "markdown",
   "metadata": {},
   "source": [
    "##### Sent Out Energy Generation"
   ]
  },
  {
   "cell_type": "code",
   "execution_count": 5,
   "metadata": {},
   "outputs": [
    {
     "data": {
      "text/html": [
       "<div>\n",
       "<style scoped>\n",
       "    .dataframe tbody tr th:only-of-type {\n",
       "        vertical-align: middle;\n",
       "    }\n",
       "\n",
       "    .dataframe tbody tr th {\n",
       "        vertical-align: top;\n",
       "    }\n",
       "\n",
       "    .dataframe thead th {\n",
       "        text-align: right;\n",
       "    }\n",
       "</style>\n",
       "<table border=\"1\" class=\"dataframe\">\n",
       "  <thead>\n",
       "    <tr style=\"text-align: right;\">\n",
       "      <th>REGIONID</th>\n",
       "      <th>NSW1</th>\n",
       "      <th>QLD1</th>\n",
       "      <th>SA1</th>\n",
       "      <th>TAS1</th>\n",
       "      <th>VIC1</th>\n",
       "    </tr>\n",
       "    <tr>\n",
       "      <th>Time</th>\n",
       "      <th></th>\n",
       "      <th></th>\n",
       "      <th></th>\n",
       "      <th></th>\n",
       "      <th></th>\n",
       "    </tr>\n",
       "  </thead>\n",
       "  <tbody>\n",
       "    <tr>\n",
       "      <th>2021-07-01</th>\n",
       "      <td>176318.99</td>\n",
       "      <td>155785.07</td>\n",
       "      <td>32358.29</td>\n",
       "      <td>35898.60</td>\n",
       "      <td>133949.88</td>\n",
       "    </tr>\n",
       "    <tr>\n",
       "      <th>2021-07-02</th>\n",
       "      <td>171055.62</td>\n",
       "      <td>146443.59</td>\n",
       "      <td>43762.86</td>\n",
       "      <td>28772.29</td>\n",
       "      <td>141545.39</td>\n",
       "    </tr>\n",
       "    <tr>\n",
       "      <th>2021-07-03</th>\n",
       "      <td>161619.58</td>\n",
       "      <td>144524.38</td>\n",
       "      <td>34189.57</td>\n",
       "      <td>27590.01</td>\n",
       "      <td>146712.20</td>\n",
       "    </tr>\n",
       "    <tr>\n",
       "      <th>2021-07-04</th>\n",
       "      <td>165133.89</td>\n",
       "      <td>141288.25</td>\n",
       "      <td>27904.23</td>\n",
       "      <td>28672.37</td>\n",
       "      <td>147838.99</td>\n",
       "    </tr>\n",
       "    <tr>\n",
       "      <th>2021-07-05</th>\n",
       "      <td>181649.29</td>\n",
       "      <td>158107.91</td>\n",
       "      <td>31777.08</td>\n",
       "      <td>41689.29</td>\n",
       "      <td>145151.71</td>\n",
       "    </tr>\n",
       "    <tr>\n",
       "      <th>...</th>\n",
       "      <td>...</td>\n",
       "      <td>...</td>\n",
       "      <td>...</td>\n",
       "      <td>...</td>\n",
       "      <td>...</td>\n",
       "    </tr>\n",
       "    <tr>\n",
       "      <th>2022-06-26</th>\n",
       "      <td>158274.46</td>\n",
       "      <td>146097.61</td>\n",
       "      <td>31257.12</td>\n",
       "      <td>34565.03</td>\n",
       "      <td>128936.49</td>\n",
       "    </tr>\n",
       "    <tr>\n",
       "      <th>2022-06-27</th>\n",
       "      <td>187507.48</td>\n",
       "      <td>150211.80</td>\n",
       "      <td>35670.67</td>\n",
       "      <td>39506.88</td>\n",
       "      <td>140322.68</td>\n",
       "    </tr>\n",
       "    <tr>\n",
       "      <th>2022-06-28</th>\n",
       "      <td>182801.87</td>\n",
       "      <td>154560.75</td>\n",
       "      <td>38172.27</td>\n",
       "      <td>39405.04</td>\n",
       "      <td>148480.12</td>\n",
       "    </tr>\n",
       "    <tr>\n",
       "      <th>2022-06-29</th>\n",
       "      <td>184492.00</td>\n",
       "      <td>156971.82</td>\n",
       "      <td>40338.24</td>\n",
       "      <td>38387.50</td>\n",
       "      <td>150061.67</td>\n",
       "    </tr>\n",
       "    <tr>\n",
       "      <th>2022-06-30</th>\n",
       "      <td>189731.15</td>\n",
       "      <td>153224.53</td>\n",
       "      <td>41662.79</td>\n",
       "      <td>38021.05</td>\n",
       "      <td>126833.85</td>\n",
       "    </tr>\n",
       "  </tbody>\n",
       "</table>\n",
       "<p>365 rows × 5 columns</p>\n",
       "</div>"
      ],
      "text/plain": [
       "REGIONID         NSW1       QLD1       SA1      TAS1       VIC1\n",
       "Time                                                           \n",
       "2021-07-01  176318.99  155785.07  32358.29  35898.60  133949.88\n",
       "2021-07-02  171055.62  146443.59  43762.86  28772.29  141545.39\n",
       "2021-07-03  161619.58  144524.38  34189.57  27590.01  146712.20\n",
       "2021-07-04  165133.89  141288.25  27904.23  28672.37  147838.99\n",
       "2021-07-05  181649.29  158107.91  31777.08  41689.29  145151.71\n",
       "...               ...        ...       ...       ...        ...\n",
       "2022-06-26  158274.46  146097.61  31257.12  34565.03  128936.49\n",
       "2022-06-27  187507.48  150211.80  35670.67  39506.88  140322.68\n",
       "2022-06-28  182801.87  154560.75  38172.27  39405.04  148480.12\n",
       "2022-06-29  184492.00  156971.82  40338.24  38387.50  150061.67\n",
       "2022-06-30  189731.15  153224.53  41662.79  38021.05  126833.85\n",
       "\n",
       "[365 rows x 5 columns]"
      ]
     },
     "execution_count": 5,
     "metadata": {},
     "output_type": "execute_result"
    }
   ],
   "source": [
    "energy = result['Energy']\n",
    "energy"
   ]
  },
  {
   "cell_type": "markdown",
   "metadata": {},
   "source": [
    "##### Total Emissions"
   ]
  },
  {
   "cell_type": "code",
   "execution_count": 6,
   "metadata": {},
   "outputs": [
    {
     "data": {
      "text/html": [
       "<div>\n",
       "<style scoped>\n",
       "    .dataframe tbody tr th:only-of-type {\n",
       "        vertical-align: middle;\n",
       "    }\n",
       "\n",
       "    .dataframe tbody tr th {\n",
       "        vertical-align: top;\n",
       "    }\n",
       "\n",
       "    .dataframe thead th {\n",
       "        text-align: right;\n",
       "    }\n",
       "</style>\n",
       "<table border=\"1\" class=\"dataframe\">\n",
       "  <thead>\n",
       "    <tr style=\"text-align: right;\">\n",
       "      <th>REGIONID</th>\n",
       "      <th>NSW1</th>\n",
       "      <th>QLD1</th>\n",
       "      <th>SA1</th>\n",
       "      <th>TAS1</th>\n",
       "      <th>VIC1</th>\n",
       "    </tr>\n",
       "    <tr>\n",
       "      <th>Time</th>\n",
       "      <th></th>\n",
       "      <th></th>\n",
       "      <th></th>\n",
       "      <th></th>\n",
       "      <th></th>\n",
       "    </tr>\n",
       "  </thead>\n",
       "  <tbody>\n",
       "    <tr>\n",
       "      <th>2021-07-01</th>\n",
       "      <td>140718.74</td>\n",
       "      <td>118023.68</td>\n",
       "      <td>13290.66</td>\n",
       "      <td>177.28</td>\n",
       "      <td>115208.08</td>\n",
       "    </tr>\n",
       "    <tr>\n",
       "      <th>2021-07-02</th>\n",
       "      <td>138096.54</td>\n",
       "      <td>114928.14</td>\n",
       "      <td>7912.57</td>\n",
       "      <td>0.00</td>\n",
       "      <td>114089.28</td>\n",
       "    </tr>\n",
       "    <tr>\n",
       "      <th>2021-07-03</th>\n",
       "      <td>127459.32</td>\n",
       "      <td>115583.09</td>\n",
       "      <td>7469.09</td>\n",
       "      <td>0.00</td>\n",
       "      <td>125558.11</td>\n",
       "    </tr>\n",
       "    <tr>\n",
       "      <th>2021-07-04</th>\n",
       "      <td>124945.04</td>\n",
       "      <td>105072.08</td>\n",
       "      <td>7691.93</td>\n",
       "      <td>0.00</td>\n",
       "      <td>125344.88</td>\n",
       "    </tr>\n",
       "    <tr>\n",
       "      <th>2021-07-05</th>\n",
       "      <td>139919.69</td>\n",
       "      <td>115168.02</td>\n",
       "      <td>17407.86</td>\n",
       "      <td>0.00</td>\n",
       "      <td>130006.15</td>\n",
       "    </tr>\n",
       "    <tr>\n",
       "      <th>...</th>\n",
       "      <td>...</td>\n",
       "      <td>...</td>\n",
       "      <td>...</td>\n",
       "      <td>...</td>\n",
       "      <td>...</td>\n",
       "    </tr>\n",
       "    <tr>\n",
       "      <th>2022-06-26</th>\n",
       "      <td>112119.45</td>\n",
       "      <td>108708.06</td>\n",
       "      <td>9434.98</td>\n",
       "      <td>0.00</td>\n",
       "      <td>105721.45</td>\n",
       "    </tr>\n",
       "    <tr>\n",
       "      <th>2022-06-27</th>\n",
       "      <td>134631.24</td>\n",
       "      <td>111785.36</td>\n",
       "      <td>14469.65</td>\n",
       "      <td>221.04</td>\n",
       "      <td>115055.60</td>\n",
       "    </tr>\n",
       "    <tr>\n",
       "      <th>2022-06-28</th>\n",
       "      <td>130416.94</td>\n",
       "      <td>113587.46</td>\n",
       "      <td>12581.85</td>\n",
       "      <td>203.85</td>\n",
       "      <td>108928.97</td>\n",
       "    </tr>\n",
       "    <tr>\n",
       "      <th>2022-06-29</th>\n",
       "      <td>135778.11</td>\n",
       "      <td>117931.65</td>\n",
       "      <td>14273.38</td>\n",
       "      <td>0.00</td>\n",
       "      <td>98354.30</td>\n",
       "    </tr>\n",
       "    <tr>\n",
       "      <th>2022-06-30</th>\n",
       "      <td>142315.03</td>\n",
       "      <td>118048.13</td>\n",
       "      <td>11383.17</td>\n",
       "      <td>0.00</td>\n",
       "      <td>103475.96</td>\n",
       "    </tr>\n",
       "  </tbody>\n",
       "</table>\n",
       "<p>365 rows × 5 columns</p>\n",
       "</div>"
      ],
      "text/plain": [
       "REGIONID         NSW1       QLD1       SA1    TAS1       VIC1\n",
       "Time                                                         \n",
       "2021-07-01  140718.74  118023.68  13290.66  177.28  115208.08\n",
       "2021-07-02  138096.54  114928.14   7912.57    0.00  114089.28\n",
       "2021-07-03  127459.32  115583.09   7469.09    0.00  125558.11\n",
       "2021-07-04  124945.04  105072.08   7691.93    0.00  125344.88\n",
       "2021-07-05  139919.69  115168.02  17407.86    0.00  130006.15\n",
       "...               ...        ...       ...     ...        ...\n",
       "2022-06-26  112119.45  108708.06   9434.98    0.00  105721.45\n",
       "2022-06-27  134631.24  111785.36  14469.65  221.04  115055.60\n",
       "2022-06-28  130416.94  113587.46  12581.85  203.85  108928.97\n",
       "2022-06-29  135778.11  117931.65  14273.38    0.00   98354.30\n",
       "2022-06-30  142315.03  118048.13  11383.17    0.00  103475.96\n",
       "\n",
       "[365 rows x 5 columns]"
      ]
     },
     "execution_count": 6,
     "metadata": {},
     "output_type": "execute_result"
    }
   ],
   "source": [
    "emissions_tot = result['Total_Emissions']\n",
    "emissions_tot"
   ]
  },
  {
   "cell_type": "markdown",
   "metadata": {},
   "source": [
    "##### Emissions Intensity (Average Emissions)"
   ]
  },
  {
   "cell_type": "code",
   "execution_count": 7,
   "metadata": {},
   "outputs": [
    {
     "data": {
      "text/html": [
       "<div>\n",
       "<style scoped>\n",
       "    .dataframe tbody tr th:only-of-type {\n",
       "        vertical-align: middle;\n",
       "    }\n",
       "\n",
       "    .dataframe tbody tr th {\n",
       "        vertical-align: top;\n",
       "    }\n",
       "\n",
       "    .dataframe thead th {\n",
       "        text-align: right;\n",
       "    }\n",
       "</style>\n",
       "<table border=\"1\" class=\"dataframe\">\n",
       "  <thead>\n",
       "    <tr style=\"text-align: right;\">\n",
       "      <th>REGIONID</th>\n",
       "      <th>NSW1</th>\n",
       "      <th>QLD1</th>\n",
       "      <th>SA1</th>\n",
       "      <th>TAS1</th>\n",
       "      <th>VIC1</th>\n",
       "    </tr>\n",
       "    <tr>\n",
       "      <th>Time</th>\n",
       "      <th></th>\n",
       "      <th></th>\n",
       "      <th></th>\n",
       "      <th></th>\n",
       "      <th></th>\n",
       "    </tr>\n",
       "  </thead>\n",
       "  <tbody>\n",
       "    <tr>\n",
       "      <th>2021-07-01</th>\n",
       "      <td>0.80</td>\n",
       "      <td>0.76</td>\n",
       "      <td>0.42</td>\n",
       "      <td>0.00</td>\n",
       "      <td>0.86</td>\n",
       "    </tr>\n",
       "    <tr>\n",
       "      <th>2021-07-02</th>\n",
       "      <td>0.81</td>\n",
       "      <td>0.79</td>\n",
       "      <td>0.17</td>\n",
       "      <td>0.00</td>\n",
       "      <td>0.81</td>\n",
       "    </tr>\n",
       "    <tr>\n",
       "      <th>2021-07-03</th>\n",
       "      <td>0.79</td>\n",
       "      <td>0.80</td>\n",
       "      <td>0.21</td>\n",
       "      <td>0.00</td>\n",
       "      <td>0.86</td>\n",
       "    </tr>\n",
       "    <tr>\n",
       "      <th>2021-07-04</th>\n",
       "      <td>0.76</td>\n",
       "      <td>0.74</td>\n",
       "      <td>0.26</td>\n",
       "      <td>0.00</td>\n",
       "      <td>0.85</td>\n",
       "    </tr>\n",
       "    <tr>\n",
       "      <th>2021-07-05</th>\n",
       "      <td>0.78</td>\n",
       "      <td>0.73</td>\n",
       "      <td>0.53</td>\n",
       "      <td>0.00</td>\n",
       "      <td>0.91</td>\n",
       "    </tr>\n",
       "    <tr>\n",
       "      <th>...</th>\n",
       "      <td>...</td>\n",
       "      <td>...</td>\n",
       "      <td>...</td>\n",
       "      <td>...</td>\n",
       "      <td>...</td>\n",
       "    </tr>\n",
       "    <tr>\n",
       "      <th>2022-06-26</th>\n",
       "      <td>0.71</td>\n",
       "      <td>0.74</td>\n",
       "      <td>0.29</td>\n",
       "      <td>0.00</td>\n",
       "      <td>0.83</td>\n",
       "    </tr>\n",
       "    <tr>\n",
       "      <th>2022-06-27</th>\n",
       "      <td>0.72</td>\n",
       "      <td>0.74</td>\n",
       "      <td>0.40</td>\n",
       "      <td>0.01</td>\n",
       "      <td>0.82</td>\n",
       "    </tr>\n",
       "    <tr>\n",
       "      <th>2022-06-28</th>\n",
       "      <td>0.71</td>\n",
       "      <td>0.73</td>\n",
       "      <td>0.33</td>\n",
       "      <td>0.00</td>\n",
       "      <td>0.75</td>\n",
       "    </tr>\n",
       "    <tr>\n",
       "      <th>2022-06-29</th>\n",
       "      <td>0.74</td>\n",
       "      <td>0.75</td>\n",
       "      <td>0.34</td>\n",
       "      <td>0.00</td>\n",
       "      <td>0.66</td>\n",
       "    </tr>\n",
       "    <tr>\n",
       "      <th>2022-06-30</th>\n",
       "      <td>0.75</td>\n",
       "      <td>0.77</td>\n",
       "      <td>0.26</td>\n",
       "      <td>0.00</td>\n",
       "      <td>0.82</td>\n",
       "    </tr>\n",
       "  </tbody>\n",
       "</table>\n",
       "<p>365 rows × 5 columns</p>\n",
       "</div>"
      ],
      "text/plain": [
       "REGIONID    NSW1  QLD1   SA1  TAS1  VIC1\n",
       "Time                                    \n",
       "2021-07-01  0.80  0.76  0.42  0.00  0.86\n",
       "2021-07-02  0.81  0.79  0.17  0.00  0.81\n",
       "2021-07-03  0.79  0.80  0.21  0.00  0.86\n",
       "2021-07-04  0.76  0.74  0.26  0.00  0.85\n",
       "2021-07-05  0.78  0.73  0.53  0.00  0.91\n",
       "...          ...   ...   ...   ...   ...\n",
       "2022-06-26  0.71  0.74  0.29  0.00  0.83\n",
       "2022-06-27  0.72  0.74  0.40  0.01  0.82\n",
       "2022-06-28  0.71  0.73  0.33  0.00  0.75\n",
       "2022-06-29  0.74  0.75  0.34  0.00  0.66\n",
       "2022-06-30  0.75  0.77  0.26  0.00  0.82\n",
       "\n",
       "[365 rows x 5 columns]"
      ]
     },
     "execution_count": 7,
     "metadata": {},
     "output_type": "execute_result"
    }
   ],
   "source": [
    "emissions_avg = result['Intensity_Index']\n",
    "emissions_avg"
   ]
  },
  {
   "cell_type": "markdown",
   "metadata": {},
   "source": [
    "##### Total Metrics of NEM"
   ]
  },
  {
   "cell_type": "code",
   "execution_count": 8,
   "metadata": {},
   "outputs": [],
   "source": [
    "energy['NEM'] = energy[['NSW1','QLD1','VIC1','SA1','TAS1']].sum(axis=1)\n",
    "emissions_tot['NEM'] = emissions_tot[['NSW1','QLD1','VIC1','SA1','TAS1']].sum(axis=1)\n",
    "emissions_avg['NEM'] = emissions_tot['NEM'] / energy['NEM']"
   ]
  },
  {
   "cell_type": "markdown",
   "metadata": {},
   "source": [
    "#### Retrieve Published AEMO CDEII data for comparison"
   ]
  },
  {
   "cell_type": "code",
   "execution_count": 9,
   "metadata": {},
   "outputs": [
    {
     "data": {
      "text/html": [
       "<div>\n",
       "<style scoped>\n",
       "    .dataframe tbody tr th:only-of-type {\n",
       "        vertical-align: middle;\n",
       "    }\n",
       "\n",
       "    .dataframe tbody tr th {\n",
       "        vertical-align: top;\n",
       "    }\n",
       "\n",
       "    .dataframe thead th {\n",
       "        text-align: right;\n",
       "    }\n",
       "</style>\n",
       "<table border=\"1\" class=\"dataframe\">\n",
       "  <thead>\n",
       "    <tr style=\"text-align: right;\">\n",
       "      <th></th>\n",
       "      <th>SETTLEMENTDATE</th>\n",
       "      <th>REGIONID</th>\n",
       "      <th>TOTAL_SENT_OUT_ENERGY</th>\n",
       "      <th>TOTAL_EMISSIONS</th>\n",
       "      <th>CO2E_INTENSITY_INDEX</th>\n",
       "    </tr>\n",
       "  </thead>\n",
       "  <tbody>\n",
       "    <tr>\n",
       "      <th>0</th>\n",
       "      <td>2021-07-01</td>\n",
       "      <td>NEM</td>\n",
       "      <td>556638.63310</td>\n",
       "      <td>396835.416000</td>\n",
       "      <td>0.7129</td>\n",
       "    </tr>\n",
       "    <tr>\n",
       "      <th>1</th>\n",
       "      <td>2021-07-01</td>\n",
       "      <td>NSW1</td>\n",
       "      <td>186362.32480</td>\n",
       "      <td>147943.037000</td>\n",
       "      <td>0.7938</td>\n",
       "    </tr>\n",
       "    <tr>\n",
       "      <th>2</th>\n",
       "      <td>2021-07-01</td>\n",
       "      <td>QLD1</td>\n",
       "      <td>164005.54880</td>\n",
       "      <td>120066.631200</td>\n",
       "      <td>0.7321</td>\n",
       "    </tr>\n",
       "    <tr>\n",
       "      <th>3</th>\n",
       "      <td>2021-07-01</td>\n",
       "      <td>SA1</td>\n",
       "      <td>32554.46288</td>\n",
       "      <td>13284.660080</td>\n",
       "      <td>0.4081</td>\n",
       "    </tr>\n",
       "    <tr>\n",
       "      <th>4</th>\n",
       "      <td>2021-07-01</td>\n",
       "      <td>TAS1</td>\n",
       "      <td>36305.14318</td>\n",
       "      <td>171.734831</td>\n",
       "      <td>0.0047</td>\n",
       "    </tr>\n",
       "    <tr>\n",
       "      <th>...</th>\n",
       "      <td>...</td>\n",
       "      <td>...</td>\n",
       "      <td>...</td>\n",
       "      <td>...</td>\n",
       "      <td>...</td>\n",
       "    </tr>\n",
       "    <tr>\n",
       "      <th>2185</th>\n",
       "      <td>2022-06-30</td>\n",
       "      <td>NSW1</td>\n",
       "      <td>198876.16370</td>\n",
       "      <td>144547.716700</td>\n",
       "      <td>0.7268</td>\n",
       "    </tr>\n",
       "    <tr>\n",
       "      <th>2186</th>\n",
       "      <td>2022-06-30</td>\n",
       "      <td>QLD1</td>\n",
       "      <td>160751.68190</td>\n",
       "      <td>120091.864000</td>\n",
       "      <td>0.7471</td>\n",
       "    </tr>\n",
       "    <tr>\n",
       "      <th>2187</th>\n",
       "      <td>2022-06-30</td>\n",
       "      <td>SA1</td>\n",
       "      <td>42996.19833</td>\n",
       "      <td>11306.722490</td>\n",
       "      <td>0.2630</td>\n",
       "    </tr>\n",
       "    <tr>\n",
       "      <th>2188</th>\n",
       "      <td>2022-06-30</td>\n",
       "      <td>TAS1</td>\n",
       "      <td>38695.30954</td>\n",
       "      <td>0.000000</td>\n",
       "      <td>0.0000</td>\n",
       "    </tr>\n",
       "    <tr>\n",
       "      <th>2189</th>\n",
       "      <td>2022-06-30</td>\n",
       "      <td>VIC1</td>\n",
       "      <td>130043.89990</td>\n",
       "      <td>104309.180800</td>\n",
       "      <td>0.8021</td>\n",
       "    </tr>\n",
       "  </tbody>\n",
       "</table>\n",
       "<p>2190 rows × 5 columns</p>\n",
       "</div>"
      ],
      "text/plain": [
       "     SETTLEMENTDATE REGIONID  TOTAL_SENT_OUT_ENERGY  TOTAL_EMISSIONS  \\\n",
       "0        2021-07-01      NEM           556638.63310    396835.416000   \n",
       "1        2021-07-01     NSW1           186362.32480    147943.037000   \n",
       "2        2021-07-01     QLD1           164005.54880    120066.631200   \n",
       "3        2021-07-01      SA1            32554.46288     13284.660080   \n",
       "4        2021-07-01     TAS1            36305.14318       171.734831   \n",
       "...             ...      ...                    ...              ...   \n",
       "2185     2022-06-30     NSW1           198876.16370    144547.716700   \n",
       "2186     2022-06-30     QLD1           160751.68190    120091.864000   \n",
       "2187     2022-06-30      SA1            42996.19833     11306.722490   \n",
       "2188     2022-06-30     TAS1            38695.30954         0.000000   \n",
       "2189     2022-06-30     VIC1           130043.89990    104309.180800   \n",
       "\n",
       "      CO2E_INTENSITY_INDEX  \n",
       "0                   0.7129  \n",
       "1                   0.7938  \n",
       "2                   0.7321  \n",
       "3                   0.4081  \n",
       "4                   0.0047  \n",
       "...                    ...  \n",
       "2185                0.7268  \n",
       "2186                0.7471  \n",
       "2187                0.2630  \n",
       "2188                0.0000  \n",
       "2189                0.8021  \n",
       "\n",
       "[2190 rows x 5 columns]"
      ]
     },
     "execution_count": 9,
     "metadata": {},
     "output_type": "execute_result"
    }
   ],
   "source": [
    "aemo = download_current_aemo_cdeii_summary(start_time, end_time) # CONFIGURED FOR 2021-2022 DATA\n",
    "aemo"
   ]
  },
  {
   "cell_type": "markdown",
   "metadata": {},
   "source": [
    "#### Compute Error between Datasets"
   ]
  },
  {
   "cell_type": "code",
   "execution_count": 10,
   "metadata": {},
   "outputs": [],
   "source": [
    "def calculate_total_emissions_error(region):\n",
    "    sel_aemo = aemo[aemo['REGIONID']==region].reset_index(drop=True)\n",
    "    error_calc = [emissions_tot[region].values[i] - sel_aemo['TOTAL_EMISSIONS'][i] for i in range(min(len(emissions_tot[region]), len(sel_aemo['TOTAL_EMISSIONS']))-1)]\n",
    "    error_pct = [(error_calc[i] / sel_aemo['TOTAL_EMISSIONS'][i]) * 100 for i in range(len(error_calc)) if sel_aemo['TOTAL_EMISSIONS'][i]>10]\n",
    "    return error_pct\n",
    "\n",
    "def calculate_energy_error(region):\n",
    "    sel_aemo = aemo[aemo['REGIONID']==region].reset_index(drop=True)\n",
    "    error_calc_en = [energy[region].values[i] - sel_aemo['TOTAL_SENT_OUT_ENERGY'][i] for i in range(min(len(energy[region]), len(sel_aemo['TOTAL_SENT_OUT_ENERGY']))-1)]\n",
    "    error_pct_en = [(error_calc_en[i] / sel_aemo['TOTAL_SENT_OUT_ENERGY'][i]) * 100 for i in range(len(error_calc_en))]\n",
    "    return error_pct_en\n",
    "\n",
    "def calculate_intensity_error(region):\n",
    "    sel_aemo = aemo[aemo['REGIONID']==region].reset_index(drop=True)\n",
    "    error_calc = [emissions_avg[region].values[i] - sel_aemo['CO2E_INTENSITY_INDEX'][i] for i in range(min(len(emissions_avg[region]), len(sel_aemo['CO2E_INTENSITY_INDEX']))-1)]\n",
    "    error_pct = [(error_calc[i] / sel_aemo['CO2E_INTENSITY_INDEX'][i]) * 100 for i in range(len(error_calc))]\n",
    "    return error_pct"
   ]
  },
  {
   "cell_type": "markdown",
   "metadata": {},
   "source": [
    "#### Setup Plotting\n",
    "##### Energy Plot Format"
   ]
  },
  {
   "cell_type": "code",
   "execution_count": 11,
   "metadata": {},
   "outputs": [],
   "source": [
    "def plot_energy(region, color_idx):\n",
    "    sel_aemo = aemo[aemo['REGIONID']==region].reset_index(drop=True)\n",
    "\n",
    "    error_pct_en = calculate_energy_error(region)\n",
    "\n",
    "    fig = make_subplots(rows=4, cols=1, shared_xaxes=True, vertical_spacing=0.05,\n",
    "        specs=[[{\"rowspan\": 3}],[{}],[{}],[{\"rowspan\":1}]])\n",
    "    colors = px.colors.qualitative.Dark2\n",
    "\n",
    "    fig.update_layout(template=\"plotly_white\", title=f\"{region} Sent Out Generation<br><sub>NEM Emissions Data Tool (NEMED)</sub>\",\\\n",
    "        font={'family':'Raleway Semibold', 'size': 12}, legend={'orientation':'h', 'xanchor': 'center', 'x': 0.5, 'y':-0.2})\n",
    "    fig.update_yaxes(title_text=\"Total Energy (MWh)\", row=1, col=1)\n",
    "    fig.update_yaxes(title_text=\"Error wrt.<br>AEMO (%)\", row=4, col=1)\n",
    "    fig.update_xaxes(title_text=\"Date (Day)\", row=4, col=1)\n",
    "\n",
    "    fig.add_trace(go.Scatter(x=sel_aemo['SETTLEMENTDATE'],y=sel_aemo['TOTAL_SENT_OUT_ENERGY'],\\\n",
    "        name=\"AEMO CDEII Reported\",mode=\"lines+markers\",line_color=colors[7]),row=1,col=1)\n",
    "\n",
    "    fig.add_trace(go.Scatter(x=energy.index,y=energy[region].values,\\\n",
    "        name=\"nswED Calculated\",mode=\"lines+markers\",line_color=colors[color_idx]),row=1,col=1)\n",
    "\n",
    "    fig.add_trace(go.Scatter(x=energy.index,y=error_pct_en,\\\n",
    "        name=\"Calculation Error\", mode=\"lines\",line_color=colors[color_idx],line_dash='dot'),row=4,col=1)\n",
    "\n",
    "    fig.show()"
   ]
  },
  {
   "cell_type": "markdown",
   "metadata": {},
   "source": [
    "##### Total Emissions Plot Format"
   ]
  },
  {
   "cell_type": "code",
   "execution_count": 12,
   "metadata": {},
   "outputs": [],
   "source": [
    "def plot_emissions(region, color_idx):\n",
    "    sel_aemo = aemo[aemo['REGIONID']==region].reset_index(drop=True)\n",
    "\n",
    "    error_pct = calculate_total_emissions_error(region)\n",
    "        \n",
    "    fig = make_subplots(rows=4, cols=1, shared_xaxes=True, vertical_spacing=0.1,\n",
    "        specs=[[{\"rowspan\": 3}],[{}],[{}],[{\"rowspan\":1}]],)\n",
    "    colors = px.colors.qualitative.Dark2\n",
    "\n",
    "    fig.update_layout(template=\"plotly_white\", title=f\"{region} Total Emissions<br><sub>nsw Emissions Data Tool (NEMED)</sub>\",\\\n",
    "        font={'family':'Raleway Semibold', 'size': 12}, legend={'orientation':'h', 'xanchor': 'center', 'x': 0.5, 'y':-0.2})\n",
    "    fig.update_yaxes(title_text=\"Total Emissions (tCO2-e)\", row=1, col=1)\n",
    "    fig.update_yaxes(title_text=\"Error wrt.<br>AEMO (%)\", row=4, col=1)\n",
    "    fig.update_xaxes(title_text=\"Date (Day)\", row=4, col=1)\n",
    "\n",
    "    fig.add_trace(go.Scatter(x=sel_aemo['SETTLEMENTDATE'],y=sel_aemo['TOTAL_EMISSIONS'],\\\n",
    "        name=\"AEMO CDEII Report\",mode=\"lines+markers\",line_color=colors[7]),row=1,col=1)\n",
    "\n",
    "    fig.add_trace(go.Scatter(x=emissions_tot.index,y=emissions_tot[region].values,\\\n",
    "        name=\"nswED Calculated\",mode=\"lines+markers\",line_color=colors[color_idx]),row=1,col=1)\n",
    "\n",
    "    fig.add_trace(go.Scatter(x=emissions_tot.index[:-1],y=error_pct,\\\n",
    "        name=\"Calculation Error\", mode=\"lines\",line_color=colors[color_idx],line_dash='dot'),row=4,col=1)\n",
    "\n",
    "    fig.show()"
   ]
  },
  {
   "cell_type": "markdown",
   "metadata": {},
   "source": [
    "##### Emissions Intensity (Average Emissions) Plot Format"
   ]
  },
  {
   "cell_type": "code",
   "execution_count": 13,
   "metadata": {},
   "outputs": [],
   "source": [
    "def plot_intensity(region, color_idx):\n",
    "    sel_aemo = aemo[aemo['REGIONID']==region].reset_index(drop=True)\n",
    "\n",
    "    error_pct = calculate_intensity_error(region)\n",
    "        \n",
    "    fig = make_subplots(rows=4, cols=1, shared_xaxes=True, vertical_spacing=0.1,\n",
    "        specs=[[{\"rowspan\": 3}],[{}],[{}],[{\"rowspan\":1}]],)\n",
    "    colors = px.colors.qualitative.Dark2\n",
    "\n",
    "    fig.update_layout(template=\"plotly_white\", title=f\"{region} Average Emissions (Emissions Intensity)<br><sub>NEM Emissions Data Tool (NEMED)</sub>\",\\\n",
    "        font={'family':'Raleway Semibold', 'size': 12}, legend={'orientation':'h', 'xanchor': 'center', 'x': 0.5, 'y':-0.2})\n",
    "    fig.update_yaxes(title_text=\"Total Emissions (tCO2-e/MWh)\", row=1, col=1)\n",
    "    fig.update_yaxes(title_text=\"Error wrt.<br>AEMO (%)\", row=4, col=1)\n",
    "    fig.update_xaxes(title_text=\"Date (Day)\", row=4, col=1)\n",
    "\n",
    "    fig.add_trace(go.Scatter(x=sel_aemo['SETTLEMENTDATE'],y=sel_aemo['CO2E_INTENSITY_INDEX'],\\\n",
    "        name=\"AEMO CDEII Report\",mode=\"lines+markers\",line_color=colors[7]),row=1,col=1)\n",
    "\n",
    "    fig.add_trace(go.Scatter(x=emissions_avg.index,y=emissions_avg[region].values,\\\n",
    "        name=\"NEMED Calculated\",mode=\"lines+markers\",line_color=colors[color_idx]),row=1,col=1)\n",
    "\n",
    "    fig.add_trace(go.Scatter(x=emissions_avg.index[:-1],y=error_pct,\\\n",
    "        name=\"Calculation Error\", mode=\"lines\", line_color=colors[color_idx],line_dash='dot'),row=4,col=1)\n",
    "\n",
    "    fig.show()"
   ]
  },
  {
   "cell_type": "markdown",
   "metadata": {},
   "source": [
    "### Results - Comparison to AEMO"
   ]
  },
  {
   "cell_type": "markdown",
   "metadata": {},
   "source": [
    "#### NEM"
   ]
  },
  {
   "cell_type": "code",
   "execution_count": 14,
   "metadata": {},
   "outputs": [],
   "source": [
    "region = 'NEM'\n",
    "plot_energy(region, color_idx=0)\n",
    "plot_emissions(region, color_idx=0)\n",
    "plot_intensity(region, color_idx=0)"
   ]
  },
  {
   "cell_type": "markdown",
   "metadata": {},
   "source": [
    "```{include} charts_ex1/energy_nem.html\n",
    ":class: full-width\n",
    "```\n",
    "[<div style=\"text-align: right\"> <button type=\"button\">Open Plot as Fullscreen</button></div>](charts_ex1/energy_nem.html)\n",
    "\n",
    "```{include} charts_ex1/emissions_nem.html\n",
    ":class: full-width\n",
    "```\n",
    "[<div style=\"text-align: right\"> <button type=\"button\">Open Plot as Fullscreen</button></div>](charts_ex1/emissions_nem.html)\n",
    "\n",
    "```{include} charts_ex1/intensity_nem.html\n",
    ":class: full-width\n",
    "```\n",
    "[<div style=\"text-align: right\"> <button type=\"button\">Open Plot as Fullscreen</button></div>](charts_ex1/intensity_nem.html)"
   ]
  },
  {
   "cell_type": "markdown",
   "metadata": {},
   "source": [
    "#### NSW"
   ]
  },
  {
   "cell_type": "code",
   "execution_count": 15,
   "metadata": {},
   "outputs": [],
   "source": [
    "region = 'NSW1'\n",
    "plot_energy(region, color_idx=1)\n",
    "plot_emissions(region, color_idx=1)\n",
    "plot_intensity(region, color_idx=1)"
   ]
  },
  {
   "cell_type": "markdown",
   "metadata": {},
   "source": [
    "```{include} charts_ex1/energy_nsw.html\n",
    "```\n",
    "[<div style=\"text-align: right\"> <button type=\"button\">Open Plot as Fullscreen</button></div>](charts_ex1/energy_nsw.html)\n",
    "\n",
    "```{include} charts_ex1/emissions_nsw.html\n",
    "```\n",
    "[<div style=\"text-align: right\"> <button type=\"button\">Open Plot as Fullscreen</button></div>](charts_ex1/emissions_nsw.html)\n",
    "\n",
    "```{include} charts_ex1/intensity_nsw.html\n",
    "```\n",
    "[<div style=\"text-align: right\"> <button type=\"button\">Open Plot as Fullscreen</button></div>](charts_ex1/intensity_nsw.html)"
   ]
  },
  {
   "cell_type": "markdown",
   "metadata": {},
   "source": [
    "#### VIC"
   ]
  },
  {
   "cell_type": "code",
   "execution_count": 16,
   "metadata": {},
   "outputs": [],
   "source": [
    "region = 'VIC1'\n",
    "plot_energy(region, color_idx=3)\n",
    "plot_emissions(region, color_idx=3)\n",
    "plot_intensity(region, color_idx=3)"
   ]
  },
  {
   "cell_type": "markdown",
   "metadata": {},
   "source": [
    "```{include} charts_ex1/energy_vic.html\n",
    "```\n",
    "[<div style=\"text-align: right\"> <button type=\"button\">Open Plot as Fullscreen</button></div>](charts_ex1/energy_vic.html)\n",
    "\n",
    "```{include} charts_ex1/emissions_vic.html\n",
    "```\n",
    "[<div style=\"text-align: right\"> <button type=\"button\">Open Plot as Fullscreen</button></div>](charts_ex1/emissions_vic.html)\n",
    "\n",
    "```{include} charts_ex1/intensity_vic.html\n",
    "```\n",
    "[<div style=\"text-align: right\"> <button type=\"button\">Open Plot as Fullscreen</button></div>](charts_ex1/intensity_vic.html)"
   ]
  },
  {
   "cell_type": "markdown",
   "metadata": {},
   "source": [
    "#### QLD"
   ]
  },
  {
   "cell_type": "code",
   "execution_count": 17,
   "metadata": {},
   "outputs": [],
   "source": [
    "region = 'QLD1'\n",
    "plot_energy(region, color_idx=2)\n",
    "plot_emissions(region, color_idx=2)\n",
    "plot_intensity(region, color_idx=2)"
   ]
  },
  {
   "cell_type": "markdown",
   "metadata": {},
   "source": [
    "```{include} charts_ex1/energy_qld.html\n",
    "```\n",
    "[<div style=\"text-align: right\"> <button type=\"button\">Open Plot as Fullscreen</button></div>](charts_ex1/energy_qld.html)\n",
    "\n",
    "```{include} charts_ex1/emissions_qld.html\n",
    "```\n",
    "[<div style=\"text-align: right\"> <button type=\"button\">Open Plot as Fullscreen</button></div>](charts_ex1/emissions_qld.html)\n",
    "\n",
    "```{include} charts_ex1/intensity_qld.html\n",
    "```\n",
    "[<div style=\"text-align: right\"> <button type=\"button\">Open Plot as Fullscreen</button></div>](charts_ex1/intensity_qld.html)"
   ]
  },
  {
   "cell_type": "markdown",
   "metadata": {},
   "source": [
    "#### SA"
   ]
  },
  {
   "cell_type": "code",
   "execution_count": 18,
   "metadata": {},
   "outputs": [],
   "source": [
    "region = 'SA1'\n",
    "plot_energy(region, color_idx=4)\n",
    "plot_emissions(region, color_idx=4)\n",
    "plot_intensity(region, color_idx=4)"
   ]
  },
  {
   "cell_type": "markdown",
   "metadata": {},
   "source": [
    "```{include} charts_ex1/energy_sa.html\n",
    "```\n",
    "[<div style=\"text-align: right\"> <button type=\"button\">Open Plot as Fullscreen</button></div>](charts_ex1/energy_sa.html)\n",
    "\n",
    "```{include} charts_ex1/emissions_sa.html\n",
    "```\n",
    "[<div style=\"text-align: right\"> <button type=\"button\">Open Plot as Fullscreen</button></div>](charts_ex1/emissions_sa.html)\n",
    "\n",
    "```{include} charts_ex1/intensity_sa.html\n",
    "```\n",
    "[<div style=\"text-align: right\"> <button type=\"button\">Open Plot as Fullscreen</button></div>](charts_ex1/intensity_sa.html)"
   ]
  },
  {
   "cell_type": "markdown",
   "metadata": {},
   "source": [
    "#### TAS"
   ]
  },
  {
   "cell_type": "code",
   "execution_count": 19,
   "metadata": {},
   "outputs": [
    {
     "name": "stderr",
     "output_type": "stream",
     "text": [
      "C:\\Users\\derlu\\AppData\\Local\\Temp\\ipykernel_26716\\3118524504.py:16: RuntimeWarning:\n",
      "\n",
      "invalid value encountered in double_scalars\n",
      "\n"
     ]
    }
   ],
   "source": [
    "region = 'TAS1'\n",
    "plot_energy(region, color_idx=5)\n",
    "plot_emissions(region, color_idx=5)\n",
    "plot_intensity(region, color_idx=5)"
   ]
  },
  {
   "cell_type": "markdown",
   "metadata": {},
   "source": [
    "```{include} charts_ex1/energy_tas.html\n",
    "```\n",
    "[<div style=\"text-align: right\"> <button type=\"button\">Open Plot as Fullscreen</button></div>](charts_ex1/energy_tas.html)\n",
    "\n",
    "```{include} charts_ex1/emissions_tas.html\n",
    "```\n",
    "[<div style=\"text-align: right\"> <button type=\"button\">Open Plot as Fullscreen</button></div>](charts_ex1/emissions_tas.html)\n",
    "\n",
    "```{include} charts_ex1/intensity_tas.html\n",
    "```\n",
    "[<div style=\"text-align: right\"> <button type=\"button\">Open Plot as Fullscreen</button></div>](charts_ex1/intensity_tas.html)"
   ]
  },
  {
   "cell_type": "markdown",
   "metadata": {},
   "source": []
  }
 ],
 "metadata": {
  "kernelspec": {
   "display_name": "Python 3.9.12 ('nempy')",
   "language": "python",
   "name": "python3"
  },
  "language_info": {
   "codemirror_mode": {
    "name": "ipython",
    "version": 3
   },
   "file_extension": ".py",
   "mimetype": "text/x-python",
   "name": "python",
   "nbconvert_exporter": "python",
   "pygments_lexer": "ipython3",
   "version": "3.9.12"
  },
  "orig_nbformat": 4,
  "vscode": {
   "interpreter": {
    "hash": "4aab49ac747d4948ee2428bd46f4ac833ef94a37ecb38233c747c75e4d05fe4b"
   }
  }
 },
 "nbformat": 4,
 "nbformat_minor": 2
}
