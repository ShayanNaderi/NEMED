{
 "cells": [
  {
   "cell_type": "markdown",
   "metadata": {
    "mystnb": {
     "nb_execution_mode": "off"
    }
   },
   "source": [
    "# Marginal Emissions\n",
    "## Demonstration on using the marginal emissions feature of NEMED\n",
    "Using the package <code>nemed</code> to calculate hourly marginal emissions over a historical period."
   ]
  },
  {
   "cell_type": "markdown",
   "metadata": {},
   "source": [
    "### Data Preparation\n",
    "#### Import Packages"
   ]
  },
  {
   "cell_type": "code",
   "execution_count": 1,
   "metadata": {},
   "outputs": [],
   "source": [
    "import nemed\n",
    "\n",
    "# To generate plots shown\n",
    "import plotly.graph_objects as go\n",
    "import plotly.express as px\n",
    "from plotly.subplots import make_subplots"
   ]
  },
  {
   "cell_type": "code",
   "execution_count": 2,
   "metadata": {},
   "outputs": [],
   "source": [
    "# Open plot in browser (optional)\n",
    "import plotly.io as pio\n",
    "pio.renderers.default = \"browser\""
   ]
  },
  {
   "cell_type": "markdown",
   "metadata": {},
   "source": [
    "#### Define Parameters\n",
    "```{tip}\n",
    "Current Implementation will only load data based on `start_time` day and `end_time` day with the data series commencing\n",
    "at 04:05:00 and ending at 04:00:00\n",
    "```"
   ]
  },
  {
   "cell_type": "code",
   "execution_count": 3,
   "metadata": {},
   "outputs": [],
   "source": [
    "cache = \"E:/TEMPCACHE_LX/\"\n",
    "start_time = \"2022/07/01 00:00:00\" \n",
    "end_time = \"2022/08/01 00:00:00\"\n",
    "filter_units = None \n",
    "filter_regions = None"
   ]
  },
  {
   "cell_type": "markdown",
   "metadata": {},
   "source": [
    "#### Get data using NEMED"
   ]
  },
  {
   "cell_type": "code",
   "execution_count": 4,
   "metadata": {},
   "outputs": [
    {
     "name": "stdout",
     "output_type": "stream",
     "text": [
      "Retrieving static table Generators and Scheduled Loads.\n",
      "No existing JSON found for date 2022-06-30 00:00:00\n",
      "Redownloading XML data\n",
      "Downloading NEMDE XML file for year=2022, month=6, day=30\n",
      "Downloading NEMDE XML file for year=2022, month=7, day=1\n",
      "Downloading NEMDE XML file for year=2022, month=7, day=2\n",
      "Downloading NEMDE XML file for year=2022, month=7, day=3\n",
      "Downloading NEMDE XML file for year=2022, month=7, day=4\n",
      "Downloading NEMDE XML file for year=2022, month=7, day=5\n",
      "Downloading NEMDE XML file for year=2022, month=7, day=6\n",
      "Downloading NEMDE XML file for year=2022, month=7, day=7\n",
      "Downloading NEMDE XML file for year=2022, month=7, day=8\n",
      "Downloading NEMDE XML file for year=2022, month=7, day=9\n",
      "Downloading NEMDE XML file for year=2022, month=7, day=10\n",
      "Downloading NEMDE XML file for year=2022, month=7, day=11\n",
      "Downloading NEMDE XML file for year=2022, month=7, day=12\n",
      "Downloading NEMDE XML file for year=2022, month=7, day=13\n",
      "Downloading NEMDE XML file for year=2022, month=7, day=14\n",
      "Downloading NEMDE XML file for year=2022, month=7, day=15\n",
      "Downloading NEMDE XML file for year=2022, month=7, day=16\n",
      "Downloading NEMDE XML file for year=2022, month=7, day=17\n",
      "Downloading NEMDE XML file for year=2022, month=7, day=18\n",
      "Downloading NEMDE XML file for year=2022, month=7, day=19\n",
      "Downloading NEMDE XML file for year=2022, month=7, day=20\n",
      "Downloading NEMDE XML file for year=2022, month=7, day=21\n",
      "Downloading NEMDE XML file for year=2022, month=7, day=22\n",
      "Downloading NEMDE XML file for year=2022, month=7, day=23\n",
      "Downloading NEMDE XML file for year=2022, month=7, day=24\n",
      "Downloading NEMDE XML file for year=2022, month=7, day=25\n",
      "Downloading NEMDE XML file for year=2022, month=7, day=26\n",
      "Downloading NEMDE XML file for year=2022, month=7, day=27\n",
      "Downloading NEMDE XML file for year=2022, month=7, day=28\n",
      "Downloading NEMDE XML file for year=2022, month=7, day=29\n",
      "Downloading NEMDE XML file for year=2022, month=7, day=30\n",
      "Downloading NEMDE XML file for year=2022, month=7, day=31\n",
      "Downloading NEMDE XML file for year=2022, month=8, day=1\n",
      "Converting selected 8929 XML files to JSON, of 9505 cached files\n"
     ]
    },
    {
     "name": "stderr",
     "output_type": "stream",
     "text": [
      "100%|██████████| 8929/8929 [00:53<00:00, 167.03it/s]\n"
     ]
    },
    {
     "name": "stdout",
     "output_type": "stream",
     "text": [
      "Reading JSON to pandas Dataframe\n",
      "Reading selected 8929 JSON files to pandas, of 9505 cached files\n"
     ]
    },
    {
     "name": "stderr",
     "output_type": "stream",
     "text": [
      "100%|██████████| 8929/8929 [01:11<00:00, 124.89it/s]\n"
     ]
    }
   ],
   "source": [
    "result = nemed.get_marginal_emissions(start_time, end_time, cache, redownload_xml=False)"
   ]
  },
  {
   "cell_type": "markdown",
   "metadata": {},
   "source": [
    "#### Aggregate/Filter data\n",
    "Data retrieve from NEMED can be manually filtered (for now) as such..."
   ]
  },
  {
   "cell_type": "code",
   "execution_count": 9,
   "metadata": {},
   "outputs": [],
   "source": [
    "# Filter select region\n",
    "results = {}\n",
    "for region in ['NSW1','QLD1','VIC1','SA1','TAS1']:\n",
    "\n",
    "    reg_sum = result[result['RegionID'] == region]\n",
    "    reg_sum = reg_sum.drop_duplicates(subset=['PeriodID','CO2E_EMISSIONS_FACTOR','tech_name'])\n",
    "    reg_sum = reg_sum.reset_index(drop=True)[['PeriodID','RegionID','Dispatch Type','tech_name','CO2E_EMISSIONS_FACTOR','Date','Hour']]\n",
    "\n",
    "    # Hourly grouping\n",
    "    hourly_agg = reg_sum.groupby(by=['Hour']).mean()\n",
    "    hourly_agg.reset_index(inplace=True)\n",
    "    results[region] = hourly_agg"
   ]
  },
  {
   "cell_type": "markdown",
   "metadata": {},
   "source": [
    "An example of the data format this produces for South Australia..."
   ]
  },
  {
   "cell_type": "code",
   "execution_count": 11,
   "metadata": {},
   "outputs": [
    {
     "data": {
      "text/html": [
       "<div>\n",
       "<style scoped>\n",
       "    .dataframe tbody tr th:only-of-type {\n",
       "        vertical-align: middle;\n",
       "    }\n",
       "\n",
       "    .dataframe tbody tr th {\n",
       "        vertical-align: top;\n",
       "    }\n",
       "\n",
       "    .dataframe thead th {\n",
       "        text-align: right;\n",
       "    }\n",
       "</style>\n",
       "<table border=\"1\" class=\"dataframe\">\n",
       "  <thead>\n",
       "    <tr style=\"text-align: right;\">\n",
       "      <th></th>\n",
       "      <th>Hour</th>\n",
       "      <th>CO2E_EMISSIONS_FACTOR</th>\n",
       "    </tr>\n",
       "  </thead>\n",
       "  <tbody>\n",
       "    <tr>\n",
       "      <th>0</th>\n",
       "      <td>0</td>\n",
       "      <td>0.497064</td>\n",
       "    </tr>\n",
       "    <tr>\n",
       "      <th>1</th>\n",
       "      <td>1</td>\n",
       "      <td>0.449482</td>\n",
       "    </tr>\n",
       "    <tr>\n",
       "      <th>2</th>\n",
       "      <td>2</td>\n",
       "      <td>0.481346</td>\n",
       "    </tr>\n",
       "    <tr>\n",
       "      <th>3</th>\n",
       "      <td>3</td>\n",
       "      <td>0.362853</td>\n",
       "    </tr>\n",
       "    <tr>\n",
       "      <th>4</th>\n",
       "      <td>4</td>\n",
       "      <td>0.412288</td>\n",
       "    </tr>\n",
       "    <tr>\n",
       "      <th>5</th>\n",
       "      <td>5</td>\n",
       "      <td>0.356128</td>\n",
       "    </tr>\n",
       "    <tr>\n",
       "      <th>6</th>\n",
       "      <td>6</td>\n",
       "      <td>0.291657</td>\n",
       "    </tr>\n",
       "    <tr>\n",
       "      <th>7</th>\n",
       "      <td>7</td>\n",
       "      <td>0.285021</td>\n",
       "    </tr>\n",
       "    <tr>\n",
       "      <th>8</th>\n",
       "      <td>8</td>\n",
       "      <td>0.290229</td>\n",
       "    </tr>\n",
       "    <tr>\n",
       "      <th>9</th>\n",
       "      <td>9</td>\n",
       "      <td>0.293776</td>\n",
       "    </tr>\n",
       "    <tr>\n",
       "      <th>10</th>\n",
       "      <td>10</td>\n",
       "      <td>0.304576</td>\n",
       "    </tr>\n",
       "    <tr>\n",
       "      <th>11</th>\n",
       "      <td>11</td>\n",
       "      <td>0.271182</td>\n",
       "    </tr>\n",
       "    <tr>\n",
       "      <th>12</th>\n",
       "      <td>12</td>\n",
       "      <td>0.299729</td>\n",
       "    </tr>\n",
       "    <tr>\n",
       "      <th>13</th>\n",
       "      <td>13</td>\n",
       "      <td>0.260268</td>\n",
       "    </tr>\n",
       "    <tr>\n",
       "      <th>14</th>\n",
       "      <td>14</td>\n",
       "      <td>0.300319</td>\n",
       "    </tr>\n",
       "    <tr>\n",
       "      <th>15</th>\n",
       "      <td>15</td>\n",
       "      <td>0.326430</td>\n",
       "    </tr>\n",
       "    <tr>\n",
       "      <th>16</th>\n",
       "      <td>16</td>\n",
       "      <td>0.305413</td>\n",
       "    </tr>\n",
       "    <tr>\n",
       "      <th>17</th>\n",
       "      <td>17</td>\n",
       "      <td>0.275894</td>\n",
       "    </tr>\n",
       "    <tr>\n",
       "      <th>18</th>\n",
       "      <td>18</td>\n",
       "      <td>0.274237</td>\n",
       "    </tr>\n",
       "    <tr>\n",
       "      <th>19</th>\n",
       "      <td>19</td>\n",
       "      <td>0.308399</td>\n",
       "    </tr>\n",
       "    <tr>\n",
       "      <th>20</th>\n",
       "      <td>20</td>\n",
       "      <td>0.337112</td>\n",
       "    </tr>\n",
       "    <tr>\n",
       "      <th>21</th>\n",
       "      <td>21</td>\n",
       "      <td>0.399217</td>\n",
       "    </tr>\n",
       "    <tr>\n",
       "      <th>22</th>\n",
       "      <td>22</td>\n",
       "      <td>0.465382</td>\n",
       "    </tr>\n",
       "    <tr>\n",
       "      <th>23</th>\n",
       "      <td>23</td>\n",
       "      <td>0.437835</td>\n",
       "    </tr>\n",
       "  </tbody>\n",
       "</table>\n",
       "</div>"
      ],
      "text/plain": [
       "    Hour  CO2E_EMISSIONS_FACTOR\n",
       "0      0               0.497064\n",
       "1      1               0.449482\n",
       "2      2               0.481346\n",
       "3      3               0.362853\n",
       "4      4               0.412288\n",
       "5      5               0.356128\n",
       "6      6               0.291657\n",
       "7      7               0.285021\n",
       "8      8               0.290229\n",
       "9      9               0.293776\n",
       "10    10               0.304576\n",
       "11    11               0.271182\n",
       "12    12               0.299729\n",
       "13    13               0.260268\n",
       "14    14               0.300319\n",
       "15    15               0.326430\n",
       "16    16               0.305413\n",
       "17    17               0.275894\n",
       "18    18               0.274237\n",
       "19    19               0.308399\n",
       "20    20               0.337112\n",
       "21    21               0.399217\n",
       "22    22               0.465382\n",
       "23    23               0.437835"
      ]
     },
     "execution_count": 11,
     "metadata": {},
     "output_type": "execute_result"
    }
   ],
   "source": [
    "results['SA1']"
   ]
  },
  {
   "cell_type": "markdown",
   "metadata": {},
   "source": [
    "#### Setup Plotting\n",
    "##### Marginal Emissions Intensity Plot Format\n",
    "Showing the average emissions intensity on an hourly basis for the defined study period"
   ]
  },
  {
   "cell_type": "code",
   "execution_count": 26,
   "metadata": {},
   "outputs": [],
   "source": [
    "def plot_marginal_emissions_intensity(data, color_map={'NSW1':1, 'QLD1':2, 'VIC1':3, 'SA1':4, 'TAS1':5}):\n",
    "\n",
    "    fig = go.Figure()\n",
    "    colors = px.colors.qualitative.Dark2\n",
    "\n",
    "    fig.update_layout(template=\"plotly_white\", title=f\"NEM Regions Mean Marginal Emissions Intensity - July 2022<br><sub>NEM Emissions Data Tool (NEMED)</sub>\",\\\n",
    "        font={'family':'Raleway', 'size': 12}, legend={'orientation':'h', 'xanchor': 'center', 'x': 0.5, 'y':-0.1})\n",
    "    fig.update_yaxes(title_text=\"Mean Emissions Intensity (tCO2-e/MWh)\")\n",
    "    fig.update_xaxes(title_text=\"Hour\")\n",
    "\n",
    "    for region in results.keys():\n",
    "        fig.add_trace(go.Scatter(x=results[region]['Hour'],y=results[region]['CO2E_EMISSIONS_FACTOR'],\\\n",
    "            name=f\"{region}\",mode=\"lines+markers\",line_color=colors[color_map[region]]))\n",
    "\n",
    "    fig.show()"
   ]
  },
  {
   "cell_type": "code",
   "execution_count": 27,
   "metadata": {},
   "outputs": [],
   "source": [
    "plot_marginal_emissions_intensity(results)"
   ]
  },
  {
   "cell_type": "markdown",
   "metadata": {},
   "source": [
    "```{include} charts_ex2/hour_agg_allregions.html\n",
    "```"
   ]
  }
 ],
 "metadata": {
  "kernelspec": {
   "display_name": "Python 3.9.12 ('nempy')",
   "language": "python",
   "name": "python3"
  },
  "language_info": {
   "codemirror_mode": {
    "name": "ipython",
    "version": 3
   },
   "file_extension": ".py",
   "mimetype": "text/x-python",
   "name": "python",
   "nbconvert_exporter": "python",
   "pygments_lexer": "ipython3",
   "version": "3.9.12"
  },
  "orig_nbformat": 4,
  "vscode": {
   "interpreter": {
    "hash": "4aab49ac747d4948ee2428bd46f4ac833ef94a37ecb38233c747c75e4d05fe4b"
   }
  }
 },
 "nbformat": 4,
 "nbformat_minor": 2
}
