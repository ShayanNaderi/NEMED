{
 "cells": [
  {
   "cell_type": "markdown",
   "metadata": {
    "mystnb": {
     "nb_execution_mode": "off"
    }
   },
   "source": [
    "# Marginal Emissions\n",
    "## Demonstration on using the marginal emissions feature of NEMED\n",
    "Using the package <code>nemed</code> to calculate hourly marginal emissions over a historical period."
   ]
  },
  {
   "cell_type": "markdown",
   "metadata": {},
   "source": [
    "### Data Preparation\n",
    "#### Import Packages"
   ]
  },
  {
   "cell_type": "code",
   "execution_count": null,
   "metadata": {},
   "outputs": [],
   "source": [
    "import nemed\n",
    "\n",
    "# To generate plots shown\n",
    "import plotly.graph_objects as go\n",
    "import plotly.express as px\n",
    "from plotly.subplots import make_subplots"
   ]
  },
  {
   "cell_type": "code",
   "execution_count": null,
   "metadata": {},
   "outputs": [],
   "source": [
    "# Open plot in browser (optional)\n",
    "import plotly.io as pio\n",
    "pio.renderers.default = \"notebook\""
   ]
  },
  {
   "cell_type": "markdown",
   "metadata": {},
   "source": [
    "#### Define Parameters\n",
    "```{tip}\n",
    "Current Implementation will only load data based on `start_time` day and `end_time` day with the data series commencing\n",
    "at 04:05:00 and ending at 04:00:00\n",
    "```"
   ]
  },
  {
   "cell_type": "code",
   "execution_count": null,
   "metadata": {},
   "outputs": [],
   "source": [
    "cache = \"E:/TEMPCACHE_LX/\"\n",
    "start_time = \"2022/07/01 00:00:00\" \n",
    "end_time = \"2022/07/02 00:00:00\"\n",
    "filter_units = None \n",
    "filter_regions = None"
   ]
  },
  {
   "cell_type": "markdown",
   "metadata": {},
   "source": [
    "#### Get data using NEMED"
   ]
  },
  {
   "cell_type": "code",
   "execution_count": null,
   "metadata": {},
   "outputs": [],
   "source": [
    "result = nemed.get_marginal_emissions(start_time, end_time, cache, redownload_xml=False)"
   ]
  },
  {
   "cell_type": "markdown",
   "metadata": {},
   "source": [
    "#### Aggregate data\n",
    "By calling <code>aggregate_marginal_data_by</code> you can quickly organise data into a suitable aggregation.\n",
    "Some examples are:"
   ]
  },
  {
   "cell_type": "code",
   "execution_count": null,
   "metadata": {},
   "outputs": [],
   "source": [
    "from nemed.process import *\n",
    "#test = result.copy()\n",
    "test = result.copy().set_index('PeriodID')\n",
    "type(test.index[0])\n",
    "aggregate_marginal_data_by(test, by=\"interval\", maintain_dates=False, agg=\"mean\")"
   ]
  },
  {
   "cell_type": "code",
   "execution_count": null,
   "metadata": {},
   "outputs": [],
   "source": [
    "a = pd.Series([1,2,3])\n",
    "isinstance(a, pd.Series)"
   ]
  },
  {
   "cell_type": "code",
   "execution_count": null,
   "metadata": {},
   "outputs": [],
   "source": [
    "pd.DataFrame(a)"
   ]
  },
  {
   "cell_type": "code",
   "execution_count": null,
   "metadata": {},
   "outputs": [],
   "source": [
    "test.index.name = 'a'"
   ]
  },
  {
   "cell_type": "code",
   "execution_count": null,
   "metadata": {},
   "outputs": [],
   "source": [
    "if (not isinstance(test.index.values[0], (datetime, pd.Timestamp))) and (test.index.name != 'PeriodID'):\n",
    "    raise ValueError(\"`data` parsed must have datetime type as index with name 'PeriodID'\")\n"
   ]
  },
  {
   "cell_type": "code",
   "execution_count": null,
   "metadata": {},
   "outputs": [],
   "source": [
    "test.index.name"
   ]
  },
  {
   "cell_type": "code",
   "execution_count": null,
   "metadata": {},
   "outputs": [],
   "source": [
    "pd.Timestamp"
   ]
  },
  {
   "cell_type": "code",
   "execution_count": null,
   "metadata": {},
   "outputs": [],
   "source": [
    "result.set_index('PeriodID',inplace=True)\n",
    "result.index.name"
   ]
  },
  {
   "cell_type": "code",
   "execution_count": null,
   "metadata": {},
   "outputs": [],
   "source": [
    "inpdf = test[['PeriodID','RegionID','CO2E_EMISSIONS_FACTOR']].drop_duplicates()\n",
    "inpdf.set_index('PeriodID',inplace=True)\n",
    "aggregate_marginal_data_by(inpdf, by=\"day\", agg=\"mean\")"
   ]
  },
  {
   "cell_type": "code",
   "execution_count": null,
   "metadata": {},
   "outputs": [],
   "source": [
    "inpdf.index = [datetime(year=1000, month=1, day=1, hour=inpdf.index[i].hour, minute=inpdf.index[i].minute) for i in range(len(inpdf.index))]"
   ]
  },
  {
   "cell_type": "code",
   "execution_count": null,
   "metadata": {},
   "outputs": [],
   "source": [
    "inpdf"
   ]
  },
  {
   "cell_type": "code",
   "execution_count": null,
   "metadata": {},
   "outputs": [],
   "source": [
    "aggregate_marginal_data_by(inpdf, by=\"hour\", agg=\"mean\")"
   ]
  },
  {
   "cell_type": "code",
   "execution_count": null,
   "metadata": {},
   "outputs": [],
   "source": [
    "# Filter select region\n",
    "region = 'SA1'\n",
    "reg_sum = result[result['RegionID'] == region]\n",
    "reg_sum = reg_sum.drop_duplicates(subset=['PeriodID','CO2E_EMISSIONS_FACTOR','tech_name'])\n",
    "reg_sum = reg_sum.reset_index(drop=True)[['PeriodID','RegionID','Dispatch Type','tech_name','CO2E_EMISSIONS_FACTOR','Date','Hour']]\n",
    "\n",
    "# if tech name matches and em factor matches for same time, drop duplicates"
   ]
  },
  {
   "cell_type": "code",
   "execution_count": null,
   "metadata": {},
   "outputs": [],
   "source": [
    "reg_sum.set_index('PeriodID',inplace=True)"
   ]
  },
  {
   "cell_type": "code",
   "execution_count": null,
   "metadata": {},
   "outputs": [],
   "source": [
    "reg_sum[['CO2E_EMISSIONS_FACTOR']].resample('30min', label='right', origin='end').agg(np.min)"
   ]
  },
  {
   "cell_type": "code",
   "execution_count": null,
   "metadata": {},
   "outputs": [],
   "source": [
    "from nemed.process import *"
   ]
  },
  {
   "cell_type": "code",
   "execution_count": null,
   "metadata": {},
   "outputs": [],
   "source": [
    "aggregate_marginal_data_by(result, by=\"halfhour\", agg=\"mean\")"
   ]
  },
  {
   "cell_type": "code",
   "execution_count": null,
   "metadata": {},
   "outputs": [],
   "source": [
    "region = 'SA1'\n",
    "import numpy as np\n",
    "from datetime import datetime"
   ]
  },
  {
   "cell_type": "code",
   "execution_count": null,
   "metadata": {},
   "outputs": [],
   "source": [
    "#result.set_index('PeriodID',inplace=True)\n",
    "data=result\n",
    "result = data.groupby(by=[data.index.year,data.index.month,data.index.day,data.index.hour]).sum()\n",
    "\n",
    "# result[\"reconstr_time\"] = None\n",
    "# for row in result.index:\n",
    "#     result.loc[row, \"reconstr_time\"] = datetime(year=row[0], month=row[1], day=row[2], hour=row[3])\n",
    "# result.set_index(\"reconstr_time\", inplace=True)\n",
    "# result.index.name = \"Time\""
   ]
  },
  {
   "cell_type": "code",
   "execution_count": null,
   "metadata": {},
   "outputs": [],
   "source": [
    "result"
   ]
  },
  {
   "cell_type": "code",
   "execution_count": null,
   "metadata": {},
   "outputs": [],
   "source": [
    "reg_sum[reg_sum.duplicated()]"
   ]
  },
  {
   "cell_type": "code",
   "execution_count": null,
   "metadata": {},
   "outputs": [],
   "source": [
    "hourly_agg = reg_sum.groupby(by=['Hour']).mean()\n",
    "hourly_agg.reset_index(inplace=True)\n",
    "#hourly_agg['Timestamp'] = [str(hourly_agg['Date'][i]) + \" \" + str(hourly_agg['Hour'][i]) for i in range(len(hourly_agg))]\n",
    "hourly_agg"
   ]
  },
  {
   "cell_type": "markdown",
   "metadata": {},
   "source": [
    "#### Setup Plotting\n",
    "##### Marginal Emissions Intensity Plot Format"
   ]
  },
  {
   "cell_type": "code",
   "execution_count": null,
   "metadata": {},
   "outputs": [],
   "source": [
    "def plot_marginal_emissions_intensity(region, color_idx):\n",
    "\n",
    "    fig = go.Figure()\n",
    "\n",
    "    # fig = make_subplots(rows=4, cols=1, shared_xaxes=True, vertical_spacing=0.05,\n",
    "    #     specs=[[{\"rowspan\": 3}],[{}],[{}],[{\"rowspan\":1}]])\n",
    "    colors = px.colors.qualitative.Dark2\n",
    "\n",
    "    fig.update_layout(template=\"plotly_white\", title=f\"{region} Marginal Emissions Intensity<br><sub>NEM Emissions Data Tool (NEMED)</sub>\",\\\n",
    "        font={'family':'Raleway Semibold', 'size': 12}, legend={'orientation':'h', 'xanchor': 'center', 'x': 0.5, 'y':-0.2})\n",
    "    fig.update_yaxes(title_text=\"Emissions Intensity (tCO2-e/MWh)\")\n",
    "    fig.update_xaxes(title_text=\"Date (Day)\")\n",
    "\n",
    "    # fig.add_trace(go.Scatter(x=reg_sum['PeriodID'],y=reg_sum['CO2E_EMISSIONS_FACTOR'],\\\n",
    "    #     name=\"NEMED Marginal Intensity\",mode=\"lines+markers\",line_color=colors[color_idx]))\n",
    "\n",
    "    fig.add_trace(go.Scatter(x=hourly_agg['Hour'],y=hourly_agg['CO2E_EMISSIONS_FACTOR'],\\\n",
    "        name=\"NEMED Marginal Intensity\",mode=\"lines+markers\",line_color=colors[color_idx]))\n",
    "\n",
    "    # fig.add_trace(go.Scatter(x=energy.index,y=error_pct_en,\\\n",
    "    #     name=\"Calculation Error\", mode=\"lines\",line_color=colors[color_idx],line_dash='dot'),row=4,col=1)\n",
    "\n",
    "    fig.show()"
   ]
  },
  {
   "cell_type": "code",
   "execution_count": null,
   "metadata": {},
   "outputs": [],
   "source": [
    "plot_marginal_emissions_intensity('NSW1',3)"
   ]
  },
  {
   "cell_type": "markdown",
   "metadata": {},
   "source": [
    "##### Total Emissions Plot Format"
   ]
  },
  {
   "cell_type": "code",
   "execution_count": null,
   "metadata": {},
   "outputs": [],
   "source": [
    "def plot_emissions(region, color_idx):\n",
    "    sel_aemo = aemo[aemo['REGIONID']==region].reset_index(drop=True)\n",
    "\n",
    "    error_pct = calculate_total_emissions_error(region)\n",
    "        \n",
    "    fig = make_subplots(rows=4, cols=1, shared_xaxes=True, vertical_spacing=0.1,\n",
    "        specs=[[{\"rowspan\": 3}],[{}],[{}],[{\"rowspan\":1}]],)\n",
    "    colors = px.colors.qualitative.Dark2\n",
    "\n",
    "    fig.update_layout(template=\"plotly_white\", title=f\"{region} Total Emissions<br><sub>nsw Emissions Data Tool (NEMED)</sub>\",\\\n",
    "        font={'family':'Raleway Semibold', 'size': 12}, legend={'orientation':'h', 'xanchor': 'center', 'x': 0.5, 'y':-0.2})\n",
    "    fig.update_yaxes(title_text=\"Total Emissions (tCO2-e)\", row=1, col=1)\n",
    "    fig.update_yaxes(title_text=\"Error wrt.<br>AEMO (%)\", row=4, col=1)\n",
    "    fig.update_xaxes(title_text=\"Date (Day)\", row=4, col=1)\n",
    "\n",
    "    fig.add_trace(go.Scatter(x=sel_aemo['SETTLEMENTDATE'],y=sel_aemo['TOTAL_EMISSIONS'],\\\n",
    "        name=\"AEMO CDEII Report\",mode=\"lines+markers\",line_color=colors[7]),row=1,col=1)\n",
    "\n",
    "    fig.add_trace(go.Scatter(x=emissions_tot.index,y=emissions_tot[region].values,\\\n",
    "        name=\"nswED Calculated\",mode=\"lines+markers\",line_color=colors[color_idx]),row=1,col=1)\n",
    "\n",
    "    fig.add_trace(go.Scatter(x=emissions_tot.index[:-1],y=error_pct,\\\n",
    "        name=\"Calculation Error\", mode=\"lines\",line_color=colors[color_idx],line_dash='dot'),row=4,col=1)\n",
    "\n",
    "    fig.show()"
   ]
  },
  {
   "cell_type": "markdown",
   "metadata": {},
   "source": [
    "##### Emissions Intensity (Average Emissions) Plot Format"
   ]
  },
  {
   "cell_type": "code",
   "execution_count": null,
   "metadata": {},
   "outputs": [],
   "source": [
    "def plot_intensity(region, color_idx):\n",
    "    sel_aemo = aemo[aemo['REGIONID']==region].reset_index(drop=True)\n",
    "\n",
    "    error_pct = calculate_intensity_error(region)\n",
    "        \n",
    "    fig = make_subplots(rows=4, cols=1, shared_xaxes=True, vertical_spacing=0.1,\n",
    "        specs=[[{\"rowspan\": 3}],[{}],[{}],[{\"rowspan\":1}]],)\n",
    "    colors = px.colors.qualitative.Dark2\n",
    "\n",
    "    fig.update_layout(template=\"plotly_white\", title=f\"{region} Average Emissions (Emissions Intensity)<br><sub>NEM Emissions Data Tool (NEMED)</sub>\",\\\n",
    "        font={'family':'Raleway Semibold', 'size': 12}, legend={'orientation':'h', 'xanchor': 'center', 'x': 0.5, 'y':-0.2})\n",
    "    fig.update_yaxes(title_text=\"Total Emissions (tCO2-e/MWh)\", row=1, col=1)\n",
    "    fig.update_yaxes(title_text=\"Error wrt.<br>AEMO (%)\", row=4, col=1)\n",
    "    fig.update_xaxes(title_text=\"Date (Day)\", row=4, col=1)\n",
    "\n",
    "    fig.add_trace(go.Scatter(x=sel_aemo['SETTLEMENTDATE'],y=sel_aemo['CO2E_INTENSITY_INDEX'],\\\n",
    "        name=\"AEMO CDEII Report\",mode=\"lines+markers\",line_color=colors[7]),row=1,col=1)\n",
    "\n",
    "    fig.add_trace(go.Scatter(x=emissions_avg.index,y=emissions_avg[region].values,\\\n",
    "        name=\"NEMED Calculated\",mode=\"lines+markers\",line_color=colors[color_idx]),row=1,col=1)\n",
    "\n",
    "    fig.add_trace(go.Scatter(x=emissions_avg.index[:-1],y=error_pct,\\\n",
    "        name=\"Calculation Error\", mode=\"lines\", line_color=colors[color_idx],line_dash='dot'),row=4,col=1)\n",
    "\n",
    "    fig.show()"
   ]
  },
  {
   "cell_type": "markdown",
   "metadata": {},
   "source": [
    "### Results - Comparison to AEMO"
   ]
  },
  {
   "cell_type": "markdown",
   "metadata": {},
   "source": [
    "#### NEM"
   ]
  },
  {
   "cell_type": "code",
   "execution_count": null,
   "metadata": {},
   "outputs": [],
   "source": [
    "region = 'NEM'\n",
    "plot_energy(region, color_idx=0)\n",
    "plot_emissions(region, color_idx=0)\n",
    "plot_intensity(region, color_idx=0)"
   ]
  },
  {
   "cell_type": "markdown",
   "metadata": {},
   "source": [
    "```{include} charts_ex1/energy_nem.html\n",
    ":class: full-width\n",
    "```\n",
    "[<div style=\"text-align: right\"> <button type=\"button\">Open Plot as Fullscreen</button></div>](charts_ex1/energy_nem.html)\n",
    "\n",
    "```{include} charts_ex1/emissions_nem.html\n",
    ":class: full-width\n",
    "```\n",
    "[<div style=\"text-align: right\"> <button type=\"button\">Open Plot as Fullscreen</button></div>](charts_ex1/emissions_nem.html)\n",
    "\n",
    "```{include} charts_ex1/intensity_nem.html\n",
    ":class: full-width\n",
    "```\n",
    "[<div style=\"text-align: right\"> <button type=\"button\">Open Plot as Fullscreen</button></div>](charts_ex1/intensity_nem.html)"
   ]
  },
  {
   "cell_type": "markdown",
   "metadata": {},
   "source": [
    "#### NSW"
   ]
  },
  {
   "cell_type": "code",
   "execution_count": null,
   "metadata": {},
   "outputs": [],
   "source": [
    "region = 'NSW1'\n",
    "plot_energy(region, color_idx=1)\n",
    "plot_emissions(region, color_idx=1)\n",
    "plot_intensity(region, color_idx=1)"
   ]
  },
  {
   "cell_type": "markdown",
   "metadata": {},
   "source": [
    "```{include} charts_ex1/energy_nsw.html\n",
    "```\n",
    "[<div style=\"text-align: right\"> <button type=\"button\">Open Plot as Fullscreen</button></div>](charts_ex1/energy_nsw.html)\n",
    "\n",
    "```{include} charts_ex1/emissions_nsw.html\n",
    "```\n",
    "[<div style=\"text-align: right\"> <button type=\"button\">Open Plot as Fullscreen</button></div>](charts_ex1/emissions_nsw.html)\n",
    "\n",
    "```{include} charts_ex1/intensity_nsw.html\n",
    "```\n",
    "[<div style=\"text-align: right\"> <button type=\"button\">Open Plot as Fullscreen</button></div>](charts_ex1/intensity_nsw.html)"
   ]
  },
  {
   "cell_type": "markdown",
   "metadata": {},
   "source": [
    "#### VIC"
   ]
  },
  {
   "cell_type": "code",
   "execution_count": null,
   "metadata": {},
   "outputs": [],
   "source": [
    "region = 'VIC1'\n",
    "plot_energy(region, color_idx=3)\n",
    "plot_emissions(region, color_idx=3)\n",
    "plot_intensity(region, color_idx=3)"
   ]
  },
  {
   "cell_type": "markdown",
   "metadata": {},
   "source": [
    "```{include} charts_ex1/energy_vic.html\n",
    "```\n",
    "[<div style=\"text-align: right\"> <button type=\"button\">Open Plot as Fullscreen</button></div>](charts_ex1/energy_vic.html)\n",
    "\n",
    "```{include} charts_ex1/emissions_vic.html\n",
    "```\n",
    "[<div style=\"text-align: right\"> <button type=\"button\">Open Plot as Fullscreen</button></div>](charts_ex1/emissions_vic.html)\n",
    "\n",
    "```{include} charts_ex1/intensity_vic.html\n",
    "```\n",
    "[<div style=\"text-align: right\"> <button type=\"button\">Open Plot as Fullscreen</button></div>](charts_ex1/intensity_vic.html)"
   ]
  },
  {
   "cell_type": "markdown",
   "metadata": {},
   "source": [
    "#### QLD"
   ]
  },
  {
   "cell_type": "code",
   "execution_count": null,
   "metadata": {},
   "outputs": [],
   "source": [
    "region = 'QLD1'\n",
    "plot_energy(region, color_idx=2)\n",
    "plot_emissions(region, color_idx=2)\n",
    "plot_intensity(region, color_idx=2)"
   ]
  },
  {
   "cell_type": "markdown",
   "metadata": {},
   "source": [
    "```{include} charts_ex1/energy_qld.html\n",
    "```\n",
    "[<div style=\"text-align: right\"> <button type=\"button\">Open Plot as Fullscreen</button></div>](charts_ex1/energy_qld.html)\n",
    "\n",
    "```{include} charts_ex1/emissions_qld.html\n",
    "```\n",
    "[<div style=\"text-align: right\"> <button type=\"button\">Open Plot as Fullscreen</button></div>](charts_ex1/emissions_qld.html)\n",
    "\n",
    "```{include} charts_ex1/intensity_qld.html\n",
    "```\n",
    "[<div style=\"text-align: right\"> <button type=\"button\">Open Plot as Fullscreen</button></div>](charts_ex1/intensity_qld.html)"
   ]
  },
  {
   "cell_type": "markdown",
   "metadata": {},
   "source": [
    "#### SA"
   ]
  },
  {
   "cell_type": "code",
   "execution_count": null,
   "metadata": {},
   "outputs": [],
   "source": [
    "region = 'SA1'\n",
    "plot_energy(region, color_idx=4)\n",
    "plot_emissions(region, color_idx=4)\n",
    "plot_intensity(region, color_idx=4)"
   ]
  },
  {
   "cell_type": "markdown",
   "metadata": {},
   "source": [
    "```{include} charts_ex1/energy_sa.html\n",
    "```\n",
    "[<div style=\"text-align: right\"> <button type=\"button\">Open Plot as Fullscreen</button></div>](charts_ex1/energy_sa.html)\n",
    "\n",
    "```{include} charts_ex1/emissions_sa.html\n",
    "```\n",
    "[<div style=\"text-align: right\"> <button type=\"button\">Open Plot as Fullscreen</button></div>](charts_ex1/emissions_sa.html)\n",
    "\n",
    "```{include} charts_ex1/intensity_sa.html\n",
    "```\n",
    "[<div style=\"text-align: right\"> <button type=\"button\">Open Plot as Fullscreen</button></div>](charts_ex1/intensity_sa.html)"
   ]
  },
  {
   "cell_type": "markdown",
   "metadata": {},
   "source": [
    "#### TAS"
   ]
  },
  {
   "cell_type": "code",
   "execution_count": null,
   "metadata": {},
   "outputs": [],
   "source": [
    "region = 'TAS1'\n",
    "plot_energy(region, color_idx=5)\n",
    "plot_emissions(region, color_idx=5)\n",
    "plot_intensity(region, color_idx=5)"
   ]
  },
  {
   "cell_type": "markdown",
   "metadata": {},
   "source": [
    "```{include} charts_ex1/energy_tas.html\n",
    "```\n",
    "[<div style=\"text-align: right\"> <button type=\"button\">Open Plot as Fullscreen</button></div>](charts_ex1/energy_tas.html)\n",
    "\n",
    "```{include} charts_ex1/emissions_tas.html\n",
    "```\n",
    "[<div style=\"text-align: right\"> <button type=\"button\">Open Plot as Fullscreen</button></div>](charts_ex1/emissions_tas.html)\n",
    "\n",
    "```{include} charts_ex1/intensity_tas.html\n",
    "```\n",
    "[<div style=\"text-align: right\"> <button type=\"button\">Open Plot as Fullscreen</button></div>](charts_ex1/intensity_tas.html)"
   ]
  },
  {
   "cell_type": "markdown",
   "metadata": {},
   "source": []
  }
 ],
 "metadata": {
  "kernelspec": {
   "display_name": "Python 3.9.12 ('nempy')",
   "language": "python",
   "name": "python3"
  },
  "language_info": {
   "codemirror_mode": {
    "name": "ipython",
    "version": 3
   },
   "file_extension": ".py",
   "mimetype": "text/x-python",
   "name": "python",
   "nbconvert_exporter": "python",
   "pygments_lexer": "ipython3",
   "version": "3.9.12"
  },
  "orig_nbformat": 4,
  "vscode": {
   "interpreter": {
    "hash": "4aab49ac747d4948ee2428bd46f4ac833ef94a37ecb38233c747c75e4d05fe4b"
   }
  }
 },
 "nbformat": 4,
 "nbformat_minor": 2
}
